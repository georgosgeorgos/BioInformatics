{
 "cells": [
  {
   "cell_type": "markdown",
   "metadata": {},
   "source": [
    "# BioInformatics GROUP 5"
   ]
  },
  {
   "cell_type": "markdown",
   "metadata": {},
   "source": [
    "## Rheumatoid arthritis-related human-oral microbiome proteins "
   ]
  },
  {
   "cell_type": "code",
   "execution_count": 1,
   "metadata": {
    "collapsed": true
   },
   "outputs": [],
   "source": [
    "import bioservices as bi\n",
    "import pandas as pd\n",
    "import numpy as np\n",
    "import json"
   ]
  },
  {
   "cell_type": "code",
   "execution_count": 2,
   "metadata": {
    "collapsed": true
   },
   "outputs": [],
   "source": [
    "def save_json(name, data):\n",
    "    with open(name, \"w\") as f:\n",
    "         json.dump(data, f)\n",
    "    print(\"done.\")"
   ]
  },
  {
   "cell_type": "code",
   "execution_count": 3,
   "metadata": {
    "collapsed": false
   },
   "outputs": [],
   "source": [
    "def load_json(name, data=None):\n",
    "    with open(name, \"r\") as f:\n",
    "         data = json.load(f)\n",
    "    return data"
   ]
  },
  {
   "cell_type": "code",
   "execution_count": 4,
   "metadata": {
    "collapsed": false
   },
   "outputs": [],
   "source": [
    "seed_dict = load_json(\"../data/seed.json\")"
   ]
  },
  {
   "cell_type": "markdown",
   "metadata": {},
   "source": [
    "## seed symbol"
   ]
  },
  {
   "cell_type": "code",
   "execution_count": 196,
   "metadata": {
    "collapsed": true
   },
   "outputs": [],
   "source": [
    "seed=seed_dict[\"seed\"]"
   ]
  },
  {
   "cell_type": "markdown",
   "metadata": {},
   "source": [
    "## seed uniprot AC"
   ]
  },
  {
   "cell_type": "code",
   "execution_count": 195,
   "metadata": {
    "collapsed": true
   },
   "outputs": [],
   "source": [
    "seed_AC=seed_dict[\"seed_AC\"]"
   ]
  },
  {
   "cell_type": "markdown",
   "metadata": {},
   "source": [
    "## databases and mapping"
   ]
  },
  {
   "cell_type": "code",
   "execution_count": 7,
   "metadata": {
    "collapsed": false
   },
   "outputs": [],
   "source": [
    "biogrid=load_json(\"../data/biogrid/bioGrid.json\")"
   ]
  },
  {
   "cell_type": "code",
   "execution_count": 8,
   "metadata": {
    "collapsed": true
   },
   "outputs": [],
   "source": [
    "string=load_json(\"../data/string/String.json\")"
   ]
  },
  {
   "cell_type": "code",
   "execution_count": 9,
   "metadata": {
    "collapsed": true
   },
   "outputs": [],
   "source": [
    "apid=load_json(\"../data/apid/apid.json\")"
   ]
  },
  {
   "cell_type": "code",
   "execution_count": 10,
   "metadata": {
    "collapsed": true
   },
   "outputs": [],
   "source": [
    "biogrid_map=load_json(\"../data/biogrid/bioGrid_map_ENTRZ_UNIPROT.json\")"
   ]
  },
  {
   "cell_type": "code",
   "execution_count": 11,
   "metadata": {
    "collapsed": true
   },
   "outputs": [],
   "source": [
    "apid_map=load_json(\"../data/apid/apid_map_uniprotAC_sym.json\")"
   ]
  },
  {
   "cell_type": "code",
   "execution_count": 12,
   "metadata": {
    "collapsed": true
   },
   "outputs": [],
   "source": [
    "string_map=load_json(\"../data/string/String_map_UniprotID_UniprotAC.json\")"
   ]
  },
  {
   "cell_type": "markdown",
   "metadata": {},
   "source": [
    "# 3.2) Store the data gathered from the three DBs"
   ]
  },
  {
   "cell_type": "markdown",
   "metadata": {},
   "source": [
    "# protein A gene symbol, protein A Uniprot AC, interaction type, protein B gene symbol, protein B Uniprot AC, database source"
   ]
  },
  {
   "cell_type": "code",
   "execution_count": 13,
   "metadata": {
    "collapsed": true
   },
   "outputs": [],
   "source": [
    "def build_biogrid(biogrid, biogrid_map, flag=False):\n",
    "    n = len(biogrid[\"OFFICIAL_SYMBOL_A\"])\n",
    "    biogrid_new = {\"SYMBOL_A\": [], \"SYMBOL_B\": [], \"UNIPROT_AC_A\": [], \"UNIPROT_AC_B\": [], \"INTERACTION_TYPE\": [], \"SOURCE\": []}\n",
    "    \n",
    "    biogrid_new[\"SYMBOL_A\"]=biogrid[\"OFFICIAL_SYMBOL_A\"]\n",
    "    biogrid_new[\"SYMBOL_B\"]=biogrid[\"OFFICIAL_SYMBOL_B\"]\n",
    "    biogrid_new[\"INTERACTION_TYPE\"]=biogrid[\"EXPERIMENTAL_SYSTEM_TYPE\"]\n",
    "    \n",
    "    biogrid_new[\"UNIPROT_AC_A\"] = [biogrid_map.get(i) for i in biogrid[\"ENTREZ_GENE_A\"]]\n",
    "    biogrid_new[\"UNIPROT_AC_B\"] = [biogrid_map.get(i) for i in biogrid[\"ENTREZ_GENE_B\"]]\n",
    "    biogrid_new[\"SOURCE\"] = [\"BIOGRID\" for i in range(n)]\n",
    "    \n",
    "    biogrid_df=pd.DataFrame(biogrid_new, columns=[\"SYMBOL_A\", \"UNIPROT_AC_A\", \"INTERACTION_TYPE\", \"SYMBOL_B\", \"UNIPROT_AC_B\", \"SOURCE\"])\n",
    "    \n",
    "    if flag:\n",
    "        save_json(\"./data/biogrid/BIOGRID.json\", biogrid_new)\n",
    "        biogrid_df.to_csv(\"./data/biogrid/BIOGRID.csv\")\n",
    "    return biogrid_df"
   ]
  },
  {
   "cell_type": "code",
   "execution_count": 14,
   "metadata": {
    "collapsed": false
   },
   "outputs": [],
   "source": [
    "biogrid_df=build_biogrid(biogrid, biogrid_map)"
   ]
  },
  {
   "cell_type": "code",
   "execution_count": 30,
   "metadata": {
    "collapsed": true
   },
   "outputs": [],
   "source": [
    "def build_string(string, string_map, flag=False):\n",
    "    n = len(string[\"preferredName_A\"])\n",
    "    string_new = {\"SYMBOL_A\": [], \"SYMBOL_B\": [], \"UNIPROT_AC_A\": [], \"UNIPROT_AC_B\": [], \"INTERACTION_TYPE\": [], \"SOURCE\": []}\n",
    "    \n",
    "    string_new[\"SYMBOL_A\"]=string[\"preferredName_A\"]\n",
    "    string_new[\"SYMBOL_B\"]=string[\"preferredName_B\"]\n",
    "    string_new[\"INTERACTION_TYPE\"]=[None for i in range(n)]\n",
    "    \n",
    "    string_new[\"UNIPROT_AC_A\"] = [string_map.get(i) for i in string[\"preferredName_A\"]]\n",
    "    string_new[\"UNIPROT_AC_B\"] = [string_map.get(i) for i in string[\"preferredName_B\"]]\n",
    "    string_new[\"SOURCE\"] = [\"STRING\" for i in range(n)]\n",
    "    \n",
    "    string_df=pd.DataFrame(string_new, columns=[\"SYMBOL_A\", \"UNIPROT_AC_A\", \"INTERACTION_TYPE\", \"SYMBOL_B\", \"UNIPROT_AC_B\", \"SOURCE\"])\n",
    "    \n",
    "    if flag:\n",
    "        save_json(\"./data/string/STRING.json\", string_new)\n",
    "        string_df.to_csv(\"./data/string/STRING.csv\")\n",
    "    return string_df"
   ]
  },
  {
   "cell_type": "code",
   "execution_count": 16,
   "metadata": {
    "collapsed": true
   },
   "outputs": [],
   "source": [
    "mapping_string=load_json(\"../data/string/String_map_UniprotID_UniprotAC.json\")"
   ]
  },
  {
   "cell_type": "code",
   "execution_count": 31,
   "metadata": {
    "collapsed": false
   },
   "outputs": [],
   "source": [
    "string_df=build_string(string, mapping_string)"
   ]
  },
  {
   "cell_type": "code",
   "execution_count": 59,
   "metadata": {
    "collapsed": true
   },
   "outputs": [],
   "source": [
    "def build_apid(apid, apid_map, flag=False):\n",
    "    apid_A=[]\n",
    "    apid_B=[]\n",
    "    for k in apid:\n",
    "        for i in apid[k]:\n",
    "            apid_A.append(k)\n",
    "            apid_B.append(i)\n",
    "    sym_A=[apid_map.get(i) for i in apid_A]\n",
    "    sym_B=[apid_map.get(i) for i in apid_B]\n",
    "    \n",
    "    n = len(apid_A)\n",
    "    apid_new = {\"SYMBOL_A\": [], \"SYMBOL_B\": [], \"UNIPROT_AC_A\": [], \"UNIPROT_AC_B\": [], \"INTERACTION_TYPE\": [], \"SOURCE\": []}\n",
    "    \n",
    "    apid_new[\"SYMBOL_A\"]=sym_A\n",
    "    apid_new[\"SYMBOL_B\"]=sym_B\n",
    "    apid_new[\"INTERACTION_TYPE\"]=[None for i in range(n)]\n",
    "    \n",
    "    apid_new[\"UNIPROT_AC_A\"] = apid_A\n",
    "    apid_new[\"UNIPROT_AC_B\"] = apid_B\n",
    "    apid_new[\"SOURCE\"] = [\"APID\" for i in range(n)]\n",
    "    \n",
    "    apid_df=pd.DataFrame(apid_new, columns=[\"SYMBOL_A\", \"UNIPROT_AC_A\", \"INTERACTION_TYPE\", \"SYMBOL_B\", \"UNIPROT_AC_B\", \"SOURCE\"])\n",
    "    \n",
    "    if flag:\n",
    "        save_json(\"./data/apid/APID.json\", apid_new)\n",
    "        apid_df.to_csv(\"./data/apid/APID.csv\")\n",
    "    return apid_df"
   ]
  },
  {
   "cell_type": "code",
   "execution_count": 181,
   "metadata": {
    "collapsed": true
   },
   "outputs": [],
   "source": [
    "apid_df = build_apid(apid, apid_map)"
   ]
  },
  {
   "cell_type": "code",
   "execution_count": 198,
   "metadata": {
    "collapsed": true
   },
   "outputs": [],
   "source": [
    "databases = {\"biogrid\": biogrid_df, \"string\": string_df, \"apid\": apid_df}"
   ]
  },
  {
   "cell_type": "code",
   "execution_count": 199,
   "metadata": {
    "collapsed": false
   },
   "outputs": [
    {
     "data": {
      "text/html": [
       "<div>\n",
       "<table border=\"1\" class=\"dataframe\">\n",
       "  <thead>\n",
       "    <tr style=\"text-align: right;\">\n",
       "      <th></th>\n",
       "      <th>SYMBOL_A</th>\n",
       "      <th>UNIPROT_AC_A</th>\n",
       "      <th>INTERACTION_TYPE</th>\n",
       "      <th>SYMBOL_B</th>\n",
       "      <th>UNIPROT_AC_B</th>\n",
       "      <th>SOURCE</th>\n",
       "    </tr>\n",
       "  </thead>\n",
       "  <tbody>\n",
       "    <tr>\n",
       "      <th>0</th>\n",
       "      <td>CDKN2A</td>\n",
       "      <td>G3XAG3</td>\n",
       "      <td>physical</td>\n",
       "      <td>PCNA</td>\n",
       "      <td>P12004</td>\n",
       "      <td>BIOGRID</td>\n",
       "    </tr>\n",
       "    <tr>\n",
       "      <th>1</th>\n",
       "      <td>RUVBL1</td>\n",
       "      <td>B3KRS7</td>\n",
       "      <td>physical</td>\n",
       "      <td>H2AFX</td>\n",
       "      <td>P16104</td>\n",
       "      <td>BIOGRID</td>\n",
       "    </tr>\n",
       "    <tr>\n",
       "      <th>2</th>\n",
       "      <td>ABI1</td>\n",
       "      <td>A0A0A0MRT6</td>\n",
       "      <td>physical</td>\n",
       "      <td>ENAH</td>\n",
       "      <td>Q8N8S7</td>\n",
       "      <td>BIOGRID</td>\n",
       "    </tr>\n",
       "    <tr>\n",
       "      <th>3</th>\n",
       "      <td>HMOX2</td>\n",
       "      <td>A0A087WT44</td>\n",
       "      <td>physical</td>\n",
       "      <td>PTRH2</td>\n",
       "      <td>J3KQ48</td>\n",
       "      <td>BIOGRID</td>\n",
       "    </tr>\n",
       "    <tr>\n",
       "      <th>4</th>\n",
       "      <td>CUL7</td>\n",
       "      <td>Q14999</td>\n",
       "      <td>physical</td>\n",
       "      <td>SKP1</td>\n",
       "      <td>P63208</td>\n",
       "      <td>BIOGRID</td>\n",
       "    </tr>\n",
       "  </tbody>\n",
       "</table>\n",
       "</div>"
      ],
      "text/plain": [
       "  SYMBOL_A UNIPROT_AC_A INTERACTION_TYPE SYMBOL_B UNIPROT_AC_B   SOURCE\n",
       "0   CDKN2A       G3XAG3         physical     PCNA       P12004  BIOGRID\n",
       "1   RUVBL1       B3KRS7         physical    H2AFX       P16104  BIOGRID\n",
       "2     ABI1   A0A0A0MRT6         physical     ENAH       Q8N8S7  BIOGRID\n",
       "3    HMOX2   A0A087WT44         physical    PTRH2       J3KQ48  BIOGRID\n",
       "4     CUL7       Q14999         physical     SKP1       P63208  BIOGRID"
      ]
     },
     "execution_count": 199,
     "metadata": {},
     "output_type": "execute_result"
    }
   ],
   "source": [
    "biogrid_df.head()"
   ]
  },
  {
   "cell_type": "code",
   "execution_count": 200,
   "metadata": {
    "collapsed": false
   },
   "outputs": [
    {
     "data": {
      "text/html": [
       "<div>\n",
       "<table border=\"1\" class=\"dataframe\">\n",
       "  <thead>\n",
       "    <tr style=\"text-align: right;\">\n",
       "      <th></th>\n",
       "      <th>SYMBOL_A</th>\n",
       "      <th>UNIPROT_AC_A</th>\n",
       "      <th>INTERACTION_TYPE</th>\n",
       "      <th>SYMBOL_B</th>\n",
       "      <th>UNIPROT_AC_B</th>\n",
       "      <th>SOURCE</th>\n",
       "    </tr>\n",
       "  </thead>\n",
       "  <tbody>\n",
       "    <tr>\n",
       "      <th>0</th>\n",
       "      <td>CUL2</td>\n",
       "      <td>Q13617</td>\n",
       "      <td>None</td>\n",
       "      <td>Q5NGN2</td>\n",
       "      <td>Q5NGN2</td>\n",
       "      <td>APID</td>\n",
       "    </tr>\n",
       "    <tr>\n",
       "      <th>1</th>\n",
       "      <td>CUL2</td>\n",
       "      <td>Q13617</td>\n",
       "      <td>None</td>\n",
       "      <td>CAND1</td>\n",
       "      <td>Q86VP6</td>\n",
       "      <td>APID</td>\n",
       "    </tr>\n",
       "    <tr>\n",
       "      <th>2</th>\n",
       "      <td>CUL2</td>\n",
       "      <td>Q13617</td>\n",
       "      <td>None</td>\n",
       "      <td>LLR1</td>\n",
       "      <td>Q96L50</td>\n",
       "      <td>APID</td>\n",
       "    </tr>\n",
       "    <tr>\n",
       "      <th>3</th>\n",
       "      <td>CUL2</td>\n",
       "      <td>Q13617</td>\n",
       "      <td>None</td>\n",
       "      <td>ELOC</td>\n",
       "      <td>Q15369</td>\n",
       "      <td>APID</td>\n",
       "    </tr>\n",
       "    <tr>\n",
       "      <th>4</th>\n",
       "      <td>CUL2</td>\n",
       "      <td>Q13617</td>\n",
       "      <td>None</td>\n",
       "      <td>RBX1</td>\n",
       "      <td>P62877</td>\n",
       "      <td>APID</td>\n",
       "    </tr>\n",
       "  </tbody>\n",
       "</table>\n",
       "</div>"
      ],
      "text/plain": [
       "  SYMBOL_A UNIPROT_AC_A INTERACTION_TYPE SYMBOL_B UNIPROT_AC_B SOURCE\n",
       "0     CUL2       Q13617             None   Q5NGN2       Q5NGN2   APID\n",
       "1     CUL2       Q13617             None    CAND1       Q86VP6   APID\n",
       "2     CUL2       Q13617             None     LLR1       Q96L50   APID\n",
       "3     CUL2       Q13617             None     ELOC       Q15369   APID\n",
       "4     CUL2       Q13617             None     RBX1       P62877   APID"
      ]
     },
     "execution_count": 200,
     "metadata": {},
     "output_type": "execute_result"
    }
   ],
   "source": [
    "apid_df.head()"
   ]
  },
  {
   "cell_type": "code",
   "execution_count": 201,
   "metadata": {
    "collapsed": false
   },
   "outputs": [
    {
     "data": {
      "text/html": [
       "<div>\n",
       "<table border=\"1\" class=\"dataframe\">\n",
       "  <thead>\n",
       "    <tr style=\"text-align: right;\">\n",
       "      <th></th>\n",
       "      <th>SYMBOL_A</th>\n",
       "      <th>UNIPROT_AC_A</th>\n",
       "      <th>INTERACTION_TYPE</th>\n",
       "      <th>SYMBOL_B</th>\n",
       "      <th>UNIPROT_AC_B</th>\n",
       "      <th>SOURCE</th>\n",
       "    </tr>\n",
       "  </thead>\n",
       "  <tbody>\n",
       "    <tr>\n",
       "      <th>0</th>\n",
       "      <td>VAMP3</td>\n",
       "      <td>Q15836</td>\n",
       "      <td>None</td>\n",
       "      <td>ARF5</td>\n",
       "      <td>P84085</td>\n",
       "      <td>STRING</td>\n",
       "    </tr>\n",
       "    <tr>\n",
       "      <th>1</th>\n",
       "      <td>PLEK</td>\n",
       "      <td>P08567</td>\n",
       "      <td>None</td>\n",
       "      <td>ARF5</td>\n",
       "      <td>P84085</td>\n",
       "      <td>STRING</td>\n",
       "    </tr>\n",
       "    <tr>\n",
       "      <th>2</th>\n",
       "      <td>ZAP70</td>\n",
       "      <td>P43403</td>\n",
       "      <td>None</td>\n",
       "      <td>PLEK</td>\n",
       "      <td>P08567</td>\n",
       "      <td>STRING</td>\n",
       "    </tr>\n",
       "    <tr>\n",
       "      <th>3</th>\n",
       "      <td>ARF1</td>\n",
       "      <td>P84077</td>\n",
       "      <td>None</td>\n",
       "      <td>ARF5</td>\n",
       "      <td>P84085</td>\n",
       "      <td>STRING</td>\n",
       "    </tr>\n",
       "    <tr>\n",
       "      <th>4</th>\n",
       "      <td>ARF1</td>\n",
       "      <td>P84077</td>\n",
       "      <td>None</td>\n",
       "      <td>PLEK</td>\n",
       "      <td>P08567</td>\n",
       "      <td>STRING</td>\n",
       "    </tr>\n",
       "  </tbody>\n",
       "</table>\n",
       "</div>"
      ],
      "text/plain": [
       "  SYMBOL_A UNIPROT_AC_A INTERACTION_TYPE SYMBOL_B UNIPROT_AC_B  SOURCE\n",
       "0    VAMP3       Q15836             None     ARF5       P84085  STRING\n",
       "1     PLEK       P08567             None     ARF5       P84085  STRING\n",
       "2    ZAP70       P43403             None     PLEK       P08567  STRING\n",
       "3     ARF1       P84077             None     ARF5       P84085  STRING\n",
       "4     ARF1       P84077             None     PLEK       P08567  STRING"
      ]
     },
     "execution_count": 201,
     "metadata": {},
     "output_type": "execute_result"
    }
   ],
   "source": [
    "string_df.head()"
   ]
  },
  {
   "cell_type": "markdown",
   "metadata": {},
   "source": [
    "## 3.3)"
   ]
  },
  {
   "cell_type": "code",
   "execution_count": 202,
   "metadata": {
    "collapsed": true
   },
   "outputs": [],
   "source": [
    "def check_seed_AC(data, seed_AC):\n",
    "    s = set(seed_AC)\n",
    "    set_data=set(data[\"UNIPROT_AC_A\"]).union(set(data[\"UNIPROT_AC_B\"]))\n",
    "    logic=len(set_data.intersection(s)) == len(seed_AC)\n",
    "    if logic:\n",
    "        print(len(set_data.intersection(s)))\n",
    "    return logic\n",
    "\n",
    "def check_seed_symb(data, seed):\n",
    "    s = set(seed)\n",
    "    set_data=set(data[\"SYMBOL_A\"]).union(set(data[\"SYMBOL_B\"]))\n",
    "    logic=len(set_data.intersection(s)) == len(seed)\n",
    "    if logic:\n",
    "        print(len(set_data.intersection(s)))\n",
    "    return logic\n",
    "\n",
    "def check_seed(data, seed, seed_AC):\n",
    "    logic1=check_seed_symb(data, seed)\n",
    "    logic2=check_seed_AC(data, seed_AC)\n",
    "    if logic1 == True:\n",
    "        print(\"Symbol\")\n",
    "    if logic2 == True:\n",
    "        print(\"Uniprot_AC\")\n",
    "    return logic1 or logic2"
   ]
  },
  {
   "cell_type": "markdown",
   "metadata": {},
   "source": [
    "## no. of seed genes found in each different DBs"
   ]
  },
  {
   "cell_type": "code",
   "execution_count": 203,
   "metadata": {
    "collapsed": false,
    "scrolled": true
   },
   "outputs": [
    {
     "name": "stdout",
     "output_type": "stream",
     "text": [
      "54\n",
      "Symbol\n",
      "biogrid:  True\n",
      "54\n",
      "Symbol\n",
      "string:  True\n",
      "54\n",
      "Uniprot_AC\n",
      "apid:  True\n"
     ]
    }
   ],
   "source": [
    "for d in databases:\n",
    "    print(d + \": \", check_seed(databases[d], seed, seed_AC))"
   ]
  },
  {
   "cell_type": "markdown",
   "metadata": {},
   "source": [
    "## total no. of interacting proteins, including seed genes, for each DB;"
   ]
  },
  {
   "cell_type": "code",
   "execution_count": 189,
   "metadata": {
    "collapsed": true
   },
   "outputs": [],
   "source": [
    "def check_set_genes(data, flag=\"symbol\"):\n",
    "    \n",
    "    if flag==\"symbol\":\n",
    "        tot=set(data[\"SYMBOL_A\"]).union(set(data[\"SYMBOL_B\"]))\n",
    "    elif flag==\"uniprot_AC\":\n",
    "        tot=set(data[\"UNIPROT_AC_A\"]).union(set(data[\"UNIPROT_AC_B\"]))\n",
    "    return tot"
   ]
  },
  {
   "cell_type": "code",
   "execution_count": 204,
   "metadata": {
    "collapsed": false,
    "scrolled": true
   },
   "outputs": [
    {
     "name": "stdout",
     "output_type": "stream",
     "text": [
      "biogrid:  3898 symbol\n",
      "string:  6019 symbol\n",
      "apid:  4505 symbol\n"
     ]
    }
   ],
   "source": [
    "for d in databases:\n",
    "    print(d + \": \", len(check_set_genes(databases[d])), \"symbol\")"
   ]
  },
  {
   "cell_type": "code",
   "execution_count": 205,
   "metadata": {
    "collapsed": false
   },
   "outputs": [
    {
     "name": "stdout",
     "output_type": "stream",
     "text": [
      "biogrid:  3898 uniprot_AC\n",
      "string:  6019 uniprot_AC\n",
      "apid:  4505 uniprot_AC\n"
     ]
    }
   ],
   "source": [
    "for d in databases:\n",
    "    print(d + \": \", len(check_set_genes(databases[d])), \"uniprot_AC\")"
   ]
  },
  {
   "cell_type": "markdown",
   "metadata": {},
   "source": [
    "## total no. of interactions found in each DB (without repetition)"
   ]
  },
  {
   "cell_type": "code",
   "execution_count": 206,
   "metadata": {
    "collapsed": false
   },
   "outputs": [],
   "source": [
    "def check_gene_interaction(data, symA, symB, seed):\n",
    "\n",
    "    A=data[symA]\n",
    "    B=data[symB]\n",
    "    interactions=list(zip(A,B))\n",
    "\n",
    "    interactions_set = set()\n",
    "    interactions_set_seed = set()\n",
    "\n",
    "    for t in interactions:\n",
    "        if t[0] != t[1]:\n",
    "            l1=(t[0], t[1])\n",
    "            l2=(t[1], t[0])\n",
    "\n",
    "            if ( (l1 not in interactions_set) and (l2 not in interactions_set) ): \n",
    "                interactions_set.add(l1)\n",
    "\n",
    "            if t[0] in seed or t[1] in seed:\n",
    "                if ( (l1 not in interactions_set_seed) and (l2 not in interactions_set_seed) ): \n",
    "                    interactions_set_seed.add(l1)\n",
    "    return interactions_set, interactions_set_seed"
   ]
  },
  {
   "cell_type": "code",
   "execution_count": 207,
   "metadata": {
    "collapsed": false
   },
   "outputs": [
    {
     "name": "stdout",
     "output_type": "stream",
     "text": [
      "interactions biogrid:  36301\n",
      "interactions with seed biogrid:  5834\n",
      "\n",
      "interactions string:  275510\n",
      "interactions with seed string:  11994\n",
      "\n",
      "interactions apid:  7219\n",
      "interactions with seed apid:  4293\n",
      "\n"
     ]
    }
   ],
   "source": [
    "for d in databases:\n",
    "    interactions_set, interactions_set_seed=check_gene_interaction(databases[d], \"SYMBOL_A\", \"SYMBOL_B\", seed)\n",
    "    \n",
    "    print(\"interactions \" + d + \": \", len(interactions_set))\n",
    "    print(\"interactions with seed \" + d + \": \", len(interactions_set_seed))\n",
    "    print()"
   ]
  },
  {
   "cell_type": "code",
   "execution_count": 208,
   "metadata": {
    "collapsed": false,
    "scrolled": true
   },
   "outputs": [
    {
     "name": "stdout",
     "output_type": "stream",
     "text": [
      "interactions biogrid:  36021\n",
      "interactions with seed biogrid:  2629\n",
      "\n",
      "interactions string:  256316\n",
      "interactions with seed string:  10418\n",
      "\n",
      "interactions apid:  7463\n",
      "interactions with seed apid:  7463\n",
      "\n"
     ]
    }
   ],
   "source": [
    "for d in databases:\n",
    "    interactions_set, interactions_set_seed=check_gene_interaction(databases[d], \"UNIPROT_AC_A\", \"UNIPROT_AC_B\", seed_AC)\n",
    "    \n",
    "    print(\"interactions \" + d + \": \", len(interactions_set))\n",
    "    print(\"interactions with seed \" + d + \": \", len(interactions_set_seed))\n",
    "    print()"
   ]
  },
  {
   "cell_type": "markdown",
   "metadata": {},
   "source": [
    "### build new databases with only rows where there is at least a gene seed"
   ]
  },
  {
   "cell_type": "code",
   "execution_count": 212,
   "metadata": {
    "collapsed": false
   },
   "outputs": [],
   "source": [
    "def retrieve_indices(data, seed_AC, col1=\"UNIPROT_AC_A\", col2=\"UNIPROT_AC_B\"):\n",
    "\n",
    "    idx = []\n",
    "    for i in seed_AC:\n",
    "        ix = data[col1].index[data[col1] == i].tolist()\n",
    "        idx.extend(ix)\n",
    "        \n",
    "    for i in seed_AC:\n",
    "        ix = data[col2].index[data[col2] == i].tolist()\n",
    "        idx.extend(ix)\n",
    "        \n",
    "    idx = sorted(set(idx))\n",
    "    return idx"
   ]
  },
  {
   "cell_type": "code",
   "execution_count": 213,
   "metadata": {
    "collapsed": false,
    "scrolled": true
   },
   "outputs": [],
   "source": [
    "def build_databases_seeds(databases):\n",
    "    '''compute databases with only interactions with at least one seed gene'''\n",
    "    seed_databases = {}\n",
    "\n",
    "    for d in databases:\n",
    "        idx=retrieve_indices(databases[d], seed_AC)\n",
    "\n",
    "        subsample = databases[d].iloc[idx]\n",
    "        print(d)\n",
    "        seed_databases[d] = subsample\n",
    "    return seed_databases"
   ]
  },
  {
   "cell_type": "code",
   "execution_count": 214,
   "metadata": {
    "collapsed": false
   },
   "outputs": [
    {
     "name": "stdout",
     "output_type": "stream",
     "text": [
      "biogrid\n",
      "string\n",
      "apid\n"
     ]
    }
   ],
   "source": [
    "seed_databases=build_databases_seeds(databases)"
   ]
  },
  {
   "cell_type": "code",
   "execution_count": 215,
   "metadata": {
    "collapsed": false
   },
   "outputs": [
    {
     "name": "stdout",
     "output_type": "stream",
     "text": [
      "biogrid:  4626\n",
      "string:  23285\n",
      "apid:  7537\n"
     ]
    }
   ],
   "source": [
    "for d in seed_databases:\n",
    "    print(d + \": \", len(seed_databases[d]))"
   ]
  },
  {
   "cell_type": "markdown",
   "metadata": {},
   "source": [
    "### concat all databases "
   ]
  },
  {
   "cell_type": "code",
   "execution_count": 216,
   "metadata": {
    "collapsed": true
   },
   "outputs": [],
   "source": [
    "res=[seed_databases[\"biogrid\"], seed_databases[\"string\"], seed_databases[\"apid\"]]"
   ]
  },
  {
   "cell_type": "code",
   "execution_count": 217,
   "metadata": {
    "collapsed": false
   },
   "outputs": [],
   "source": [
    "whole_database=pd.concat(res, ignore_index=True)"
   ]
  },
  {
   "cell_type": "markdown",
   "metadata": {},
   "source": [
    "##  4.1) interactome"
   ]
  },
  {
   "cell_type": "code",
   "execution_count": 218,
   "metadata": {
    "collapsed": false
   },
   "outputs": [],
   "source": [
    "def f_interactome(new, seed_AC, col1=\"UNIPROT_AC_A\", col2=\"UNIPROT_AC_B\"):\n",
    "    '''\n",
    "    only seed genes interactions\n",
    "    '''\n",
    "    A = new[col1]\n",
    "    B = new[col2]\n",
    "    \n",
    "    new_index = []\n",
    "    new_set= set()\n",
    "    count=0\n",
    "    for i in range(len(A)):\n",
    "        l1=(A[i], B[i])\n",
    "        l2=(B[i], A[i])\n",
    "        if A[i] in seed_AC and B[i] in seed_AC and A[i] != B[i]:\n",
    "            count += 1\n",
    "            if l1 not in new_set and l2 not in new_set:\n",
    "                new_set.add(l1)\n",
    "                new_index.append(i)\n",
    "    return new_index"
   ]
  },
  {
   "cell_type": "code",
   "execution_count": 219,
   "metadata": {
    "collapsed": false
   },
   "outputs": [],
   "source": [
    "new_index=f_interactome(whole_database, seed_AC)"
   ]
  },
  {
   "cell_type": "code",
   "execution_count": 220,
   "metadata": {
    "collapsed": true
   },
   "outputs": [],
   "source": [
    "interactome=whole_database.iloc[new_index]"
   ]
  },
  {
   "cell_type": "code",
   "execution_count": null,
   "metadata": {
    "collapsed": false
   },
   "outputs": [],
   "source": [
    "#interactome.to_csv(\"./data/interactions/interactome.csv\")"
   ]
  },
  {
   "cell_type": "code",
   "execution_count": 221,
   "metadata": {
    "collapsed": false
   },
   "outputs": [
    {
     "data": {
      "text/plain": [
       "80"
      ]
     },
     "execution_count": 221,
     "metadata": {},
     "output_type": "execute_result"
    }
   ],
   "source": [
    "len(interactome)"
   ]
  },
  {
   "cell_type": "markdown",
   "metadata": {},
   "source": [
    "## 4.2) union interactome"
   ]
  },
  {
   "cell_type": "code",
   "execution_count": 227,
   "metadata": {
    "collapsed": true
   },
   "outputs": [],
   "source": [
    "def f_union_interactome(new, seed_AC, col1=\"UNIPROT_AC_A\", col2=\"UNIPROT_AC_B\"):\n",
    "    '''\n",
    "    union interaction with at least one seed gene\n",
    "    '''\n",
    "    A = new[col1]\n",
    "    B = new[col2]\n",
    "    \n",
    "    new_index = []\n",
    "    new_set= set()\n",
    "    count=0\n",
    "    for i in range(len(A)):\n",
    "        if A[i] != B[i]:\n",
    "            l1=(A[i], B[i])\n",
    "            l2=(B[i], A[i])\n",
    "            if A[i] in seed_AC or B[i] in seed_AC:\n",
    "                count += 1\n",
    "                if l1 not in new_set and l2 not in new_set:\n",
    "                    new_set.add(l1)\n",
    "                    new_index.append(i)\n",
    "                \n",
    "    return new_index"
   ]
  },
  {
   "cell_type": "code",
   "execution_count": 228,
   "metadata": {
    "collapsed": true
   },
   "outputs": [],
   "source": [
    "new_index=f_union_interactome(whole_database, seed_AC)"
   ]
  },
  {
   "cell_type": "code",
   "execution_count": 229,
   "metadata": {
    "collapsed": false
   },
   "outputs": [],
   "source": [
    "union_interactome=whole_database.iloc[new_index]"
   ]
  },
  {
   "cell_type": "code",
   "execution_count": 230,
   "metadata": {
    "collapsed": false
   },
   "outputs": [
    {
     "data": {
      "text/plain": [
       "16603"
      ]
     },
     "execution_count": 230,
     "metadata": {},
     "output_type": "execute_result"
    }
   ],
   "source": [
    "len(union_interactome)"
   ]
  },
  {
   "cell_type": "code",
   "execution_count": 231,
   "metadata": {
    "collapsed": false
   },
   "outputs": [
    {
     "data": {
      "text/html": [
       "<div>\n",
       "<table border=\"1\" class=\"dataframe\">\n",
       "  <thead>\n",
       "    <tr style=\"text-align: right;\">\n",
       "      <th></th>\n",
       "      <th>SYMBOL_A</th>\n",
       "      <th>UNIPROT_AC_A</th>\n",
       "      <th>INTERACTION_TYPE</th>\n",
       "      <th>SYMBOL_B</th>\n",
       "      <th>UNIPROT_AC_B</th>\n",
       "      <th>SOURCE</th>\n",
       "    </tr>\n",
       "  </thead>\n",
       "  <tbody>\n",
       "    <tr>\n",
       "      <th>0</th>\n",
       "      <td>ABI1</td>\n",
       "      <td>A0A0A0MRT6</td>\n",
       "      <td>physical</td>\n",
       "      <td>ENAH</td>\n",
       "      <td>Q8N8S7</td>\n",
       "      <td>BIOGRID</td>\n",
       "    </tr>\n",
       "    <tr>\n",
       "      <th>1</th>\n",
       "      <td>CUL7</td>\n",
       "      <td>Q14999</td>\n",
       "      <td>physical</td>\n",
       "      <td>SKP1</td>\n",
       "      <td>P63208</td>\n",
       "      <td>BIOGRID</td>\n",
       "    </tr>\n",
       "    <tr>\n",
       "      <th>2</th>\n",
       "      <td>SUV39H1</td>\n",
       "      <td>O43463</td>\n",
       "      <td>physical</td>\n",
       "      <td>RBBP4</td>\n",
       "      <td>Q09028</td>\n",
       "      <td>BIOGRID</td>\n",
       "    </tr>\n",
       "    <tr>\n",
       "      <th>3</th>\n",
       "      <td>LMNA</td>\n",
       "      <td>P02545</td>\n",
       "      <td>physical</td>\n",
       "      <td>PMS2</td>\n",
       "      <td>B4DGM0</td>\n",
       "      <td>BIOGRID</td>\n",
       "    </tr>\n",
       "    <tr>\n",
       "      <th>4</th>\n",
       "      <td>NASP</td>\n",
       "      <td>P49321</td>\n",
       "      <td>physical</td>\n",
       "      <td>RBBP4</td>\n",
       "      <td>Q09028</td>\n",
       "      <td>BIOGRID</td>\n",
       "    </tr>\n",
       "  </tbody>\n",
       "</table>\n",
       "</div>"
      ],
      "text/plain": [
       "  SYMBOL_A UNIPROT_AC_A INTERACTION_TYPE SYMBOL_B UNIPROT_AC_B   SOURCE\n",
       "0     ABI1   A0A0A0MRT6         physical     ENAH       Q8N8S7  BIOGRID\n",
       "1     CUL7       Q14999         physical     SKP1       P63208  BIOGRID\n",
       "2  SUV39H1       O43463         physical    RBBP4       Q09028  BIOGRID\n",
       "3     LMNA       P02545         physical     PMS2       B4DGM0  BIOGRID\n",
       "4     NASP       P49321         physical    RBBP4       Q09028  BIOGRID"
      ]
     },
     "execution_count": 231,
     "metadata": {},
     "output_type": "execute_result"
    }
   ],
   "source": [
    "union_interactome.head()"
   ]
  },
  {
   "cell_type": "markdown",
   "metadata": {},
   "source": [
    "## 4.3) intersection interactome"
   ]
  },
  {
   "cell_type": "code",
   "execution_count": 234,
   "metadata": {
    "collapsed": false
   },
   "outputs": [],
   "source": [
    "def f_intersection_interactome(res, seed_AC, col1=\"UNIPROT_AC_A\", col2=\"UNIPROT_AC_B\"):\n",
    "    \n",
    "    '''intersection interaction with at least one seed gene ------ to improve'''\n",
    "\n",
    "    new_dict = {}\n",
    "    intersection_df = pd.DataFrame(columns=res[0].columns)\n",
    "    for r in res:\n",
    "        temp = set()\n",
    "        database=pd.DataFrame(r.values,columns=r.columns)\n",
    "        new_index=f_union_interactome(database, seed_AC)\n",
    "        A=database[col1].values\n",
    "        B=database[col2].values\n",
    "        for i in new_index:\n",
    "            if A[i] != B[i]:\n",
    "                l1=(A[i], B[i])\n",
    "                l2=(B[i], A[i])\n",
    "\n",
    "                if l1 not in temp and l2 not in temp:\n",
    "                    temp.add(l1)\n",
    "                    new_dict[l1] = new_dict.get(l1, 0) + 1 \n",
    "                    if new_dict[l1] == len(res):\n",
    "                        t=database.iloc[i]\n",
    "                        intersection_df=intersection_df.append(t,ignore_index=True)\n",
    "\n",
    "    return intersection_df"
   ]
  },
  {
   "cell_type": "code",
   "execution_count": 235,
   "metadata": {
    "collapsed": false
   },
   "outputs": [],
   "source": [
    "intersection_interactome=f_intersection_interactome(res, seed_AC)"
   ]
  },
  {
   "cell_type": "code",
   "execution_count": 239,
   "metadata": {
    "collapsed": false
   },
   "outputs": [
    {
     "data": {
      "text/plain": [
       "105"
      ]
     },
     "execution_count": 239,
     "metadata": {},
     "output_type": "execute_result"
    }
   ],
   "source": [
    "len(intersection_interactome)"
   ]
  },
  {
   "cell_type": "code",
   "execution_count": 237,
   "metadata": {
    "collapsed": false
   },
   "outputs": [
    {
     "data": {
      "text/html": [
       "<div>\n",
       "<table border=\"1\" class=\"dataframe\">\n",
       "  <thead>\n",
       "    <tr style=\"text-align: right;\">\n",
       "      <th></th>\n",
       "      <th>SYMBOL_A</th>\n",
       "      <th>UNIPROT_AC_A</th>\n",
       "      <th>INTERACTION_TYPE</th>\n",
       "      <th>SYMBOL_B</th>\n",
       "      <th>UNIPROT_AC_B</th>\n",
       "      <th>SOURCE</th>\n",
       "    </tr>\n",
       "  </thead>\n",
       "  <tbody>\n",
       "    <tr>\n",
       "      <th>0</th>\n",
       "      <td>CALR</td>\n",
       "      <td>P27797</td>\n",
       "      <td>None</td>\n",
       "      <td>K1C17</td>\n",
       "      <td>Q04695</td>\n",
       "      <td>APID</td>\n",
       "    </tr>\n",
       "    <tr>\n",
       "      <th>1</th>\n",
       "      <td>CALR</td>\n",
       "      <td>P27797</td>\n",
       "      <td>None</td>\n",
       "      <td>MARE3</td>\n",
       "      <td>Q9UPY8</td>\n",
       "      <td>APID</td>\n",
       "    </tr>\n",
       "    <tr>\n",
       "      <th>2</th>\n",
       "      <td>CALR</td>\n",
       "      <td>P27797</td>\n",
       "      <td>None</td>\n",
       "      <td>PERF</td>\n",
       "      <td>P14222</td>\n",
       "      <td>APID</td>\n",
       "    </tr>\n",
       "    <tr>\n",
       "      <th>3</th>\n",
       "      <td>CALR</td>\n",
       "      <td>P27797</td>\n",
       "      <td>None</td>\n",
       "      <td>VWF</td>\n",
       "      <td>P04275</td>\n",
       "      <td>APID</td>\n",
       "    </tr>\n",
       "    <tr>\n",
       "      <th>4</th>\n",
       "      <td>CALR</td>\n",
       "      <td>P27797</td>\n",
       "      <td>None</td>\n",
       "      <td>CALX</td>\n",
       "      <td>P27824</td>\n",
       "      <td>APID</td>\n",
       "    </tr>\n",
       "  </tbody>\n",
       "</table>\n",
       "</div>"
      ],
      "text/plain": [
       "  SYMBOL_A UNIPROT_AC_A INTERACTION_TYPE SYMBOL_B UNIPROT_AC_B SOURCE\n",
       "0     CALR       P27797             None    K1C17       Q04695   APID\n",
       "1     CALR       P27797             None    MARE3       Q9UPY8   APID\n",
       "2     CALR       P27797             None     PERF       P14222   APID\n",
       "3     CALR       P27797             None      VWF       P04275   APID\n",
       "4     CALR       P27797             None     CALX       P27824   APID"
      ]
     },
     "execution_count": 237,
     "metadata": {},
     "output_type": "execute_result"
    }
   ],
   "source": [
    "intersection_interactome.head()"
   ]
  },
  {
   "cell_type": "markdown",
   "metadata": {},
   "source": [
    "# enrichment"
   ]
  },
  {
   "cell_type": "code",
   "execution_count": 252,
   "metadata": {
    "collapsed": true
   },
   "outputs": [],
   "source": [
    "import json\n",
    "import requests\n",
    "\n",
    "def retrieveUserListId(sym_genes):\n",
    "    ENRICHR_URL = 'http://amp.pharm.mssm.edu/Enrichr/addList'\n",
    "    genes_str = '\\n'.join(sym_genes)\n",
    "    description = 'Example gene list'\n",
    "    payload = {\n",
    "        'list': (None, genes_str),\n",
    "        'description': (None, description)\n",
    "    }\n",
    "    response = requests.post(ENRICHR_URL, files=payload)\n",
    "    if not response.ok:\n",
    "        raise Exception('Error analyzing gene list')\n",
    "        \n",
    "    data = json.loads(response.text)\n",
    "    return data"
   ]
  },
  {
   "cell_type": "code",
   "execution_count": 255,
   "metadata": {
    "collapsed": true
   },
   "outputs": [],
   "source": [
    "def retrieveGO(data):\n",
    "    ENRICHR_URL = 'http://amp.pharm.mssm.edu/Enrichr/enrich'\n",
    "    query_string = '?userListId=%s&backgroundType=%s'\n",
    "    user_list_id = data['userListId']\n",
    "    db = 'GO_Biological_Process_2017b'\n",
    "    response = requests.get(\n",
    "        ENRICHR_URL + query_string % (user_list_id, db)\n",
    "     )\n",
    "    if not response.ok:\n",
    "        raise Exception('Error fetching enrichment results')\n",
    "\n",
    "    GO = json.loads(response.text)\n",
    "    return GO"
   ]
  },
  {
   "cell_type": "code",
   "execution_count": 258,
   "metadata": {
    "collapsed": true
   },
   "outputs": [],
   "source": [
    "def retrievePathway(data):\n",
    "    ENRICHR_URL = 'http://amp.pharm.mssm.edu/Enrichr/enrich'\n",
    "    query_string = '?userListId=%s&backgroundType=%s'\n",
    "    user_list_id = data['userListId']\n",
    "    db = 'KEGG_2016'\n",
    "    response = requests.get(\n",
    "        ENRICHR_URL + query_string % (user_list_id, db)\n",
    "     )\n",
    "    if not response.ok:\n",
    "        raise Exception('Error fetching enrichment results')\n",
    "\n",
    "    path = json.loads(response.text)\n",
    "    return path"
   ]
  },
  {
   "cell_type": "code",
   "execution_count": 292,
   "metadata": {
    "collapsed": true
   },
   "outputs": [],
   "source": [
    "def routineGO(data, module_index=[], clustering_method=[]):\n",
    "    GO=retrieveGO(data)\n",
    "    GO=GO[\"GO_Biological_Process_2017b\"][:10]\n",
    "    GO=[go[:6] for go in GO]\n",
    "    GO_df=pd.DataFrame(GO)\n",
    "    GO_df.columns = [\"Rank\", \"Term name\", \"P-value\", \"Z-score\", \"Combined score\", \"Overlapping genes\"]\n",
    "#     if module_index != [] and clustering_method != []:\n",
    "#         GO_df[\"module index\"] = module_index\n",
    "#         GO_df[\"clustering method\"] = clustering_method\n",
    "    return GO_df"
   ]
  },
  {
   "cell_type": "code",
   "execution_count": 326,
   "metadata": {
    "collapsed": false
   },
   "outputs": [],
   "source": [
    "intersection=set(intersection_interactome[\"SYMBOL_A\"].values)"
   ]
  },
  {
   "cell_type": "code",
   "execution_count": 327,
   "metadata": {
    "collapsed": false
   },
   "outputs": [],
   "source": [
    "intersection=intersection.union(set(intersection_interactome[\"SYMBOL_B\"].values))"
   ]
  },
  {
   "cell_type": "code",
   "execution_count": 328,
   "metadata": {
    "collapsed": false
   },
   "outputs": [],
   "source": [
    "intersection=list(intersection)"
   ]
  },
  {
   "cell_type": "code",
   "execution_count": 329,
   "metadata": {
    "collapsed": false
   },
   "outputs": [
    {
     "data": {
      "text/plain": [
       "114"
      ]
     },
     "execution_count": 329,
     "metadata": {},
     "output_type": "execute_result"
    }
   ],
   "source": [
    "len(intersection)"
   ]
  },
  {
   "cell_type": "code",
   "execution_count": 330,
   "metadata": {
    "collapsed": true
   },
   "outputs": [],
   "source": [
    "data=retrieveUserListId(intersection)"
   ]
  },
  {
   "cell_type": "code",
   "execution_count": 331,
   "metadata": {
    "collapsed": false
   },
   "outputs": [],
   "source": [
    "GO_df=routineGO(data)"
   ]
  },
  {
   "cell_type": "code",
   "execution_count": 332,
   "metadata": {
    "collapsed": false
   },
   "outputs": [],
   "source": [
    "GO_df.to_csv(\"./go_intersection.csv\", index=None)"
   ]
  },
  {
   "cell_type": "code",
   "execution_count": 333,
   "metadata": {
    "collapsed": false
   },
   "outputs": [
    {
     "data": {
      "text/html": [
       "<div>\n",
       "<table border=\"1\" class=\"dataframe\">\n",
       "  <thead>\n",
       "    <tr style=\"text-align: right;\">\n",
       "      <th></th>\n",
       "      <th>Rank</th>\n",
       "      <th>Term name</th>\n",
       "      <th>P-value</th>\n",
       "      <th>Z-score</th>\n",
       "      <th>Combined score</th>\n",
       "      <th>Overlapping genes</th>\n",
       "    </tr>\n",
       "  </thead>\n",
       "  <tbody>\n",
       "    <tr>\n",
       "      <th>0</th>\n",
       "      <td>1</td>\n",
       "      <td>positive regulation of DNA repair by positive ...</td>\n",
       "      <td>0.000080</td>\n",
       "      <td>-6.554776</td>\n",
       "      <td>61.820955</td>\n",
       "      <td>[HDAC5, PCNA, STAT1, STAT3, FOS, BRCC3, KAT2B,...</td>\n",
       "    </tr>\n",
       "    <tr>\n",
       "      <th>1</th>\n",
       "      <td>2</td>\n",
       "      <td>positive regulation of transcription from RNA ...</td>\n",
       "      <td>0.000351</td>\n",
       "      <td>-7.562705</td>\n",
       "      <td>60.151745</td>\n",
       "      <td>[HDAC5, NCF1, STAT1, STAT2, ANXA4, STAT3, FOS,...</td>\n",
       "    </tr>\n",
       "    <tr>\n",
       "      <th>2</th>\n",
       "      <td>3</td>\n",
       "      <td>chromatin-mediated maintenance of transcriptio...</td>\n",
       "      <td>0.000077</td>\n",
       "      <td>-5.519284</td>\n",
       "      <td>52.288773</td>\n",
       "      <td>[KAT2B, HDAC5, NCF1, RBBP4, STAT1, IRF1, STAT3...</td>\n",
       "    </tr>\n",
       "    <tr>\n",
       "      <th>3</th>\n",
       "      <td>4</td>\n",
       "      <td>negative regulation of apoptotic process (GO:0...</td>\n",
       "      <td>0.000074</td>\n",
       "      <td>-5.398210</td>\n",
       "      <td>51.337270</td>\n",
       "      <td>[STAT1, SRC, ANXA4, TRAF6, STAT3, UBC, FLNA, E...</td>\n",
       "    </tr>\n",
       "    <tr>\n",
       "      <th>4</th>\n",
       "      <td>5</td>\n",
       "      <td>canonical Wnt signaling pathway involved in ne...</td>\n",
       "      <td>0.000053</td>\n",
       "      <td>-5.072577</td>\n",
       "      <td>49.983296</td>\n",
       "      <td>[SRC, ANXA4, TRAF6, STAT3, UBC, DVL2, FLNA, ER...</td>\n",
       "    </tr>\n",
       "    <tr>\n",
       "      <th>5</th>\n",
       "      <td>6</td>\n",
       "      <td>positive regulation of telomeric RNA transcrip...</td>\n",
       "      <td>0.000833</td>\n",
       "      <td>-6.252257</td>\n",
       "      <td>44.328312</td>\n",
       "      <td>[KAT2B, HDAC5, STAT1, TRAF6, MYOD1, IRF1, STAT...</td>\n",
       "    </tr>\n",
       "    <tr>\n",
       "      <th>6</th>\n",
       "      <td>7</td>\n",
       "      <td>positive regulation of mating type switching b...</td>\n",
       "      <td>0.000833</td>\n",
       "      <td>-6.250891</td>\n",
       "      <td>44.318627</td>\n",
       "      <td>[KAT2B, HDAC5, STAT1, TRAF6, MYOD1, IRF1, STAT...</td>\n",
       "    </tr>\n",
       "    <tr>\n",
       "      <th>7</th>\n",
       "      <td>8</td>\n",
       "      <td>positive regulation of transcription from RNA ...</td>\n",
       "      <td>0.000833</td>\n",
       "      <td>-6.239939</td>\n",
       "      <td>44.240980</td>\n",
       "      <td>[KAT2B, HDAC5, STAT1, TRAF6, MYOD1, IRF1, STAT...</td>\n",
       "    </tr>\n",
       "    <tr>\n",
       "      <th>8</th>\n",
       "      <td>9</td>\n",
       "      <td>positive regulation of transcription from RNA ...</td>\n",
       "      <td>0.000833</td>\n",
       "      <td>-6.237291</td>\n",
       "      <td>44.222209</td>\n",
       "      <td>[KAT2B, HDAC5, STAT1, TRAF6, MYOD1, IRF1, STAT...</td>\n",
       "    </tr>\n",
       "    <tr>\n",
       "      <th>9</th>\n",
       "      <td>10</td>\n",
       "      <td>positive regulation of pseudohyphal growth by ...</td>\n",
       "      <td>0.000833</td>\n",
       "      <td>-6.236262</td>\n",
       "      <td>44.214911</td>\n",
       "      <td>[KAT2B, HDAC5, STAT1, TRAF6, MYOD1, IRF1, STAT...</td>\n",
       "    </tr>\n",
       "  </tbody>\n",
       "</table>\n",
       "</div>"
      ],
      "text/plain": [
       "   Rank                                          Term name   P-value  \\\n",
       "0     1  positive regulation of DNA repair by positive ...  0.000080   \n",
       "1     2  positive regulation of transcription from RNA ...  0.000351   \n",
       "2     3  chromatin-mediated maintenance of transcriptio...  0.000077   \n",
       "3     4  negative regulation of apoptotic process (GO:0...  0.000074   \n",
       "4     5  canonical Wnt signaling pathway involved in ne...  0.000053   \n",
       "5     6  positive regulation of telomeric RNA transcrip...  0.000833   \n",
       "6     7  positive regulation of mating type switching b...  0.000833   \n",
       "7     8  positive regulation of transcription from RNA ...  0.000833   \n",
       "8     9  positive regulation of transcription from RNA ...  0.000833   \n",
       "9    10  positive regulation of pseudohyphal growth by ...  0.000833   \n",
       "\n",
       "    Z-score  Combined score                                  Overlapping genes  \n",
       "0 -6.554776       61.820955  [HDAC5, PCNA, STAT1, STAT3, FOS, BRCC3, KAT2B,...  \n",
       "1 -7.562705       60.151745  [HDAC5, NCF1, STAT1, STAT2, ANXA4, STAT3, FOS,...  \n",
       "2 -5.519284       52.288773  [KAT2B, HDAC5, NCF1, RBBP4, STAT1, IRF1, STAT3...  \n",
       "3 -5.398210       51.337270  [STAT1, SRC, ANXA4, TRAF6, STAT3, UBC, FLNA, E...  \n",
       "4 -5.072577       49.983296  [SRC, ANXA4, TRAF6, STAT3, UBC, DVL2, FLNA, ER...  \n",
       "5 -6.252257       44.328312  [KAT2B, HDAC5, STAT1, TRAF6, MYOD1, IRF1, STAT...  \n",
       "6 -6.250891       44.318627  [KAT2B, HDAC5, STAT1, TRAF6, MYOD1, IRF1, STAT...  \n",
       "7 -6.239939       44.240980  [KAT2B, HDAC5, STAT1, TRAF6, MYOD1, IRF1, STAT...  \n",
       "8 -6.237291       44.222209  [KAT2B, HDAC5, STAT1, TRAF6, MYOD1, IRF1, STAT...  \n",
       "9 -6.236262       44.214911  [KAT2B, HDAC5, STAT1, TRAF6, MYOD1, IRF1, STAT...  "
      ]
     },
     "execution_count": 333,
     "metadata": {},
     "output_type": "execute_result"
    }
   ],
   "source": [
    "GO_df"
   ]
  },
  {
   "cell_type": "code",
   "execution_count": 299,
   "metadata": {
    "collapsed": true
   },
   "outputs": [],
   "source": [
    "def routinePathway(data, module_index=[], clustering_method=[]):\n",
    "    pathway=retrievePathway(data)\n",
    "    pathway=pathway[\"KEGG_2016\"][:10]\n",
    "    pathway=[path[:6] for path in pathway]\n",
    "    pathway_df=pd.DataFrame(pathway)\n",
    "    pathway_df.columns = [\"Rank\", 'name', 'P-value', 'Z-score', 'Combined score', \"overlapping genes\"]\n",
    "#     if module_index != [] and clustering_method != []:\n",
    "#         pathway_df[\"module index\"] = module_index\n",
    "#         pathway_df[\"clustering method\"] = clustering_method\n",
    "    return pathway_df"
   ]
  },
  {
   "cell_type": "code",
   "execution_count": 334,
   "metadata": {
    "collapsed": false
   },
   "outputs": [],
   "source": [
    "pathway_df=routinePathway(data)"
   ]
  },
  {
   "cell_type": "code",
   "execution_count": 335,
   "metadata": {
    "collapsed": false
   },
   "outputs": [],
   "source": [
    "pathway_df.to_csv(\"./path_intersection.csv\", index=None)"
   ]
  }
 ],
 "metadata": {
  "anaconda-cloud": {},
  "kernelspec": {
   "display_name": "Python [default]",
   "language": "python",
   "name": "python3"
  },
  "language_info": {
   "codemirror_mode": {
    "name": "ipython",
    "version": 3
   },
   "file_extension": ".py",
   "mimetype": "text/x-python",
   "name": "python",
   "nbconvert_exporter": "python",
   "pygments_lexer": "ipython3",
   "version": "3.5.4"
  }
 },
 "nbformat": 4,
 "nbformat_minor": 2
}

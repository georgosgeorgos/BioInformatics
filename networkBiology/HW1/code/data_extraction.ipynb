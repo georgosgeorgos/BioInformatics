{
 "cells": [
  {
   "cell_type": "markdown",
   "metadata": {},
   "source": [
    "# BioInformatics GROUP 5"
   ]
  },
  {
   "cell_type": "markdown",
   "metadata": {},
   "source": [
    "## Rheumatoid arthritis-related human-oral microbiome proteins "
   ]
  },
  {
   "cell_type": "markdown",
   "metadata": {},
   "source": [
    "### [bioservices docs](http://bioservices.readthedocs.io/en/master/references.html)"
   ]
  },
  {
   "cell_type": "markdown",
   "metadata": {},
   "source": [
    "### [fasta format](https://en.wikipedia.org/wiki/FASTA_format)"
   ]
  },
  {
   "cell_type": "code",
   "execution_count": 58,
   "metadata": {
    "collapsed": true
   },
   "outputs": [],
   "source": [
    "from multiprocessing.pool import ThreadPool\n",
    "import bioservices as bi\n",
    "import pandas as pd\n",
    "import numpy as np\n",
    "import math"
   ]
  },
  {
   "cell_type": "code",
   "execution_count": 3,
   "metadata": {
    "collapsed": true
   },
   "outputs": [],
   "source": [
    "seed = 'ACAP2, ADAP1, AGFG1, ANXA4, AURKC, BCCIP, BECN1, BDKRB2, BRCA2, CALR, CAV1, CAPZA2, CDC42, CDK1, CLTC, CUL2, DCLK1, DMPK, POLD1, \\\\\n",
    "        EIF2AK2, ENAH, BRIP1, GGA2, GNPNAT1, HSF4, IFIT3, ILF3, ITGAV, KIF3A, KATNB1, LMNA, MAP3K8, MEF2D, MAPK3, MAP2K4, NDUFA13, PPP3CA, \\\\\n",
    "        PTPN1, RABGEF1, RAP2A, RAB27A, RBBP4, SERINC3, SKP1, SORT1, SPI1, SQSTM1, SRF, STAT1, STAT3, STAT6, TUBA4A, FASLG, UBE2L3'"
   ]
  },
  {
   "cell_type": "code",
   "execution_count": 4,
   "metadata": {
    "collapsed": true
   },
   "outputs": [],
   "source": [
    "def clean(seed):\n",
    "    seed = seed.strip().split(\", \")\n",
    "    new_seed = []\n",
    "    for s in range(len(seed)):\n",
    "\n",
    "        ss = seed[s]\n",
    "        if len(ss.split(\"\\\\\")) > 1:\n",
    "            new_seed.append(ss.split(\"\\\\\")[1].strip())\n",
    "        else:\n",
    "            new_seed.append(ss)\n",
    "    seed = new_seed[:]\n",
    "    return seed\n",
    "\n",
    "seed = clean(seed)"
   ]
  },
  {
   "cell_type": "markdown",
   "metadata": {},
   "source": [
    "## 1) seed genes list"
   ]
  },
  {
   "cell_type": "code",
   "execution_count": 5,
   "metadata": {
    "collapsed": false
   },
   "outputs": [
    {
     "name": "stdout",
     "output_type": "stream",
     "text": [
      "['ACAP2', 'ADAP1', 'AGFG1', 'ANXA4', 'AURKC', 'BCCIP', 'BECN1', 'BDKRB2', 'BRCA2', 'CALR', 'CAV1', 'CAPZA2', 'CDC42', 'CDK1', 'CLTC', 'CUL2', 'DCLK1', 'DMPK', 'POLD1', 'EIF2AK2', 'ENAH', 'BRIP1', 'GGA2', 'GNPNAT1', 'HSF4', 'IFIT3', 'ILF3', 'ITGAV', 'KIF3A', 'KATNB1', 'LMNA', 'MAP3K8', 'MEF2D', 'MAPK3', 'MAP2K4', 'NDUFA13', 'PPP3CA', 'PTPN1', 'RABGEF1', 'RAP2A', 'RAB27A', 'RBBP4', 'SERINC3', 'SKP1', 'SORT1', 'SPI1', 'SQSTM1', 'SRF', 'STAT1', 'STAT3', 'STAT6', 'TUBA4A', 'FASLG', 'UBE2L3']\n"
     ]
    }
   ],
   "source": [
    "print(seed)"
   ]
  },
  {
   "cell_type": "code",
   "execution_count": 5,
   "metadata": {
    "collapsed": false
   },
   "outputs": [
    {
     "data": {
      "text/plain": [
       "54"
      ]
     },
     "execution_count": 5,
     "metadata": {},
     "output_type": "execute_result"
    }
   ],
   "source": [
    "len(seed)"
   ]
  },
  {
   "cell_type": "markdown",
   "metadata": {},
   "source": [
    "## 2) Collect basic information about seed genes"
   ]
  },
  {
   "cell_type": "markdown",
   "metadata": {},
   "source": [
    "#### extract symbol on [HGNC](https://www.genenames.org/), [Uniprot](http://www.uniprot.org/) AC, [Uniprot](http://www.uniprot.org/) ID, protein name, [Entrez](https://www.ncbi.nlm.nih.gov/Class/MLACourse/Original8Hour/Entrez/) Gene ID, description"
   ]
  },
  {
   "cell_type": "code",
   "execution_count": null,
   "metadata": {
    "collapsed": false,
    "scrolled": false
   },
   "outputs": [],
   "source": [
    "data = {'symbols':[],'uniprot_AC':[],'entrez_ID':[],'uniprot_ID':[],'uniprot_RefName':[],'description':[]}"
   ]
  },
  {
   "cell_type": "code",
   "execution_count": 7,
   "metadata": {
    "collapsed": true
   },
   "outputs": [],
   "source": [
    "hgnc = bi.HGNC()"
   ]
  },
  {
   "cell_type": "code",
   "execution_count": 59,
   "metadata": {
    "collapsed": true
   },
   "outputs": [],
   "source": [
    "u = bi.UniProt(verbose = False)"
   ]
  },
  {
   "cell_type": "code",
   "execution_count": 8,
   "metadata": {
    "collapsed": false
   },
   "outputs": [],
   "source": [
    "def extract_sym_AC_entrezID(data, seed):\n",
    "    '''extract uniprot AC and entrez ID for seed genes'''\n",
    "    \n",
    "    for i in range(len(seed)):\n",
    "        dictio = hgnc.fetch('symbol', seed[i])\n",
    "        new_dictio = dictio['response']['docs'][0]\n",
    "        data['symbols'].append(new_dictio['symbol'])\n",
    "        data['uniprot_AC'].append(new_dictio['uniprot_ids'][0])\n",
    "        data['entrez_ID'].append(new_dictio['entrez_id'])\n",
    "    return data"
   ]
  },
  {
   "cell_type": "code",
   "execution_count": null,
   "metadata": {
    "collapsed": true
   },
   "outputs": [],
   "source": [
    "data = extract_sym_AC_entrezID(data, seed)"
   ]
  },
  {
   "cell_type": "code",
   "execution_count": null,
   "metadata": {
    "collapsed": false
   },
   "outputs": [],
   "source": [
    "print(data[\"symbols\"][:4])"
   ]
  },
  {
   "cell_type": "code",
   "execution_count": null,
   "metadata": {
    "collapsed": false
   },
   "outputs": [],
   "source": [
    "print(data[\"uniprot_AC\"][:4])"
   ]
  },
  {
   "cell_type": "code",
   "execution_count": null,
   "metadata": {
    "collapsed": false
   },
   "outputs": [],
   "source": [
    "print(data[\"entrez_ID\"][:4])"
   ]
  },
  {
   "cell_type": "code",
   "execution_count": null,
   "metadata": {
    "collapsed": true
   },
   "outputs": [],
   "source": [
    "def check_symbol(data, seed):\n",
    "    logic = True\n",
    "    for i in range(len(seed)):\n",
    "        if seed[i] == data['symbols'][i]:\n",
    "            continue\n",
    "        else:\n",
    "            print('Error for ', seed[i])\n",
    "            logic = False\n",
    "    if logic == True:\n",
    "        print('All seed and symbols are updated')\n",
    "    return None"
   ]
  },
  {
   "cell_type": "code",
   "execution_count": null,
   "metadata": {
    "collapsed": false
   },
   "outputs": [],
   "source": [
    "check_symbol(data, seed)"
   ]
  },
  {
   "cell_type": "code",
   "execution_count": null,
   "metadata": {
    "collapsed": false,
    "scrolled": false
   },
   "outputs": [],
   "source": [
    "def routine(pro, string):\n",
    "    res = pro[string][0].contents[0]\n",
    "    return res\n",
    "\n",
    "def extract_ID_refName(data, seed):\n",
    "    for i in range(len(seed)):\n",
    "        \n",
    "        pro = u.retrieve(data['uniprot_AC'][i], frmt=\"xml\")\n",
    "        AC = routine(pro, \"accession\")\n",
    "        ID = routine(pro, \"name\")\n",
    "        refName = routine(pro, \"fullname\")\n",
    "        \n",
    "        if str(AC) == data[\"uniprot_AC\"][i]:\n",
    "            data['uniprot_ID'].append(str(ID))\n",
    "            data['uniprot_RefName'].append(str(refName))\n",
    "        else:\n",
    "            print(\"problem with \" + AC)\n",
    "    return data"
   ]
  },
  {
   "cell_type": "code",
   "execution_count": null,
   "metadata": {
    "collapsed": false
   },
   "outputs": [],
   "source": [
    "data = extract_ID_refName(data, seed)"
   ]
  },
  {
   "cell_type": "code",
   "execution_count": null,
   "metadata": {
    "collapsed": false
   },
   "outputs": [],
   "source": [
    "print(data[\"uniprot_ID\"][:4])"
   ]
  },
  {
   "cell_type": "code",
   "execution_count": null,
   "metadata": {
    "collapsed": false,
    "scrolled": false
   },
   "outputs": [],
   "source": [
    "print(data[\"uniprot_RefName\"][:4])"
   ]
  },
  {
   "cell_type": "code",
   "execution_count": 6,
   "metadata": {
    "collapsed": false
   },
   "outputs": [],
   "source": [
    "def save_json(name, data):\n",
    "    import json\n",
    "    with open(name, \"w\") as f:\n",
    "         json.dump(data, f)\n",
    "    print(\"done.\")\n",
    "            \n",
    "def load_json(name, data=None):\n",
    "    import json\n",
    "    with open(name, \"r\") as f:\n",
    "         data = json.load(f)\n",
    "    return data"
   ]
  },
  {
   "cell_type": "markdown",
   "metadata": {},
   "source": [
    "## 3) Collect interaction data"
   ]
  },
  {
   "cell_type": "markdown",
   "metadata": {},
   "source": [
    "### collect all binary protein interactions"
   ]
  },
  {
   "cell_type": "markdown",
   "metadata": {},
   "source": [
    "###  from [APID](http://cicblade.dep.usal.es:8080/APID/init.action) Level2 human [interactome](https://en.wikipedia.org/wiki/Interactome), [Biogrid](https://wiki.thebiogrid.org/doku.php/biogridrest#list_of_parameters) Human v.3.4.154, [String](https://string-db.org/)"
   ]
  },
  {
   "cell_type": "code",
   "execution_count": 199,
   "metadata": {
    "collapsed": false
   },
   "outputs": [],
   "source": [
    "import requests  \n",
    "from bs4 import BeautifulSoup as bs"
   ]
  },
  {
   "cell_type": "code",
   "execution_count": 200,
   "metadata": {
    "collapsed": false
   },
   "outputs": [],
   "source": [
    "with open(\"bioGridKey.txt\") as f:\n",
    "    biogrid_key = f.read()[:-1]"
   ]
  },
  {
   "cell_type": "code",
   "execution_count": 205,
   "metadata": {
    "collapsed": false
   },
   "outputs": [],
   "source": [
    "def biogrid_routine(seed, start='0', key=None):\n",
    "    human = '9606'\n",
    "    url = 'http://webservice.thebiogrid.org/'\n",
    "    query_version = url + 'version/?accessKey=' + key\n",
    "    \n",
    "    version = requests.get(query_version).text\n",
    "    if version == '3.4.154' and start=='0':\n",
    "        print(\"Right Database Version\")\n",
    "        \n",
    "    geneList = ''\n",
    "    for s in seed:\n",
    "        geneList += s + '|'\n",
    "    geneList = geneList[:-1]\n",
    "    \n",
    "    query_params = '&searchNames=true&start='+start+'&max=1000000&includeInteractors=true&includeInteractorInteractions=true&taxId='+human+'&format=json&accesskey='\n",
    "    queryList = 'geneList=' + geneList\n",
    "    query_biogrid= url + 'interactions/?' + queryList + query_params + biogrid_key\n",
    "    \n",
    "    r= requests.get(query_biogrid)\n",
    "    if r.status_code == 200:\n",
    "        r = r.json()\n",
    "        \n",
    "    return r"
   ]
  },
  {
   "cell_type": "code",
   "execution_count": 213,
   "metadata": {
    "collapsed": false
   },
   "outputs": [],
   "source": [
    "def biogrid_api(seed, key=biogrid_key):\n",
    "    res = {}\n",
    "    r = biogrid_routine(seed, start=\"0\", key=biogrid_key)\n",
    "    res.update(r)\n",
    "    t=0\n",
    "    while len(r) == 10000:\n",
    "        t+=1 \n",
    "        start=str(int(10000*t))\n",
    "        time.sleep(1)\n",
    "        r = biogrid_routine(seed, start=start, key=biogrid_key)\n",
    "        print(t)\n",
    "        res.update(r)\n",
    "    return res"
   ]
  },
  {
   "cell_type": "code",
   "execution_count": 214,
   "metadata": {
    "collapsed": false,
    "scrolled": true
   },
   "outputs": [
    {
     "name": "stdout",
     "output_type": "stream",
     "text": [
      "1\n",
      "2\n",
      "3\n",
      "4\n",
      "5\n",
      "6\n"
     ]
    }
   ],
   "source": [
    "import time\n",
    "res = biogrid_api(seed)"
   ]
  },
  {
   "cell_type": "code",
   "execution_count": 215,
   "metadata": {
    "collapsed": true
   },
   "outputs": [],
   "source": [
    "def bioGrid_process(res):\n",
    "\n",
    "    bioGrid= {'BIOGRID_ID_A': [], 'BIOGRID_ID_B': [], 'BIOGRID_INTERACTION_ID': [], \n",
    "              'ENTREZ_GENE_A': [], 'ENTREZ_GENE_B': [], 'EXPERIMENTAL_SYSTEM': [], \n",
    "              'OFFICIAL_SYMBOL_A': [], 'OFFICIAL_SYMBOL_B': [], 'THROUGHPUT': [], 'EXPERIMENTAL_SYSTEM_TYPE': []}\n",
    "    \n",
    "    for key in res:\n",
    "        interaction = res[key]\n",
    "        bioGrid['BIOGRID_ID_A'].append(interaction['BIOGRID_ID_A'])\n",
    "        bioGrid['BIOGRID_ID_B'].append(interaction['BIOGRID_ID_B'])\n",
    "        bioGrid['BIOGRID_INTERACTION_ID'].append(interaction['BIOGRID_INTERACTION_ID'])\n",
    "        bioGrid['ENTREZ_GENE_A'].append(interaction['ENTREZ_GENE_A'])\n",
    "        bioGrid['ENTREZ_GENE_B'].append(interaction['ENTREZ_GENE_B'])\n",
    "        bioGrid['EXPERIMENTAL_SYSTEM'].append(interaction['EXPERIMENTAL_SYSTEM'])\n",
    "        bioGrid['OFFICIAL_SYMBOL_A'].append(interaction['OFFICIAL_SYMBOL_A'])\n",
    "        bioGrid['OFFICIAL_SYMBOL_B'].append(interaction['OFFICIAL_SYMBOL_B'])\n",
    "        bioGrid['THROUGHPUT'].append(interaction['THROUGHPUT'])\n",
    "        bioGrid['EXPERIMENTAL_SYSTEM_TYPE'].append(interaction['EXPERIMENTAL_SYSTEM_TYPE'])\n",
    "    return bioGrid"
   ]
  },
  {
   "cell_type": "code",
   "execution_count": 216,
   "metadata": {
    "collapsed": true
   },
   "outputs": [],
   "source": [
    "bioGrid = bioGrid_process(res)"
   ]
  },
  {
   "cell_type": "markdown",
   "metadata": {},
   "source": [
    "### mapping for String"
   ]
  },
  {
   "cell_type": "code",
   "execution_count": 11,
   "metadata": {
    "collapsed": false
   },
   "outputs": [],
   "source": [
    "def buildStringRequest(seed, method, url=\"http://string-db.org/api\", f=\"/json/\"):\n",
    "    species = \"9606\"\n",
    "    identifier  = \"SapienzaBioInformatics\"\n",
    "    request_url = url + f + method + \"?identifiers=\"\n",
    "    if method == \"resolve\":\n",
    "        request_url += seed\n",
    "    else:\n",
    "        for gene in seed:\n",
    "            request_url += \"%0D\" + str(gene)\n",
    "    request_url += \"&\" + \"species=\" + species \n",
    "    request_url += \"&\" + \"caller_identity=\" + identifier\n",
    "    return request_url"
   ]
  },
  {
   "cell_type": "code",
   "execution_count": 12,
   "metadata": {
    "collapsed": false
   },
   "outputs": [],
   "source": [
    "def StringMapping(seed):\n",
    "    method = \"resolve\"\n",
    "    StringIDs = []\n",
    "    annotations = []\n",
    "    for gene in seed:\n",
    "        request_url = buildStringRequest(gene, method)\n",
    "        r = requests.get(request_url)\n",
    "        #print(request_url)\n",
    "        #print(gene)\n",
    "        #print(r.json()[0][\"stringId\"])\n",
    "        if r.status_code == 200:\n",
    "            r = r.json()[0]\n",
    "            StringIDs.append(r[\"stringId\"])\n",
    "            annotations.append(r[\"annotation\"])\n",
    "            \n",
    "    String={\"StringIDs\": StringIDs, \"annotations\": annotations}\n",
    "    return String"
   ]
  },
  {
   "cell_type": "code",
   "execution_count": 14,
   "metadata": {
    "collapsed": false,
    "scrolled": true
   },
   "outputs": [],
   "source": [
    "String_map = StringMapping(seed)"
   ]
  },
  {
   "cell_type": "code",
   "execution_count": null,
   "metadata": {
    "collapsed": false
   },
   "outputs": [],
   "source": [
    "def StringEnrichment(StringIDs, method):\n",
    "    url = buildStringRequest(StringIDs, method)\n",
    "    print(url)\n",
    "    r = requests.get(url)\n",
    "    if r.status_code == 200:\n",
    "        r = r.json()[0]\n",
    "    return r "
   ]
  },
  {
   "cell_type": "code",
   "execution_count": null,
   "metadata": {
    "collapsed": true
   },
   "outputs": [],
   "source": [
    "enrichment = StringEnrichment(StringIDs, \"enrichment\")"
   ]
  },
  {
   "cell_type": "code",
   "execution_count": null,
   "metadata": {
    "collapsed": false
   },
   "outputs": [],
   "source": [
    "ppi_enrichment = StringEnrichment(StringIDs, \"ppi_enrichment\")"
   ]
  },
  {
   "cell_type": "markdown",
   "metadata": {},
   "source": [
    "### [Network Interactions in String](http://string-gamma.org/cgi/help.pl?subpage=api%23getting-the-string-network-interactions)"
   ]
  },
  {
   "cell_type": "code",
   "execution_count": null,
   "metadata": {
    "collapsed": true
   },
   "outputs": [],
   "source": [
    "#http://string-db.org/api/json/network?identifiers=DRD1_HUMAN%0dDRD2_HUMAN&add_nodes=100000"
   ]
  },
  {
   "cell_type": "markdown",
   "metadata": {},
   "source": [
    "### this query is too demanding (error 524)...we have to split"
   ]
  },
  {
   "cell_type": "code",
   "execution_count": 23,
   "metadata": {
    "collapsed": false
   },
   "outputs": [],
   "source": [
    "from time import sleep\n",
    "\n",
    "def StringInteraction(String, method):\n",
    "    d = {\"stringId_A\": [], \"stringId_B\": [], \"preferredName_A\": [], \"preferredName_B\": []}\n",
    "    genes = String[\"StringIDs\"]\n",
    "    #Str = String[\"StringIDs\"]\n",
    "    #     seed = []\n",
    "#     Str_par = []\n",
    "#     for i in range(n):\n",
    "#         for j in range((i+1),n):\n",
    "#             seed.append((Str[i], Str[j]))\n",
    "#     print(len(seed))\n",
    "#     #k=data[\"index\"]\n",
    "    k=0\n",
    "    ### for the moment only first order interactions...the second order seems to be big in size\n",
    "    for gene in genes:\n",
    "        k=k+1\n",
    "#         method=\"network\"\n",
    "        request_url=buildStringRequest([gene], method)\n",
    "        request_url += \"&add_nodes=100000\" \n",
    "        print(gene)\n",
    "        print(request_url)\n",
    "        res=requests.get(request_url)\n",
    "        if res.status_code==200:\n",
    "            res = res.json()\n",
    "            for r in res:\n",
    "                d=check(d, r)\n",
    "    return d"
   ]
  },
  {
   "cell_type": "code",
   "execution_count": 34,
   "metadata": {
    "collapsed": true
   },
   "outputs": [],
   "source": [
    "def StringInteractionAll(String, method):\n",
    "    d = {\"stringId_A\": [], \"stringId_B\": [], \"preferredName_A\": [], \"preferredName_B\": []}\n",
    "    genes = String[\"StringIDs\"]\n",
    "    \n",
    "    request_url=buildStringRequest(genes, method)\n",
    "    request_url += \"&add_nodes=100000\" \n",
    "    print(genes)\n",
    "    print(request_url)\n",
    "    res=requests.get(request_url)\n",
    "    if res.status_code==200:\n",
    "        res = res.json()\n",
    "        for r in res:\n",
    "            d=check(d, r)\n",
    "    return d"
   ]
  },
  {
   "cell_type": "code",
   "execution_count": 35,
   "metadata": {
    "collapsed": false,
    "scrolled": true
   },
   "outputs": [
    {
     "name": "stdout",
     "output_type": "stream",
     "text": [
      "['9606.ENSP00000324287', '9606.ENSP00000265846', '9606.ENSP00000387282', '9606.ENSP00000377833', '9606.ENSP00000302898', '9606.ENSP00000357748', '9606.ENSP00000355231', '9606.ENSP00000307713', '9606.ENSP00000369497', '9606.ENSP00000320866', '9606.ENSP00000339191', '9606.ENSP00000354947', '9606.ENSP00000314458', '9606.ENSP00000378699', '9606.ENSP00000269122', '9606.ENSP00000444856', '9606.ENSP00000255448', '9606.ENSP00000345997', '9606.ENSP00000406046', '9606.ENSP00000233057', '9606.ENSP00000355809', '9606.ENSP00000259008', '9606.ENSP00000311962', '9606.ENSP00000216410', '9606.ENSP00000264009', '9606.ENSP00000360876', '9606.ENSP00000404121', '9606.ENSP00000261023', '9606.ENSP00000368020', '9606.ENSP00000368982', '9606.ENSP00000357283', '9606.ENSP00000263056', '9606.ENSP00000271555', '9606.ENSP00000263025', '9606.ENSP00000262445', '9606.ENSP00000423673', '9606.ENSP00000378323', '9606.ENSP00000360683', '9606.ENSP00000284957', '9606.ENSP00000245304', '9606.ENSP00000337761', '9606.ENSP00000362592', '9606.ENSP00000255175', '9606.ENSP00000231487', '9606.ENSP00000256637', '9606.ENSP00000227163', '9606.ENSP00000374455', '9606.ENSP00000265354', '9606.ENSP00000354394', '9606.ENSP00000264657', '9606.ENSP00000300134', '9606.ENSP00000248437', '9606.ENSP00000356694', '9606.ENSP00000344259']\n",
      "http://string-db.org/api/json/interaction_partners?identifiers=%0D9606.ENSP00000324287%0D9606.ENSP00000265846%0D9606.ENSP00000387282%0D9606.ENSP00000377833%0D9606.ENSP00000302898%0D9606.ENSP00000357748%0D9606.ENSP00000355231%0D9606.ENSP00000307713%0D9606.ENSP00000369497%0D9606.ENSP00000320866%0D9606.ENSP00000339191%0D9606.ENSP00000354947%0D9606.ENSP00000314458%0D9606.ENSP00000378699%0D9606.ENSP00000269122%0D9606.ENSP00000444856%0D9606.ENSP00000255448%0D9606.ENSP00000345997%0D9606.ENSP00000406046%0D9606.ENSP00000233057%0D9606.ENSP00000355809%0D9606.ENSP00000259008%0D9606.ENSP00000311962%0D9606.ENSP00000216410%0D9606.ENSP00000264009%0D9606.ENSP00000360876%0D9606.ENSP00000404121%0D9606.ENSP00000261023%0D9606.ENSP00000368020%0D9606.ENSP00000368982%0D9606.ENSP00000357283%0D9606.ENSP00000263056%0D9606.ENSP00000271555%0D9606.ENSP00000263025%0D9606.ENSP00000262445%0D9606.ENSP00000423673%0D9606.ENSP00000378323%0D9606.ENSP00000360683%0D9606.ENSP00000284957%0D9606.ENSP00000245304%0D9606.ENSP00000337761%0D9606.ENSP00000362592%0D9606.ENSP00000255175%0D9606.ENSP00000231487%0D9606.ENSP00000256637%0D9606.ENSP00000227163%0D9606.ENSP00000374455%0D9606.ENSP00000265354%0D9606.ENSP00000354394%0D9606.ENSP00000264657%0D9606.ENSP00000300134%0D9606.ENSP00000248437%0D9606.ENSP00000356694%0D9606.ENSP00000344259&species=9606&caller_identity=SapienzaBioInformatics&add_nodes=100000\n"
     ]
    }
   ],
   "source": [
    "res_ip=StringInteractionAll(String, \"interaction_partners\")"
   ]
  },
  {
   "cell_type": "code",
   "execution_count": 41,
   "metadata": {
    "collapsed": false
   },
   "outputs": [
    {
     "data": {
      "text/plain": [
       "5609"
      ]
     },
     "execution_count": 41,
     "metadata": {},
     "output_type": "execute_result"
    }
   ],
   "source": [
    "len(set(res_ip[\"preferredName_B\"]))"
   ]
  },
  {
   "cell_type": "code",
   "execution_count": 24,
   "metadata": {
    "collapsed": true
   },
   "outputs": [],
   "source": [
    "def check(d, r):\n",
    "    ascore= r[\"ascore\"]\n",
    "    escore= r[\"escore\"]\n",
    "    dscore= r[\"dscore\"]\n",
    "    if ascore!=0 or escore!=0 or dscore!=0:\n",
    "        d[\"stringId_A\"].append(r[\"stringId_A\"])\n",
    "        d[\"stringId_B\"].append(r[\"stringId_B\"])\n",
    "        d[\"preferredName_A\"].append(r[\"preferredName_A\"])\n",
    "        d[\"preferredName_B\"].append(r[\"preferredName_B\"])\n",
    "    return d        "
   ]
  },
  {
   "cell_type": "code",
   "execution_count": 26,
   "metadata": {
    "collapsed": false,
    "scrolled": true
   },
   "outputs": [
    {
     "name": "stdout",
     "output_type": "stream",
     "text": [
      "9606.ENSP00000324287\n",
      "http://string-db.org/api/json/interaction_partners?identifiers=%0D9606.ENSP00000324287&species=9606&caller_identity=SapienzaBioInformatics&add_nodes=100000\n",
      "9606.ENSP00000265846\n",
      "http://string-db.org/api/json/interaction_partners?identifiers=%0D9606.ENSP00000265846&species=9606&caller_identity=SapienzaBioInformatics&add_nodes=100000\n",
      "9606.ENSP00000387282\n",
      "http://string-db.org/api/json/interaction_partners?identifiers=%0D9606.ENSP00000387282&species=9606&caller_identity=SapienzaBioInformatics&add_nodes=100000\n",
      "9606.ENSP00000377833\n",
      "http://string-db.org/api/json/interaction_partners?identifiers=%0D9606.ENSP00000377833&species=9606&caller_identity=SapienzaBioInformatics&add_nodes=100000\n",
      "9606.ENSP00000302898\n",
      "http://string-db.org/api/json/interaction_partners?identifiers=%0D9606.ENSP00000302898&species=9606&caller_identity=SapienzaBioInformatics&add_nodes=100000\n",
      "9606.ENSP00000357748\n",
      "http://string-db.org/api/json/interaction_partners?identifiers=%0D9606.ENSP00000357748&species=9606&caller_identity=SapienzaBioInformatics&add_nodes=100000\n",
      "9606.ENSP00000355231\n",
      "http://string-db.org/api/json/interaction_partners?identifiers=%0D9606.ENSP00000355231&species=9606&caller_identity=SapienzaBioInformatics&add_nodes=100000\n",
      "9606.ENSP00000307713\n",
      "http://string-db.org/api/json/interaction_partners?identifiers=%0D9606.ENSP00000307713&species=9606&caller_identity=SapienzaBioInformatics&add_nodes=100000\n",
      "9606.ENSP00000369497\n",
      "http://string-db.org/api/json/interaction_partners?identifiers=%0D9606.ENSP00000369497&species=9606&caller_identity=SapienzaBioInformatics&add_nodes=100000\n",
      "9606.ENSP00000320866\n",
      "http://string-db.org/api/json/interaction_partners?identifiers=%0D9606.ENSP00000320866&species=9606&caller_identity=SapienzaBioInformatics&add_nodes=100000\n",
      "9606.ENSP00000339191\n",
      "http://string-db.org/api/json/interaction_partners?identifiers=%0D9606.ENSP00000339191&species=9606&caller_identity=SapienzaBioInformatics&add_nodes=100000\n",
      "9606.ENSP00000354947\n",
      "http://string-db.org/api/json/interaction_partners?identifiers=%0D9606.ENSP00000354947&species=9606&caller_identity=SapienzaBioInformatics&add_nodes=100000\n",
      "9606.ENSP00000314458\n",
      "http://string-db.org/api/json/interaction_partners?identifiers=%0D9606.ENSP00000314458&species=9606&caller_identity=SapienzaBioInformatics&add_nodes=100000\n",
      "9606.ENSP00000378699\n",
      "http://string-db.org/api/json/interaction_partners?identifiers=%0D9606.ENSP00000378699&species=9606&caller_identity=SapienzaBioInformatics&add_nodes=100000\n",
      "9606.ENSP00000269122\n",
      "http://string-db.org/api/json/interaction_partners?identifiers=%0D9606.ENSP00000269122&species=9606&caller_identity=SapienzaBioInformatics&add_nodes=100000\n",
      "9606.ENSP00000444856\n",
      "http://string-db.org/api/json/interaction_partners?identifiers=%0D9606.ENSP00000444856&species=9606&caller_identity=SapienzaBioInformatics&add_nodes=100000\n",
      "9606.ENSP00000255448\n",
      "http://string-db.org/api/json/interaction_partners?identifiers=%0D9606.ENSP00000255448&species=9606&caller_identity=SapienzaBioInformatics&add_nodes=100000\n",
      "9606.ENSP00000345997\n",
      "http://string-db.org/api/json/interaction_partners?identifiers=%0D9606.ENSP00000345997&species=9606&caller_identity=SapienzaBioInformatics&add_nodes=100000\n",
      "9606.ENSP00000406046\n",
      "http://string-db.org/api/json/interaction_partners?identifiers=%0D9606.ENSP00000406046&species=9606&caller_identity=SapienzaBioInformatics&add_nodes=100000\n",
      "9606.ENSP00000233057\n",
      "http://string-db.org/api/json/interaction_partners?identifiers=%0D9606.ENSP00000233057&species=9606&caller_identity=SapienzaBioInformatics&add_nodes=100000\n",
      "9606.ENSP00000355809\n",
      "http://string-db.org/api/json/interaction_partners?identifiers=%0D9606.ENSP00000355809&species=9606&caller_identity=SapienzaBioInformatics&add_nodes=100000\n",
      "9606.ENSP00000259008\n",
      "http://string-db.org/api/json/interaction_partners?identifiers=%0D9606.ENSP00000259008&species=9606&caller_identity=SapienzaBioInformatics&add_nodes=100000\n",
      "9606.ENSP00000311962\n",
      "http://string-db.org/api/json/interaction_partners?identifiers=%0D9606.ENSP00000311962&species=9606&caller_identity=SapienzaBioInformatics&add_nodes=100000\n",
      "9606.ENSP00000216410\n",
      "http://string-db.org/api/json/interaction_partners?identifiers=%0D9606.ENSP00000216410&species=9606&caller_identity=SapienzaBioInformatics&add_nodes=100000\n",
      "9606.ENSP00000264009\n",
      "http://string-db.org/api/json/interaction_partners?identifiers=%0D9606.ENSP00000264009&species=9606&caller_identity=SapienzaBioInformatics&add_nodes=100000\n",
      "9606.ENSP00000360876\n",
      "http://string-db.org/api/json/interaction_partners?identifiers=%0D9606.ENSP00000360876&species=9606&caller_identity=SapienzaBioInformatics&add_nodes=100000\n",
      "9606.ENSP00000404121\n",
      "http://string-db.org/api/json/interaction_partners?identifiers=%0D9606.ENSP00000404121&species=9606&caller_identity=SapienzaBioInformatics&add_nodes=100000\n",
      "9606.ENSP00000261023\n",
      "http://string-db.org/api/json/interaction_partners?identifiers=%0D9606.ENSP00000261023&species=9606&caller_identity=SapienzaBioInformatics&add_nodes=100000\n",
      "9606.ENSP00000368020\n",
      "http://string-db.org/api/json/interaction_partners?identifiers=%0D9606.ENSP00000368020&species=9606&caller_identity=SapienzaBioInformatics&add_nodes=100000\n",
      "9606.ENSP00000368982\n",
      "http://string-db.org/api/json/interaction_partners?identifiers=%0D9606.ENSP00000368982&species=9606&caller_identity=SapienzaBioInformatics&add_nodes=100000\n",
      "9606.ENSP00000357283\n",
      "http://string-db.org/api/json/interaction_partners?identifiers=%0D9606.ENSP00000357283&species=9606&caller_identity=SapienzaBioInformatics&add_nodes=100000\n",
      "9606.ENSP00000263056\n",
      "http://string-db.org/api/json/interaction_partners?identifiers=%0D9606.ENSP00000263056&species=9606&caller_identity=SapienzaBioInformatics&add_nodes=100000\n",
      "9606.ENSP00000271555\n",
      "http://string-db.org/api/json/interaction_partners?identifiers=%0D9606.ENSP00000271555&species=9606&caller_identity=SapienzaBioInformatics&add_nodes=100000\n",
      "9606.ENSP00000263025\n",
      "http://string-db.org/api/json/interaction_partners?identifiers=%0D9606.ENSP00000263025&species=9606&caller_identity=SapienzaBioInformatics&add_nodes=100000\n",
      "9606.ENSP00000262445\n",
      "http://string-db.org/api/json/interaction_partners?identifiers=%0D9606.ENSP00000262445&species=9606&caller_identity=SapienzaBioInformatics&add_nodes=100000\n",
      "9606.ENSP00000423673\n",
      "http://string-db.org/api/json/interaction_partners?identifiers=%0D9606.ENSP00000423673&species=9606&caller_identity=SapienzaBioInformatics&add_nodes=100000\n",
      "9606.ENSP00000378323\n",
      "http://string-db.org/api/json/interaction_partners?identifiers=%0D9606.ENSP00000378323&species=9606&caller_identity=SapienzaBioInformatics&add_nodes=100000\n",
      "9606.ENSP00000360683\n",
      "http://string-db.org/api/json/interaction_partners?identifiers=%0D9606.ENSP00000360683&species=9606&caller_identity=SapienzaBioInformatics&add_nodes=100000\n",
      "9606.ENSP00000284957\n",
      "http://string-db.org/api/json/interaction_partners?identifiers=%0D9606.ENSP00000284957&species=9606&caller_identity=SapienzaBioInformatics&add_nodes=100000\n",
      "9606.ENSP00000245304\n",
      "http://string-db.org/api/json/interaction_partners?identifiers=%0D9606.ENSP00000245304&species=9606&caller_identity=SapienzaBioInformatics&add_nodes=100000\n",
      "9606.ENSP00000337761\n",
      "http://string-db.org/api/json/interaction_partners?identifiers=%0D9606.ENSP00000337761&species=9606&caller_identity=SapienzaBioInformatics&add_nodes=100000\n",
      "9606.ENSP00000362592\n",
      "http://string-db.org/api/json/interaction_partners?identifiers=%0D9606.ENSP00000362592&species=9606&caller_identity=SapienzaBioInformatics&add_nodes=100000\n",
      "9606.ENSP00000255175\n",
      "http://string-db.org/api/json/interaction_partners?identifiers=%0D9606.ENSP00000255175&species=9606&caller_identity=SapienzaBioInformatics&add_nodes=100000\n",
      "9606.ENSP00000231487\n",
      "http://string-db.org/api/json/interaction_partners?identifiers=%0D9606.ENSP00000231487&species=9606&caller_identity=SapienzaBioInformatics&add_nodes=100000\n",
      "9606.ENSP00000256637\n",
      "http://string-db.org/api/json/interaction_partners?identifiers=%0D9606.ENSP00000256637&species=9606&caller_identity=SapienzaBioInformatics&add_nodes=100000\n",
      "9606.ENSP00000227163\n",
      "http://string-db.org/api/json/interaction_partners?identifiers=%0D9606.ENSP00000227163&species=9606&caller_identity=SapienzaBioInformatics&add_nodes=100000\n",
      "9606.ENSP00000374455\n",
      "http://string-db.org/api/json/interaction_partners?identifiers=%0D9606.ENSP00000374455&species=9606&caller_identity=SapienzaBioInformatics&add_nodes=100000\n",
      "9606.ENSP00000265354\n",
      "http://string-db.org/api/json/interaction_partners?identifiers=%0D9606.ENSP00000265354&species=9606&caller_identity=SapienzaBioInformatics&add_nodes=100000\n",
      "9606.ENSP00000354394\n",
      "http://string-db.org/api/json/interaction_partners?identifiers=%0D9606.ENSP00000354394&species=9606&caller_identity=SapienzaBioInformatics&add_nodes=100000\n",
      "9606.ENSP00000264657\n",
      "http://string-db.org/api/json/interaction_partners?identifiers=%0D9606.ENSP00000264657&species=9606&caller_identity=SapienzaBioInformatics&add_nodes=100000\n",
      "9606.ENSP00000300134\n",
      "http://string-db.org/api/json/interaction_partners?identifiers=%0D9606.ENSP00000300134&species=9606&caller_identity=SapienzaBioInformatics&add_nodes=100000\n",
      "9606.ENSP00000248437\n",
      "http://string-db.org/api/json/interaction_partners?identifiers=%0D9606.ENSP00000248437&species=9606&caller_identity=SapienzaBioInformatics&add_nodes=100000\n",
      "9606.ENSP00000356694\n",
      "http://string-db.org/api/json/interaction_partners?identifiers=%0D9606.ENSP00000356694&species=9606&caller_identity=SapienzaBioInformatics&add_nodes=100000\n",
      "9606.ENSP00000344259\n",
      "http://string-db.org/api/json/interaction_partners?identifiers=%0D9606.ENSP00000344259&species=9606&caller_identity=SapienzaBioInformatics&add_nodes=100000\n"
     ]
    }
   ],
   "source": [
    "res=StringInteraction(String, \"interaction_partners\")"
   ]
  },
  {
   "cell_type": "code",
   "execution_count": 28,
   "metadata": {
    "collapsed": false
   },
   "outputs": [
    {
     "data": {
      "text/plain": [
       "12071"
      ]
     },
     "execution_count": 28,
     "metadata": {},
     "output_type": "execute_result"
    }
   ],
   "source": [
    "len(res[\"preferredName_A\"])"
   ]
  },
  {
   "cell_type": "code",
   "execution_count": 40,
   "metadata": {
    "collapsed": false
   },
   "outputs": [
    {
     "data": {
      "text/plain": [
       "54"
      ]
     },
     "execution_count": 40,
     "metadata": {},
     "output_type": "execute_result"
    }
   ],
   "source": [
    "len(set(res[\"preferredName_A\"]))"
   ]
  },
  {
   "cell_type": "code",
   "execution_count": 29,
   "metadata": {
    "collapsed": true
   },
   "outputs": [],
   "source": [
    "l = list(set(res[\"preferredName_A\"]).union(set(res[\"preferredName_B\"])))"
   ]
  },
  {
   "cell_type": "code",
   "execution_count": 30,
   "metadata": {
    "collapsed": false
   },
   "outputs": [
    {
     "data": {
      "text/plain": [
       "5619"
      ]
     },
     "execution_count": 30,
     "metadata": {},
     "output_type": "execute_result"
    }
   ],
   "source": [
    "len(l)"
   ]
  },
  {
   "cell_type": "code",
   "execution_count": 19,
   "metadata": {
    "collapsed": false
   },
   "outputs": [],
   "source": [
    "l = list(set(String[\"preferredName_A\"]).union(set(String[\"preferredName_B\"])))"
   ]
  },
  {
   "cell_type": "code",
   "execution_count": null,
   "metadata": {
    "collapsed": true
   },
   "outputs": [],
   "source": [
    "temp = [i+\"_HUMAN\" for i in l]"
   ]
  },
  {
   "cell_type": "code",
   "execution_count": 24,
   "metadata": {
    "collapsed": false
   },
   "outputs": [],
   "source": [
    "# partially correct ---> use also HGNC\n",
    "# mapping = u.mapping(\"ID\", \"ACC\", query=temp )\n",
    "\n",
    "# t=0\n",
    "# for i in words:\n",
    "#     t+=1\n",
    "#     try:\n",
    "#         dictio = hgnc.fetch('symbol', i)\n",
    "#         new_dictio = dictio['response']['docs'][0]\n",
    "#         mapping_string[i] = new_dictio['uniprot_ids'][0]\n",
    "#     except:\n",
    "#         print(i)\n",
    "#         print(t)\n",
    "#         data.append(i)"
   ]
  },
  {
   "cell_type": "code",
   "execution_count": null,
   "metadata": {
    "collapsed": false
   },
   "outputs": [],
   "source": [
    "# def worker(genes):\n",
    "#     string = []\n",
    "#     n = len(genes)\n",
    "#     #url=\"http://string-gamma.org/api\"\n",
    "#     method=\"network\"\n",
    "#     print(\"Worker\")\n",
    "#     k = 0\n",
    "#     for binary in genes:\n",
    "#         k +=1\n",
    "#         request_url=buildStringRequest(binary, method)\n",
    "#         request_url += \"&add_nodes=100000\" \n",
    "#         #print(request_url)\n",
    "#         r=requests.get(request_url)\n",
    "#         if r.status_code == 200:\n",
    "#             r = r.json()\n",
    "#             string.extend(r)\n",
    "            \n",
    "#         if k % 20 == 0:\n",
    "#             print(k)\n",
    "#     return string"
   ]
  },
  {
   "cell_type": "code",
   "execution_count": null,
   "metadata": {
    "collapsed": false
   },
   "outputs": [],
   "source": [
    "# def generate_batch(String, n_pool):\n",
    "#     Str = String[\"StringIDs\"]\n",
    "#     n = len(Str)\n",
    "#     genes = []\n",
    "#     Str_par = []\n",
    "#     for i in range(n):\n",
    "#         for j in range((i+1),n):\n",
    "#             genes.append((Str[i], Str[j]))\n",
    "\n",
    "#     ofs = math.ceil(len(genes)/n_pool)\n",
    "#     for i in range(n_pool):\n",
    "#         s = int( i * ofs )\n",
    "#         e = int( (i+1) * ofs )\n",
    "#         Str_par.append(genes[s:e])\n",
    "#     return Str_par"
   ]
  },
  {
   "cell_type": "code",
   "execution_count": null,
   "metadata": {
    "collapsed": false
   },
   "outputs": [],
   "source": [
    "# def parallel(String, worker, n_pool=4):\n",
    "    \n",
    "#     data = generate_batch(String, n_pool)\n",
    "    \n",
    "#     pool = ThreadPool(n_pool)\n",
    "#     results = pool.map(worker, data)\n",
    "#     pool.close() \n",
    "#     pool.join()\n",
    "    \n",
    "#     return results"
   ]
  },
  {
   "cell_type": "code",
   "execution_count": null,
   "metadata": {
    "collapsed": false,
    "scrolled": true
   },
   "outputs": [],
   "source": [
    "# results = parallel(String, worker)"
   ]
  },
  {
   "cell_type": "markdown",
   "metadata": {},
   "source": [
    "## [APID](http://cicblade.dep.usal.es:8080/APID/Interactions.action?protein=Q15057) for query use UniprotID"
   ]
  },
  {
   "cell_type": "code",
   "execution_count": null,
   "metadata": {
    "collapsed": true
   },
   "outputs": [],
   "source": [
    "import requests\n",
    "from bs4 import BeautifulSoup as bs"
   ]
  },
  {
   "cell_type": "code",
   "execution_count": null,
   "metadata": {
    "collapsed": false
   },
   "outputs": [],
   "source": [
    "def APID_routine(query):\n",
    "    data = []\n",
    "    r = requests.get(query)\n",
    "    print(r.status_code)\n",
    "    if r.status_code == 200:\n",
    "        soup = bs(r.text, \"lxml\")\n",
    "        for element in soup.find_all(\"a\"):\n",
    "            logic = element.get(\"href\").startswith(\"http://www.uniprot.org/uniprot/\")\n",
    "            if logic:\n",
    "                data.append(element.get(\"href\").split(\"uniprot/\")[1])\n",
    "    return data"
   ]
  },
  {
   "cell_type": "code",
   "execution_count": null,
   "metadata": {
    "collapsed": false
   },
   "outputs": [],
   "source": [
    "query = \"http://cicblade.dep.usal.es:8080/APID/Interactions.action?protein=\" + uniAC[0]"
   ]
  },
  {
   "cell_type": "code",
   "execution_count": null,
   "metadata": {
    "collapsed": true
   },
   "outputs": [],
   "source": [
    "uniAC = load_json(\"./UniProt.json\")[\"uniprot_AC\"]"
   ]
  },
  {
   "cell_type": "code",
   "execution_count": null,
   "metadata": {
    "collapsed": true
   },
   "outputs": [],
   "source": [
    "import time\n",
    "def APID_api(seed):\n",
    "    apid = {}\n",
    "    for gene in seed:\n",
    "        print(gene)\n",
    "        query = \"http://cicblade.dep.usal.es:8080/APID/Interactions.action?protein=\" + gene\n",
    "        data = APID_routine(query)\n",
    "        apid[gene] = data[:]\n",
    "        print(query)\n",
    "        time.sleep(2)\n",
    "    return apid"
   ]
  },
  {
   "cell_type": "code",
   "execution_count": null,
   "metadata": {
    "collapsed": false
   },
   "outputs": [],
   "source": [
    "apid = APID_api(uniAC)"
   ]
  },
  {
   "cell_type": "code",
   "execution_count": 277,
   "metadata": {
    "collapsed": false
   },
   "outputs": [],
   "source": [
    "map_apid=load_json(\"../data/apid/apid_map_uniprotAC_sym.json\")"
   ]
  },
  {
   "cell_type": "code",
   "execution_count": 281,
   "metadata": {
    "collapsed": true
   },
   "outputs": [],
   "source": [
    "map_string=load_json(\"../data/string/String_map_UniprotID_UniprotAC.json\")"
   ]
  }
 ],
 "metadata": {
  "anaconda-cloud": {},
  "kernelspec": {
   "display_name": "Python [default]",
   "language": "python",
   "name": "python3"
  },
  "language_info": {
   "codemirror_mode": {
    "name": "ipython",
    "version": 3
   },
   "file_extension": ".py",
   "mimetype": "text/x-python",
   "name": "python",
   "nbconvert_exporter": "python",
   "pygments_lexer": "ipython3",
   "version": "3.5.4"
  }
 },
 "nbformat": 4,
 "nbformat_minor": 2
}

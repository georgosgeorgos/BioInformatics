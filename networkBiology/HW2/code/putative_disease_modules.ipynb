{
 "cells": [
  {
   "cell_type": "code",
   "execution_count": 1,
   "metadata": {
    "collapsed": false
   },
   "outputs": [],
   "source": [
    "from scipy.stats import hypergeom\n",
    "from bioservices import QuickGO\n",
    "import matplotlib.pyplot as plt\n",
    "import markov_clustering as mc\n",
    "import scipy.special\n",
    "import networkx as nx\n",
    "import pandas as pd\n",
    "import numpy as np\n",
    "import igraph\n",
    "import json\n",
    "import copy"
   ]
  },
  {
   "cell_type": "code",
   "execution_count": 6,
   "metadata": {
    "collapsed": true
   },
   "outputs": [],
   "source": [
    "def save_json(name, data):\n",
    "    with open(name, \"w\") as f:\n",
    "         json.dump(data, f)\n",
    "    print(\"done.\")"
   ]
  },
  {
   "cell_type": "code",
   "execution_count": 7,
   "metadata": {
    "collapsed": true
   },
   "outputs": [],
   "source": [
    "def load_json(name, data=None):\n",
    "    with open(name, \"r\") as f:\n",
    "         data = json.load(f)\n",
    "    return data"
   ]
  },
  {
   "cell_type": "code",
   "execution_count": 55,
   "metadata": {
    "collapsed": false
   },
   "outputs": [],
   "source": [
    "def global_properties(G):\n",
    "    n_nodes=nx.number_of_nodes(G)\n",
    "    n_edges=nx.number_of_edges(G)\n",
    "    apl=nx.average_shortest_path_length(G)\n",
    "    adc=nx.average_degree_connectivity(G)\n",
    "    acc=nx.average_clustering(G)\n",
    "    d=nx.diameter(G)\n",
    "    r=nx.radius(G)\n",
    "    c=freeman_centralization(G)\n",
    "    res = {\"n_nodes\": n_nodes, \"n_edges\": n_edges, \n",
    "           \"average path length\": apl, \"average degree connectivity\": adc, \"average clustering connectivity\": acc, \n",
    "          \"diameter\": d, \"radius\": r, \"centralization\": c}\n",
    "    return res\n",
    "\n",
    "def local_properties(G, flag=False):\n",
    "    dc= nx.degree_centrality(G)\n",
    "    bc= nx.betweenness_centrality(G)\n",
    "    cc= nx.closeness_centrality(G)\n",
    "    ec= nx.eigenvector_centrality_numpy(G)\n",
    "    ratio= {k: bc[k]/dc[k] for k in dc}\n",
    "    \n",
    "    res= {\"degree centrality\": dc, \"betweenness centrality\": bc, \"closeness centrality\": cc, \"eigenvalues centrality\": ec, \n",
    "          \"ratio\": ratio}\n",
    "    return res\n",
    "\n",
    "def compute_graph(seed, flag=\"s\"):\n",
    "    if flag == \"s\":\n",
    "        G = nx.from_pandas_dataframe(seed, 'SYMBOL_A', 'SYMBOL_B')\n",
    "    else:\n",
    "        G = nx.from_pandas_dataframe(seed, 'UNIPROT_AC_A', 'UNIPROT_AC_B')\n",
    "    return G\n",
    "\n",
    "def compute_LCC(G):\n",
    "    LCC_G = max(nx.connected_component_subgraphs(G), key=len)\n",
    "    return LCC_G"
   ]
  },
  {
   "cell_type": "code",
   "execution_count": 129,
   "metadata": {
    "collapsed": false
   },
   "outputs": [],
   "source": [
    "SGI = pd.read_csv(\"./interactions/interactome.csv\")\n",
    "I = pd.read_csv(\"./interactions/intersection_interactome.csv\")\n",
    "U = pd.read_csv(\"./interactions/union_interactome.csv\")"
   ]
  },
  {
   "cell_type": "code",
   "execution_count": 131,
   "metadata": {
    "collapsed": false
   },
   "outputs": [],
   "source": [
    "G_SGI = compute_graph(SGI)\n",
    "G_I = compute_graph(I)\n",
    "G_U = compute_graph(U)"
   ]
  },
  {
   "cell_type": "code",
   "execution_count": 132,
   "metadata": {
    "collapsed": false
   },
   "outputs": [],
   "source": [
    "LCC_SGI = compute_LCC(G_SGI)\n",
    "LCC_I = compute_LCC(G_I)\n",
    "LCC_U = compute_LCC(G_U)"
   ]
  },
  {
   "cell_type": "code",
   "execution_count": 133,
   "metadata": {
    "collapsed": false,
    "scrolled": false
   },
   "outputs": [],
   "source": [
    "mapping_genes_U={i:j for i,j in enumerate(LCC_U.nodes())}\n",
    "mapping_genes_I={i:j for i,j in enumerate(LCC_I.nodes())}\n",
    "mapping_genes_inverse_U={j:i for i,j in enumerate(LCC_U.nodes())}"
   ]
  },
  {
   "cell_type": "code",
   "execution_count": 134,
   "metadata": {
    "collapsed": true
   },
   "outputs": [],
   "source": [
    "mapping = {\"mapping_genes_U\": mapping_genes_U, \"mapping_genes_I\": mapping_genes_I, \"mapping_genes_inverse_U\": mapping_genes_inverse_U}"
   ]
  },
  {
   "cell_type": "markdown",
   "metadata": {},
   "source": [
    "## 2 clustering methods for disease modules discovery\n"
   ]
  },
  {
   "cell_type": "markdown",
   "metadata": {},
   "source": [
    "* # simulated annealing"
   ]
  },
  {
   "cell_type": "code",
   "execution_count": 139,
   "metadata": {
    "collapsed": true
   },
   "outputs": [],
   "source": [
    "def convert_to_igraph(G):\n",
    "    g = igraph.Graph(directed=False)\n",
    "    g.add_vertices(G.nodes())\n",
    "    g.add_edges(G.edges())\n",
    "#     G_copy = copy.deepcopy(G)\n",
    "#     A = nx.adjacency_matrix(G_copy).todense()\n",
    "#     G_copy = igraph.Graph.Adjacency((A > 0).tolist())\n",
    "#     G_copy.es['weight'] = A[A.nonzero()]\n",
    "#     G_copy.to_undirected()\n",
    "\n",
    "    return g"
   ]
  },
  {
   "cell_type": "code",
   "execution_count": 140,
   "metadata": {
    "collapsed": false
   },
   "outputs": [],
   "source": [
    "def clustering_simulated_annealing(G):\n",
    "    G_i = convert_to_igraph(G)\n",
    "    sa=G_i.community_spinglass()\n",
    "    return sa"
   ]
  },
  {
   "cell_type": "code",
   "execution_count": 141,
   "metadata": {
    "collapsed": true
   },
   "outputs": [],
   "source": [
    "sa_I=clustering_simulated_annealing(LCC_I)"
   ]
  },
  {
   "cell_type": "code",
   "execution_count": 142,
   "metadata": {
    "collapsed": false
   },
   "outputs": [],
   "source": [
    "sa_U=clustering_simulated_annealing(LCC_U)"
   ]
  },
  {
   "cell_type": "code",
   "execution_count": 143,
   "metadata": {
    "collapsed": false,
    "scrolled": true
   },
   "outputs": [
    {
     "name": "stdout",
     "output_type": "stream",
     "text": [
      "Clustering with 54 elements and 6 clusters\n",
      "[0] M3K8, MP2K4, ITAV, TSP1, MK01\n",
      "[1] FBXL4, SKP1, IKBA, FBX5\n",
      "[2] P85B, STAT3, MYOD1, HDAC5, CBL, TWST1, MEF2D, EP300\n",
      "[3] PGFRA, JAK1, IRF1, KS6B1, STAT1, FANCE, STAT2, FOS\n",
      "[4] XRCC3, FLNA, BUB1B, MCPH1, BRCA2, PCNA, KAT2B, FANCG, BRCC3, GRWD1, SMC3,\n",
      "    ERCC5, BCCIP\n",
      "[5] KLHL3, GRIA1, GRP78, MLP3C, HSP74, KPCI, ISG15, FUS, SQSTM, INSR, TRAF6,\n",
      "    GBRAP, ULK2, MTOR, DVL2, UBC\n"
     ]
    }
   ],
   "source": [
    "print(sa_I)"
   ]
  },
  {
   "cell_type": "code",
   "execution_count": 144,
   "metadata": {
    "collapsed": false
   },
   "outputs": [],
   "source": [
    "def routine(cluster):\n",
    "    cluster=list(cluster)\n",
    "    for c in range(len(cluster)):\n",
    "        cluster[c] = mapping_genes_inverse_U[mapping_genes_I[cluster[c]]]\n",
    "    return cluster"
   ]
  },
  {
   "cell_type": "code",
   "execution_count": 145,
   "metadata": {
    "collapsed": false
   },
   "outputs": [
    {
     "data": {
      "text/plain": [
       "<igraph.clustering.VertexClustering at 0x7f68de9b74a8>"
      ]
     },
     "execution_count": 145,
     "metadata": {},
     "output_type": "execute_result"
    }
   ],
   "source": [
    "sa_U"
   ]
  },
  {
   "cell_type": "code",
   "execution_count": 146,
   "metadata": {
    "collapsed": false
   },
   "outputs": [],
   "source": [
    "sa_IJ={k: routine(sa_I[k]) for k in range(len(sa_I))}\n",
    "\n",
    "sa_UJ={k: sa_U[k] for k in range(len(sa_U))}"
   ]
  },
  {
   "cell_type": "code",
   "execution_count": 148,
   "metadata": {
    "collapsed": true
   },
   "outputs": [],
   "source": [
    "annealing={\"sa_I\": sa_IJ, \"sa_U\": sa_UJ}"
   ]
  },
  {
   "cell_type": "markdown",
   "metadata": {},
   "source": [
    "* # markov clustering"
   ]
  },
  {
   "cell_type": "code",
   "execution_count": 149,
   "metadata": {
    "collapsed": false
   },
   "outputs": [],
   "source": [
    "def markov_clustering(G):\n",
    "    matrix = nx.to_scipy_sparse_matrix(G)\n",
    "    result = mc.run_mcl(matrix)\n",
    "    clusters = mc.get_clusters(result)  \n",
    "    return clusters"
   ]
  },
  {
   "cell_type": "code",
   "execution_count": 150,
   "metadata": {
    "collapsed": false,
    "scrolled": false
   },
   "outputs": [
    {
     "name": "stderr",
     "output_type": "stream",
     "text": [
      "/home/georgos/anaconda3/lib/python3.5/site-packages/sklearn/utils/validation.py:429: DataConversionWarning: Data with input dtype int64 was converted to float64 by the normalize function.\n",
      "  warnings.warn(msg, _DataConversionWarning)\n"
     ]
    }
   ],
   "source": [
    "mc_I = markov_clustering(LCC_I)"
   ]
  },
  {
   "cell_type": "code",
   "execution_count": 151,
   "metadata": {
    "collapsed": false,
    "scrolled": true
   },
   "outputs": [
    {
     "name": "stderr",
     "output_type": "stream",
     "text": [
      "/home/georgos/anaconda3/lib/python3.5/site-packages/sklearn/utils/validation.py:429: DataConversionWarning: Data with input dtype int64 was converted to float64 by the normalize function.\n",
      "  warnings.warn(msg, _DataConversionWarning)\n"
     ]
    }
   ],
   "source": [
    "mc_U = markov_clustering(LCC_U)"
   ]
  },
  {
   "cell_type": "code",
   "execution_count": 152,
   "metadata": {
    "collapsed": false
   },
   "outputs": [],
   "source": [
    "mc_IJ={k: routine(mc_I[k]) for k in range(len(mc_I))}\n",
    "\n",
    "mc_UJ={k: mc_U[k] for k in range(len(mc_U))}"
   ]
  },
  {
   "cell_type": "code",
   "execution_count": 153,
   "metadata": {
    "collapsed": false
   },
   "outputs": [],
   "source": [
    "markov={\"mc_I\": mc_IJ, \"mc_U\": mc_UJ}"
   ]
  },
  {
   "cell_type": "markdown",
   "metadata": {},
   "source": [
    " * # louvain clustering"
   ]
  },
  {
   "cell_type": "code",
   "execution_count": 154,
   "metadata": {
    "collapsed": true
   },
   "outputs": [],
   "source": [
    "def clustering_louvain(G):\n",
    "    G_i = convert_to_igraph(G)\n",
    "    lc=G_i.community_multilevel()\n",
    "    return lc"
   ]
  },
  {
   "cell_type": "code",
   "execution_count": 155,
   "metadata": {
    "collapsed": false
   },
   "outputs": [],
   "source": [
    "lc_I=clustering_louvain(LCC_I)\n",
    "lc_U=clustering_louvain(LCC_U)"
   ]
  },
  {
   "cell_type": "code",
   "execution_count": 156,
   "metadata": {
    "collapsed": true
   },
   "outputs": [],
   "source": [
    "lc_IJ={k: routine(lc_I[k]) for k in range(len(lc_I))}\n",
    "\n",
    "lc_UJ={k: lc_U[k] for k in range(len(lc_U))}"
   ]
  },
  {
   "cell_type": "code",
   "execution_count": 157,
   "metadata": {
    "collapsed": true
   },
   "outputs": [],
   "source": [
    "louvain={\"lc_I\": lc_IJ, \"lc_U\": lc_UJ}"
   ]
  },
  {
   "cell_type": "markdown",
   "metadata": {},
   "source": [
    "## load data"
   ]
  },
  {
   "cell_type": "code",
   "execution_count": 308,
   "metadata": {
    "collapsed": true
   },
   "outputs": [],
   "source": [
    "annealing=load_json(\"./annealing.json\")\n",
    "markov=load_json(\"./markov.json\")\n",
    "louvain=load_json(\"./louvain.json\")"
   ]
  },
  {
   "cell_type": "code",
   "execution_count": 184,
   "metadata": {
    "collapsed": false
   },
   "outputs": [],
   "source": [
    "mapping=load_json(\"./mapping.json\")"
   ]
  },
  {
   "cell_type": "code",
   "execution_count": 186,
   "metadata": {
    "collapsed": false
   },
   "outputs": [],
   "source": [
    "# mapping_genes_I=mapping[\"mapping_genes_I\"]\n",
    "# mapping_genes_inverse_U=mapping[\"mapping_genes_inverse_U\"]\n",
    "mapping_genes_U=mapping[\"mapping_genes_U\"]"
   ]
  },
  {
   "cell_type": "code",
   "execution_count": 187,
   "metadata": {
    "collapsed": true
   },
   "outputs": [],
   "source": [
    "mc_U = markov[\"mc_U\"]\n",
    "mc_I = markov[\"mc_I\"]"
   ]
  },
  {
   "cell_type": "code",
   "execution_count": 188,
   "metadata": {
    "collapsed": false
   },
   "outputs": [],
   "source": [
    "sa_U = annealing[\"sa_U\"]\n",
    "sa_I = annealing[\"sa_I\"]"
   ]
  },
  {
   "cell_type": "code",
   "execution_count": 189,
   "metadata": {
    "collapsed": false
   },
   "outputs": [],
   "source": [
    "lc_U = louvain[\"lc_U\"]\n",
    "lc_I = louvain[\"lc_I\"]"
   ]
  },
  {
   "cell_type": "code",
   "execution_count": 90,
   "metadata": {
    "collapsed": true
   },
   "outputs": [],
   "source": [
    "from scipy.misc import comb"
   ]
  },
  {
   "cell_type": "code",
   "execution_count": 287,
   "metadata": {
    "collapsed": true
   },
   "outputs": [],
   "source": [
    "n=300\n",
    "M=6000\n",
    "N=43\n",
    "k=1"
   ]
  },
  {
   "cell_type": "code",
   "execution_count": 288,
   "metadata": {
    "collapsed": false
   },
   "outputs": [
    {
     "data": {
      "text/plain": [
       "0.24922118774281532"
      ]
     },
     "execution_count": 288,
     "metadata": {},
     "output_type": "execute_result"
    }
   ],
   "source": [
    "comb(n, k) * comb(M - n, N - k) / comb(M, N)"
   ]
  },
  {
   "cell_type": "markdown",
   "metadata": {},
   "source": [
    "# hypergeometric test"
   ]
  },
  {
   "cell_type": "code",
   "execution_count": 213,
   "metadata": {
    "collapsed": false
   },
   "outputs": [],
   "source": [
    "def hyper(k, M, n, N):\n",
    "    '''\n",
    "    M pop size\n",
    "    N seed gene in pop\n",
    "    \n",
    "    n sample size\n",
    "    k seed gene in sample\n",
    "    '''\n",
    "#     scipy.special.comb\n",
    "#     num1=scipy.special.binom(K, k)\n",
    "#     num1=np.float128(num1)\n",
    "#     num2=scipy.special.binom((N-K), (n-k))\n",
    "#     num2=np.float128(num2)\n",
    "#     den=scipy.special.binom(N, n)\n",
    "#     den=np.float128(den)\n",
    "#     num=np.dot(num1, num2)\n",
    "    #prb=hypergeom.pmf(k, K, n, N)\n",
    "    #k, M, n, N\n",
    "    #pmf=hypergeom.pmf(k, M, n, N)\n",
    "    cdf=hypergeom.cdf(k, M, n, N)\n",
    "    return 1-cdf"
   ]
  },
  {
   "cell_type": "code",
   "execution_count": 214,
   "metadata": {
    "collapsed": false
   },
   "outputs": [],
   "source": [
    "seed_index=set([int(i) for i in mapping_seed.keys()])"
   ]
  },
  {
   "cell_type": "code",
   "execution_count": 311,
   "metadata": {
    "collapsed": true
   },
   "outputs": [],
   "source": [
    "def hyp_test(mc, p_value):\n",
    "    '''compute value hypergeometric at 95 % confidence\n",
    "    if value inside this confidence accept hypothesis'''\n",
    "    \n",
    "    d={}\n",
    "    M = sum([len(mc[i]) for i in mc])\n",
    "    N = sum([len(set(mc[i]).intersection(seed_index)) for i in mc])\n",
    "    for i in range(len(mc)):\n",
    "        \n",
    "        module_genes=mc[str(i)]\n",
    "        seed_genes=list(set(mc[str(i)]).intersection(seed_index))\n",
    "        n = len(module_genes)\n",
    "        k = len(seed_genes)\n",
    "        p_value=hyper(k, M, n, N)\n",
    "        d[i] = [seed_genes, module_genes, p_value]\n",
    "    return d"
   ]
  },
  {
   "cell_type": "markdown",
   "metadata": {},
   "source": [
    "# putative disease modules"
   ]
  },
  {
   "cell_type": "code",
   "execution_count": 355,
   "metadata": {
    "collapsed": false
   },
   "outputs": [],
   "source": [
    "def routine_pdm(d, p_value):\n",
    "    pdm={}\n",
    "    for i in d:\n",
    "        if d[i][2] < p_value:\n",
    "            pdm[i] = d[i]\n",
    "    return pdm\n",
    "\n",
    "def putative_disease_modules(p_value=0.05):\n",
    "    PDMs = {}\n",
    "    for cluster in [markov, annealing, louvain]:\n",
    "        for c in cluster:\n",
    "            k=c.split(\"_\")[1]\n",
    "            cl=cluster[c]\n",
    "            d=hyp_test(cl, p_value)\n",
    "            pdm=routine_pdm(d, p_value)\n",
    "\n",
    "            PDMs[c] = pdm\n",
    "    return PDMs"
   ]
  },
  {
   "cell_type": "code",
   "execution_count": 356,
   "metadata": {
    "collapsed": false
   },
   "outputs": [],
   "source": [
    "PDMs=putative_disease_modules(p_value=0.05)"
   ]
  },
  {
   "cell_type": "code",
   "execution_count": 357,
   "metadata": {
    "collapsed": false
   },
   "outputs": [
    {
     "data": {
      "text/plain": [
       "dict_keys(['mc_U', 'sa_U', 'lc_I', 'mc_I', 'lc_U', 'sa_I'])"
      ]
     },
     "execution_count": 357,
     "metadata": {},
     "output_type": "execute_result"
    }
   ],
   "source": [
    "PDMs.keys()"
   ]
  },
  {
   "cell_type": "code",
   "execution_count": 358,
   "metadata": {
    "collapsed": false
   },
   "outputs": [],
   "source": [
    "def routine_table(PDMs, flag=\"I\"):\n",
    "    table= {\"clustering_algo\":[], \"index_module\":[], \"n_seed_genes\":[], \"n_genes\":[], \"ratio_s/g\":[],  \"p_value\":[]}\n",
    "    \n",
    "    if flag == \"I\":\n",
    "        lista=[\"lc_I\", \"mc_I\", \"sa_I\"]\n",
    "    else:\n",
    "        lista=[\"lc_U\", \"mc_U\", \"sa_U\"]\n",
    "        \n",
    "    for i in lista:\n",
    "        temp=PDMs[i]\n",
    "        keys=sorted(temp.keys())\n",
    "        for k in keys:\n",
    "            n_seed=len(temp[k][0])\n",
    "            n_genes=len(temp[k][1])\n",
    "            p_value=temp[k][2]\n",
    "            \n",
    "            if n_seed > 0:\n",
    "                j=i.split(\"_\")[0]\n",
    "                if j == \"lc\":\n",
    "                    table[\"clustering_algo\"].append(\"louvain\")\n",
    "                elif j == \"mc\":\n",
    "                    table[\"clustering_algo\"].append(\"markov\")\n",
    "                else:\n",
    "                    table[\"clustering_algo\"].append(\"annealing\")\n",
    "                table[\"index_module\"].append(k)\n",
    "                table[\"n_seed_genes\"].append(n_seed)\n",
    "                table[\"n_genes\"].append(n_genes)\n",
    "                table[\"ratio_s/g\"].append(n_seed/n_genes)\n",
    "                table[\"p_value\"].append(p_value)\n",
    "    return table\n",
    "        "
   ]
  },
  {
   "cell_type": "code",
   "execution_count": 368,
   "metadata": {
    "collapsed": true
   },
   "outputs": [],
   "source": [
    "table_module_I = routine_table(PDMs)\n",
    "table_module_U = routine_table(PDMs, flag=\"U\")"
   ]
  },
  {
   "cell_type": "code",
   "execution_count": 372,
   "metadata": {
    "collapsed": false,
    "scrolled": true
   },
   "outputs": [],
   "source": [
    "table_module_I=pd.DataFrame(table_module_I, columns=[\"clustering_algo\", \"index_module\", \"n_seed_genes\", \"n_genes\", \"ratio_s/g\", \"p_value\"])\n",
    "table_module_U=pd.DataFrame(table_module_U, columns=[\"clustering_algo\", \"index_module\", \"n_seed_genes\", \"n_genes\", \"ratio_s/g\", \"p_value\"])"
   ]
  },
  {
   "cell_type": "code",
   "execution_count": 378,
   "metadata": {
    "collapsed": false
   },
   "outputs": [
    {
     "data": {
      "text/html": [
       "<div>\n",
       "<table border=\"1\" class=\"dataframe\">\n",
       "  <thead>\n",
       "    <tr style=\"text-align: right;\">\n",
       "      <th></th>\n",
       "      <th>clustering_algo</th>\n",
       "      <th>index_module</th>\n",
       "      <th>n_seed_genes</th>\n",
       "      <th>n_genes</th>\n",
       "      <th>ratio_s/g</th>\n",
       "      <th>p_value</th>\n",
       "    </tr>\n",
       "  </thead>\n",
       "  <tbody>\n",
       "    <tr>\n",
       "      <th>0</th>\n",
       "      <td>louvain</td>\n",
       "      <td>1</td>\n",
       "      <td>2</td>\n",
       "      <td>8</td>\n",
       "      <td>0.250000</td>\n",
       "      <td>0.035820</td>\n",
       "    </tr>\n",
       "    <tr>\n",
       "      <th>1</th>\n",
       "      <td>markov</td>\n",
       "      <td>6</td>\n",
       "      <td>1</td>\n",
       "      <td>3</td>\n",
       "      <td>0.333333</td>\n",
       "      <td>0.028778</td>\n",
       "    </tr>\n",
       "    <tr>\n",
       "      <th>2</th>\n",
       "      <td>markov</td>\n",
       "      <td>8</td>\n",
       "      <td>1</td>\n",
       "      <td>2</td>\n",
       "      <td>0.500000</td>\n",
       "      <td>0.010101</td>\n",
       "    </tr>\n",
       "    <tr>\n",
       "      <th>3</th>\n",
       "      <td>annealing</td>\n",
       "      <td>2</td>\n",
       "      <td>2</td>\n",
       "      <td>8</td>\n",
       "      <td>0.250000</td>\n",
       "      <td>0.035820</td>\n",
       "    </tr>\n",
       "  </tbody>\n",
       "</table>\n",
       "</div>"
      ],
      "text/plain": [
       "  clustering_algo  index_module  n_seed_genes  n_genes  ratio_s/g   p_value\n",
       "0         louvain             1             2        8   0.250000  0.035820\n",
       "1          markov             6             1        3   0.333333  0.028778\n",
       "2          markov             8             1        2   0.500000  0.010101\n",
       "3       annealing             2             2        8   0.250000  0.035820"
      ]
     },
     "execution_count": 378,
     "metadata": {},
     "output_type": "execute_result"
    }
   ],
   "source": [
    "table_module_I.head()"
   ]
  },
  {
   "cell_type": "code",
   "execution_count": 375,
   "metadata": {
    "collapsed": false
   },
   "outputs": [
    {
     "data": {
      "text/html": [
       "<div>\n",
       "<table border=\"1\" class=\"dataframe\">\n",
       "  <thead>\n",
       "    <tr style=\"text-align: right;\">\n",
       "      <th></th>\n",
       "      <th>clustering_algo</th>\n",
       "      <th>index_module</th>\n",
       "      <th>n_seed_genes</th>\n",
       "      <th>n_genes</th>\n",
       "      <th>ratio_s/g</th>\n",
       "      <th>p_value</th>\n",
       "    </tr>\n",
       "  </thead>\n",
       "  <tbody>\n",
       "    <tr>\n",
       "      <th>0</th>\n",
       "      <td>louvain</td>\n",
       "      <td>13</td>\n",
       "      <td>8</td>\n",
       "      <td>668</td>\n",
       "      <td>0.011976</td>\n",
       "      <td>0.035935</td>\n",
       "    </tr>\n",
       "    <tr>\n",
       "      <th>1</th>\n",
       "      <td>markov</td>\n",
       "      <td>0</td>\n",
       "      <td>1</td>\n",
       "      <td>36</td>\n",
       "      <td>0.027778</td>\n",
       "      <td>0.024973</td>\n",
       "    </tr>\n",
       "    <tr>\n",
       "      <th>2</th>\n",
       "      <td>markov</td>\n",
       "      <td>9</td>\n",
       "      <td>1</td>\n",
       "      <td>39</td>\n",
       "      <td>0.025641</td>\n",
       "      <td>0.028994</td>\n",
       "    </tr>\n",
       "    <tr>\n",
       "      <th>3</th>\n",
       "      <td>markov</td>\n",
       "      <td>13</td>\n",
       "      <td>1</td>\n",
       "      <td>27</td>\n",
       "      <td>0.037037</td>\n",
       "      <td>0.014469</td>\n",
       "    </tr>\n",
       "    <tr>\n",
       "      <th>4</th>\n",
       "      <td>markov</td>\n",
       "      <td>37</td>\n",
       "      <td>1</td>\n",
       "      <td>42</td>\n",
       "      <td>0.023810</td>\n",
       "      <td>0.033255</td>\n",
       "    </tr>\n",
       "  </tbody>\n",
       "</table>\n",
       "</div>"
      ],
      "text/plain": [
       "  clustering_algo  index_module  n_seed_genes  n_genes  ratio_s/g   p_value\n",
       "0         louvain            13             8      668   0.011976  0.035935\n",
       "1          markov             0             1       36   0.027778  0.024973\n",
       "2          markov             9             1       39   0.025641  0.028994\n",
       "3          markov            13             1       27   0.037037  0.014469\n",
       "4          markov            37             1       42   0.023810  0.033255"
      ]
     },
     "execution_count": 375,
     "metadata": {},
     "output_type": "execute_result"
    }
   ],
   "source": [
    "table_module_U.head()"
   ]
  },
  {
   "cell_type": "markdown",
   "metadata": {},
   "source": [
    "# 3 enrichment"
   ]
  },
  {
   "cell_type": "code",
   "execution_count": 379,
   "metadata": {
    "collapsed": true
   },
   "outputs": [],
   "source": [
    "import json\n",
    "import pandas as pd\n",
    "from bioservices import KEGG\n",
    "from bioservices import UniProt"
   ]
  },
  {
   "cell_type": "code",
   "execution_count": 380,
   "metadata": {
    "collapsed": false
   },
   "outputs": [],
   "source": [
    "PDMs=load_json(\"./putative_disease_modules/PDMs.json\")\n",
    "mapping = load_json('./clustering/mapping.json')"
   ]
  },
  {
   "cell_type": "code",
   "execution_count": 381,
   "metadata": {
    "collapsed": false
   },
   "outputs": [],
   "source": [
    "import json\n",
    "import requests\n",
    "\n",
    "def retrieveUserListId(sym_genes):\n",
    "    ENRICHR_URL = 'http://amp.pharm.mssm.edu/Enrichr/addList'\n",
    "    genes_str = '\\n'.join(sym_genes)\n",
    "    description = 'Example gene list'\n",
    "    payload = {\n",
    "        'list': (None, genes_str),\n",
    "        'description': (None, description)\n",
    "    }\n",
    "    response = requests.post(ENRICHR_URL, files=payload)\n",
    "    if not response.ok:\n",
    "        raise Exception('Error analyzing gene list')\n",
    "        \n",
    "    data = json.loads(response.text)\n",
    "    return data"
   ]
  },
  {
   "cell_type": "code",
   "execution_count": 382,
   "metadata": {
    "collapsed": false
   },
   "outputs": [],
   "source": [
    "def retrieveGO(data):\n",
    "    ENRICHR_URL = 'http://amp.pharm.mssm.edu/Enrichr/enrich'\n",
    "    query_string = '?userListId=%s&backgroundType=%s'\n",
    "    user_list_id = data['userListId']\n",
    "    db = 'GO_Biological_Process_2017b'\n",
    "    response = requests.get(\n",
    "        ENRICHR_URL + query_string % (user_list_id, db)\n",
    "     )\n",
    "    if not response.ok:\n",
    "        raise Exception('Error fetching enrichment results')\n",
    "\n",
    "    GO = json.loads(response.text)\n",
    "    return GO"
   ]
  },
  {
   "cell_type": "code",
   "execution_count": 383,
   "metadata": {
    "collapsed": true
   },
   "outputs": [],
   "source": [
    "def retrievePathway(data):\n",
    "    ENRICHR_URL = 'http://amp.pharm.mssm.edu/Enrichr/enrich'\n",
    "    query_string = '?userListId=%s&backgroundType=%s'\n",
    "    user_list_id = data['userListId']\n",
    "    db = 'KEGG_2016'\n",
    "    response = requests.get(\n",
    "        ENRICHR_URL + query_string % (user_list_id, db)\n",
    "     )\n",
    "    if not response.ok:\n",
    "        raise Exception('Error fetching enrichment results')\n",
    "\n",
    "    path = json.loads(response.text)\n",
    "    return path"
   ]
  },
  {
   "cell_type": "code",
   "execution_count": 384,
   "metadata": {
    "collapsed": true
   },
   "outputs": [],
   "source": [
    "def routineGO(data, module_index=[], clustering_method=[]):\n",
    "    GO=retrieveGO(data)\n",
    "    GO=GO[\"GO_Biological_Process_2017b\"][:10]\n",
    "    GO=[go[1:5] for go in GO]\n",
    "    GO_df=pd.DataFrame(GO)\n",
    "    GO_df.columns = ['GO category', 'P-value', 'Z-score', 'Combined score']\n",
    "    if module_index != [] and clustering_method != []:\n",
    "        GO_df[\"module index\"] = module_index\n",
    "        GO_df[\"clustering method\"] = clustering_method\n",
    "    return GO_df"
   ]
  },
  {
   "cell_type": "code",
   "execution_count": 393,
   "metadata": {
    "collapsed": true
   },
   "outputs": [],
   "source": [
    "def routinePathway(data, module_index=[], clustering_method=[]):\n",
    "    pathway=retrievePathway(data)\n",
    "    pathway=pathway[\"KEGG_2016\"][:10]\n",
    "    pathway=[path[1:6] for path in pathway]\n",
    "    pathway_df=pd.DataFrame(pathway)\n",
    "    pathway_df.columns = ['name', 'P-value', 'Z-score', 'Combined score', \"overlapping genes\"]\n",
    "    if module_index != [] and clustering_method != []:\n",
    "        pathway_df[\"module index\"] = module_index\n",
    "        pathway_df[\"clustering method\"] = clustering_method\n",
    "    return pathway_df"
   ]
  },
  {
   "cell_type": "code",
   "execution_count": 387,
   "metadata": {
    "collapsed": true
   },
   "outputs": [],
   "source": [
    "mapU=mapping[\"mapping_genes_U\"]"
   ]
  },
  {
   "cell_type": "code",
   "execution_count": 388,
   "metadata": {
    "collapsed": false
   },
   "outputs": [],
   "source": [
    "clusters_U=[\"sa_U\", \"mc_U\", \"lc_U\"]\n",
    "clusters_I=[\"sa_I\", \"mc_I\", \"lc_I\"]"
   ]
  },
  {
   "cell_type": "code",
   "execution_count": 389,
   "metadata": {
    "collapsed": true
   },
   "outputs": [],
   "source": [
    "methods=[\"simulated annealing\", \"markov clusters\", \"louvain clusters\"]"
   ]
  },
  {
   "cell_type": "code",
   "execution_count": 390,
   "metadata": {
    "collapsed": false
   },
   "outputs": [],
   "source": [
    "def createTableGO(clusters):\n",
    "    GO_list=[]\n",
    "    i=0\n",
    "    for cu in clusters:\n",
    "        for module_index in PDMs[cu]:\n",
    "            if len(PDMs[cu][module_index][1]) > 20:\n",
    "                sym_genes=[mapU[str(s)] for s in PDMs[cu][module_index][1]]\n",
    "                data=retrieveUserListId(sym_genes)\n",
    "                go_df=routineGO(data, module_index, methods[i])\n",
    "                GO_list.append(go_df)\n",
    "        i+=1\n",
    "    \n",
    "    if GO_list == []:\n",
    "        return None\n",
    "    \n",
    "    GO_df=GO_list[0]\n",
    "    for go in GO_list[1:]:\n",
    "        GO_df =pd.concat([GO_df, go])\n",
    "    return GO_df"
   ]
  },
  {
   "cell_type": "code",
   "execution_count": 391,
   "metadata": {
    "collapsed": true
   },
   "outputs": [],
   "source": [
    "def createTablePathway(clusters):\n",
    "    PATH_list=[]\n",
    "    i=0\n",
    "    for cu in clusters:\n",
    "        for module_index in PDMs[cu]:\n",
    "            if len(PDMs[cu][module_index][1]) > 20:\n",
    "                sym_genes=[mapU[str(s)] for s in PDMs[cu][module_index][1]]\n",
    "                data=retrieveUserListId(sym_genes)\n",
    "                path_df=routinePathway(data, module_index, methods[i])\n",
    "                PATH_list.append(path_df)\n",
    "        i+=1\n",
    "        \n",
    "    if PATH_list == []:\n",
    "        return None\n",
    "    \n",
    "    PATH_df=PATH_list[0]\n",
    "    for path in PATH_list[1:]:\n",
    "        PATH_df =pd.concat([PATH_df, path])\n",
    "    return PATH_df"
   ]
  },
  {
   "cell_type": "code",
   "execution_count": 394,
   "metadata": {
    "collapsed": false
   },
   "outputs": [],
   "source": [
    "GO_df_U=createTableGO(clusters_U)\n",
    "PATH_df_U=createTablePathway(clusters_U)"
   ]
  },
  {
   "cell_type": "markdown",
   "metadata": {},
   "source": [
    "## alternative method to retrieve GO categories"
   ]
  },
  {
   "cell_type": "code",
   "execution_count": 102,
   "metadata": {
    "collapsed": false
   },
   "outputs": [],
   "source": [
    "def convert_uniprotID(seed):\n",
    "    genes=[]\n",
    "    for t in range(len(seed)):\n",
    "        genes.append(mapping_genes_U[str(seed[t])]+\"_HUMAN\")\n",
    "    return genes"
   ]
  },
  {
   "cell_type": "code",
   "execution_count": 103,
   "metadata": {
    "collapsed": false
   },
   "outputs": [],
   "source": [
    "def convert_kegg(genes):\n",
    "    kegg_identifiers=u.mapping(fr=\"ID\", to=\"KEGG_ID\", query=genes)\n",
    "    kegg_id = {}\n",
    "    for k in kegg_identifiers:\n",
    "        kegg_id[k] = kegg_identifiers[k][0]\n",
    "    return kegg_id"
   ]
  },
  {
   "cell_type": "code",
   "execution_count": 104,
   "metadata": {
    "collapsed": true
   },
   "outputs": [],
   "source": [
    "def convert_uniprotAC(genes):\n",
    "    uni_identifiers=u.mapping(fr=\"ID\", to=\"ACC\", query=genes)\n",
    "    uni_id = {}\n",
    "    for k in uni_identifiers:\n",
    "        uni_id[k] = uni_identifiers[k][0]\n",
    "    return uni_id"
   ]
  },
  {
   "cell_type": "code",
   "execution_count": 105,
   "metadata": {
    "collapsed": false
   },
   "outputs": [],
   "source": [
    "def routineGO(tt):\n",
    "    uniprot_id=convert_uniprotID(tt)\n",
    "    uni_ac = convert_uniprotAC(uniprot_id)\n",
    "    uni_string=\",\".join(list(uni_ac.values()))\n",
    "    res=s.Annotation(geneProductId=uni_string, taxonId=9606)\n",
    "    return res"
   ]
  },
  {
   "cell_type": "code",
   "execution_count": null,
   "metadata": {
    "collapsed": true
   },
   "outputs": [],
   "source": [
    "s = QuickGO()"
   ]
  },
  {
   "cell_type": "code",
   "execution_count": 108,
   "metadata": {
    "collapsed": true
   },
   "outputs": [],
   "source": [
    "def compute_enrichment(PDMs, limit=10):\n",
    "    enrichment={k:{} for k in PDMs}\n",
    "\n",
    "    for clu in PDMs:\n",
    "        cluster=PDMs[clu]\n",
    "        for c in cluster:\n",
    "            tt=PDMs[clu][c][1]\n",
    "            res=routineGO(tt)\n",
    "\n",
    "            enrichment[clu][c] = res[\"results\"][:limit]\n",
    "    return enrichment\n",
    "enrichment=compute_enrichment(PDMs)"
   ]
  },
  {
   "cell_type": "markdown",
   "metadata": {},
   "source": [
    "# netcarto"
   ]
  },
  {
   "cell_type": "code",
   "execution_count": 407,
   "metadata": {
    "collapsed": true
   },
   "outputs": [],
   "source": [
    "PMDs = load_json(\"./putative_disease_modules/PDMs.json\")"
   ]
  },
  {
   "cell_type": "code",
   "execution_count": 415,
   "metadata": {
    "collapsed": false
   },
   "outputs": [],
   "source": [
    "def partitions(PDMs, LCC_I, LCC_U):\n",
    "    \n",
    "    lcc_i = pd.DataFrame(np.array(LCC_I.edges()))\n",
    "    lcc_i.to_csv(\"lcc_i.dat\",index=False, header=False, sep=\" \")\n",
    "    \n",
    "    partition=set([mapping_genes_U[str(i)] for i in PDMs[\"sa_U\"][\"16\"][1]])\n",
    "    graph_partition=[]\n",
    "    graph=LCC_U.edges()\n",
    "    for g in graph:\n",
    "        if g[0] in partition and g[1] in partition:\n",
    "            graph_partition.append(g)\n",
    "    partition=pd.DataFrame(np.array(graph_partition))\n",
    "    \n",
    "    partition.to_csv(\"lcc_u.dat\",index=False, header=False, sep=\" \")"
   ]
  },
  {
   "cell_type": "code",
   "execution_count": 416,
   "metadata": {
    "collapsed": false
   },
   "outputs": [],
   "source": [
    "partitions(PDMs, LCC_I, LCC_U)"
   ]
  },
  {
   "cell_type": "markdown",
   "metadata": {},
   "source": [
    "# DIAMOnD"
   ]
  },
  {
   "cell_type": "code",
   "execution_count": null,
   "metadata": {
    "collapsed": true
   },
   "outputs": [],
   "source": [
    "res=pd.read_csv(\"./DIAMOnD/other/9606_noISI_Q3.txt\", sep=\"\\t\")\n",
    "apid=np.array(list(zip(res[\"GeneName_A\"], res[\"GeneName_B\"])) )\n",
    "apid_df= pd.DataFrame(apid)\n",
    "apid_df.to_csv(\"apid_df.csv\", sep=\" \", header=False, index=False)"
   ]
  },
  {
   "cell_type": "code",
   "execution_count": null,
   "metadata": {
    "collapsed": true
   },
   "outputs": [],
   "source": [
    "import zipfile\n",
    "with zipfile.ZipFile(\"./DIAMOnD/BIOGRID-ORGANISM-3.4.155.mitab.zip\", \"r\") as f:\n",
    "    for name in f.namelist():\n",
    "        if name == \"BIOGRID-ORGANISM-Homo_sapiens-3.4.155.mitab.txt\":\n",
    "            data = f.read(name)\n",
    "            print (name)"
   ]
  },
  {
   "cell_type": "code",
   "execution_count": null,
   "metadata": {
    "collapsed": true
   },
   "outputs": [],
   "source": [
    "name = \"./DIAMOnD/BIOGRID-ORGANISM-Homo_sapiens-3.4.155.mitab.txt\"\n",
    "with open(name, \"r\") as f:\n",
    "    data=f.read()"
   ]
  },
  {
   "cell_type": "code",
   "execution_count": null,
   "metadata": {
    "collapsed": true
   },
   "outputs": [],
   "source": [
    "data=data.split(\"\\n\")\n",
    "data=[data[i].split(\"\\t\") for i in range(len(data))]\n",
    "\n",
    "new_data=[[] for i in range(len(data[0]))]\n",
    "for row in data[1:]:\n",
    "    for i in range(len(row)):\n",
    "        new_data[i].append(row[i])\n",
    "        \n",
    "data_dict={data[0][i]:new_data[i] for i in range(len(data[0]))}\n",
    "data_dict[\"#ID Interactor A\"] = data_dict[\"#ID Interactor A\"][:-1]"
   ]
  },
  {
   "cell_type": "code",
   "execution_count": null,
   "metadata": {
    "collapsed": true
   },
   "outputs": [],
   "source": [
    "data_df=pd.DataFrame(data_dict)\n",
    "data_df.to_csv(\"./DIAMOnD/bioGrid_df.csv\")"
   ]
  },
  {
   "cell_type": "code",
   "execution_count": null,
   "metadata": {
    "collapsed": true
   },
   "outputs": [],
   "source": [
    "A=data_df[\"#ID Interactor A\"]\n",
    "B=data_df[\"ID Interactor B\"]\n",
    "\n",
    "A_biogrid=[]\n",
    "for a in A.values:\n",
    "    temp=a.split(\":\")[1]\n",
    "    A_biogrid.append(temp)\n",
    "    \n",
    "B_biogrid=[]\n",
    "for a in B.values:\n",
    "    temp=a.split(\":\")[1]\n",
    "    B_biogrid.append(temp)\n",
    "    \n",
    "biogrid_diamond=list(zip(A_biogrid, B_biogrid))\n",
    "biogrid_diamond=np.array(biogrid_diamond)\n",
    "biogrid_diamond=pd.DataFrame(biogrid_diamond)\n",
    "biogrid_diamond.to_csv(\"biogrid_diamond.csv\", header=False, sep=\" \", index=False)"
   ]
  },
  {
   "cell_type": "code",
   "execution_count": 418,
   "metadata": {
    "collapsed": false
   },
   "outputs": [],
   "source": [
    "seed=load_json(\"../HW1/data/seed.json\")"
   ]
  },
  {
   "cell_type": "code",
   "execution_count": 420,
   "metadata": {
    "collapsed": false
   },
   "outputs": [],
   "source": [
    "seed=seed[\"seed_AC\"]"
   ]
  },
  {
   "cell_type": "code",
   "execution_count": 430,
   "metadata": {
    "collapsed": false
   },
   "outputs": [],
   "source": [
    "res_list=[]\n",
    "u = UniProt(verbose=False)\n",
    "for q in seed:\n",
    "    res=u.mapping(fr=\"ACC\", to=\"P_ENTREZGENEID\", query=q)\n",
    "    res_list.append(res)\n"
   ]
  },
  {
   "cell_type": "markdown",
   "metadata": {
    "collapsed": true
   },
   "source": [
    "# enrichment DIAMOnD"
   ]
  },
  {
   "cell_type": "code",
   "execution_count": 471,
   "metadata": {
    "collapsed": false
   },
   "outputs": [],
   "source": [
    "import bioservices as bi\n",
    "u = bi.UniProt(verbose = False)\n",
    "\n",
    "apid=pd.read_csv(\"./DIAMOnD/output/apid_200.txt\", sep=\"\\t\")[\"DIAMOnD_node\"].values\n",
    "biogrid=pd.read_csv(\"./DIAMOnD/output/biogrid_200.txt\", sep=\"\\t\")[\"DIAMOnD_node\"].values"
   ]
  },
  {
   "cell_type": "code",
   "execution_count": 503,
   "metadata": {
    "collapsed": false
   },
   "outputs": [],
   "source": [
    "mapping_biogrid=u.mapping(fr=\"P_ENTREZGENEID\", to=\"ID\", query=biogrid)"
   ]
  },
  {
   "cell_type": "code",
   "execution_count": 519,
   "metadata": {
    "collapsed": false
   },
   "outputs": [],
   "source": [
    "biogrid_symbol=[mapping_biogrid[k][0].split(\"_\")[0] for k in mapping_biogrid]\n",
    "\n",
    "diamond_df = {\"biogrid\": biogrid_symbol[:40], \"apid\": apid[:40]}\n",
    "\n",
    "diamond_df = pd.DataFrame(diamond_df)"
   ]
  },
  {
   "cell_type": "code",
   "execution_count": 523,
   "metadata": {
    "collapsed": false,
    "scrolled": false
   },
   "outputs": [
    {
     "data": {
      "text/html": [
       "<div>\n",
       "<table border=\"1\" class=\"dataframe\">\n",
       "  <thead>\n",
       "    <tr style=\"text-align: right;\">\n",
       "      <th></th>\n",
       "      <th>apid</th>\n",
       "      <th>biogrid</th>\n",
       "    </tr>\n",
       "  </thead>\n",
       "  <tbody>\n",
       "    <tr>\n",
       "      <th>0</th>\n",
       "      <td>PTPN2</td>\n",
       "      <td>B5B2P4</td>\n",
       "    </tr>\n",
       "    <tr>\n",
       "      <th>1</th>\n",
       "      <td>PML</td>\n",
       "      <td>RFA1</td>\n",
       "    </tr>\n",
       "    <tr>\n",
       "      <th>2</th>\n",
       "      <td>MAPK1</td>\n",
       "      <td>TAT</td>\n",
       "    </tr>\n",
       "    <tr>\n",
       "      <th>3</th>\n",
       "      <td>BRCA1</td>\n",
       "      <td>A0A0U3FYV6</td>\n",
       "    </tr>\n",
       "    <tr>\n",
       "      <th>4</th>\n",
       "      <td>STAT5A</td>\n",
       "      <td>A8K503</td>\n",
       "    </tr>\n",
       "  </tbody>\n",
       "</table>\n",
       "</div>"
      ],
      "text/plain": [
       "     apid     biogrid\n",
       "0   PTPN2      B5B2P4\n",
       "1     PML        RFA1\n",
       "2   MAPK1         TAT\n",
       "3   BRCA1  A0A0U3FYV6\n",
       "4  STAT5A      A8K503"
      ]
     },
     "execution_count": 523,
     "metadata": {},
     "output_type": "execute_result"
    }
   ],
   "source": [
    "diamond_df.head()"
   ]
  },
  {
   "cell_type": "code",
   "execution_count": 589,
   "metadata": {
    "collapsed": false
   },
   "outputs": [],
   "source": [
    "intersection=[]\n",
    "\n",
    "biogrid_set=set(biogrid_symbol)\n",
    "apid_set=set(apid)\n",
    "\n",
    "for i in range(len(biogrid_symbol)):\n",
    "    if biogrid_symbol[i] in apid_set:\n",
    "        if biogrid_symbol[i] not in set(intersection):\n",
    "            intersection.append(biogrid_symbol[i])\n",
    "    if apid[i] in biogrid_set:\n",
    "        if apid[i] not in set(intersection):\n",
    "            intersection.append(apid[i])"
   ]
  },
  {
   "cell_type": "code",
   "execution_count": 593,
   "metadata": {
    "collapsed": true
   },
   "outputs": [],
   "source": [
    "hgnc = bi.HGNC()"
   ]
  },
  {
   "cell_type": "code",
   "execution_count": 595,
   "metadata": {
    "collapsed": true
   },
   "outputs": [],
   "source": [
    "gene_names=[]"
   ]
  },
  {
   "cell_type": "code",
   "execution_count": 596,
   "metadata": {
    "collapsed": false
   },
   "outputs": [],
   "source": [
    "for i in intersection:\n",
    "    try:\n",
    "        dictio = hgnc.fetch('symbol', i)\n",
    "        gene_name = dictio['response']['docs'][0][\"name\"]\n",
    "\n",
    "        gene_names.append((i, gene_name))\n",
    "    except:\n",
    "        print(i)\n",
    "        continue"
   ]
  },
  {
   "cell_type": "markdown",
   "metadata": {},
   "source": [
    "### GO and Pathways "
   ]
  },
  {
   "cell_type": "code",
   "execution_count": 604,
   "metadata": {
    "collapsed": true
   },
   "outputs": [],
   "source": [
    "intersection_seed=list(set(intersection).union(set(seed)))"
   ]
  },
  {
   "cell_type": "code",
   "execution_count": 606,
   "metadata": {
    "collapsed": false
   },
   "outputs": [],
   "source": [
    "data=retrieveUserListId(intersection_seed)\n",
    "go_DIAMOnD=routineGO(data)\n",
    "pathway_DIAMOnD=routinePathway(data)"
   ]
  }
 ],
 "metadata": {
  "anaconda-cloud": {},
  "kernelspec": {
   "display_name": "Python [conda root]",
   "language": "python",
   "name": "conda-root-py"
  },
  "language_info": {
   "codemirror_mode": {
    "name": "ipython",
    "version": 3
   },
   "file_extension": ".py",
   "mimetype": "text/x-python",
   "name": "python",
   "nbconvert_exporter": "python",
   "pygments_lexer": "ipython3",
   "version": "3.5.4"
  }
 },
 "nbformat": 4,
 "nbformat_minor": 2
}

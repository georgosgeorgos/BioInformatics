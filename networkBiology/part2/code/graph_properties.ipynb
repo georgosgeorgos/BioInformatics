{
 "cells": [
  {
   "cell_type": "code",
   "execution_count": 349,
   "metadata": {
    "collapsed": true
   },
   "outputs": [],
   "source": [
    "import matplotlib.pyplot as plt\n",
    "import networkx as nx\n",
    "import pandas as pd\n",
    "import numpy as np\n",
    "import json\n",
    "import seaborn as sns"
   ]
  },
  {
   "cell_type": "code",
   "execution_count": 350,
   "metadata": {
    "collapsed": true
   },
   "outputs": [],
   "source": [
    "import warnings\n",
    "warnings.filterwarnings('ignore')"
   ]
  },
  {
   "cell_type": "code",
   "execution_count": 351,
   "metadata": {
    "collapsed": true
   },
   "outputs": [],
   "source": [
    "def save_json(name, data):\n",
    "    with open(name, \"w\") as f:\n",
    "         json.dump(data, f)\n",
    "    print(\"done.\")"
   ]
  },
  {
   "cell_type": "code",
   "execution_count": 352,
   "metadata": {
    "collapsed": true
   },
   "outputs": [],
   "source": [
    "def load_json(name, data=None):\n",
    "    with open(name, \"r\") as f:\n",
    "         data = json.load(f)\n",
    "    return data"
   ]
  },
  {
   "cell_type": "code",
   "execution_count": 353,
   "metadata": {
    "collapsed": false
   },
   "outputs": [],
   "source": [
    "SGI = pd.read_csv(\"./interactions/interactome.csv\")\n",
    "I = pd.read_csv(\"./interactions/intersection_interactome.csv\")\n",
    "U = pd.read_csv(\"./interactions/union_interactome.csv\")"
   ]
  },
  {
   "cell_type": "code",
   "execution_count": 354,
   "metadata": {
    "collapsed": false
   },
   "outputs": [
    {
     "data": {
      "text/html": [
       "<div>\n",
       "<table border=\"1\" class=\"dataframe\">\n",
       "  <thead>\n",
       "    <tr style=\"text-align: right;\">\n",
       "      <th></th>\n",
       "      <th>SYMBOL_A</th>\n",
       "      <th>UNIPROT_AC_A</th>\n",
       "      <th>INTERACTION_TYPE</th>\n",
       "      <th>SYMBOL_B</th>\n",
       "      <th>UNIPROT_AC_B</th>\n",
       "      <th>SOURCE</th>\n",
       "    </tr>\n",
       "  </thead>\n",
       "  <tbody>\n",
       "    <tr>\n",
       "      <th>0</th>\n",
       "      <td>STAT3</td>\n",
       "      <td>P40763</td>\n",
       "      <td>physical</td>\n",
       "      <td>STAT1</td>\n",
       "      <td>P42224</td>\n",
       "      <td>BIOGRID</td>\n",
       "    </tr>\n",
       "    <tr>\n",
       "      <th>1</th>\n",
       "      <td>EIF2AK2</td>\n",
       "      <td>P19525</td>\n",
       "      <td>physical</td>\n",
       "      <td>STAT1</td>\n",
       "      <td>P42224</td>\n",
       "      <td>BIOGRID</td>\n",
       "    </tr>\n",
       "    <tr>\n",
       "      <th>2</th>\n",
       "      <td>LMNA</td>\n",
       "      <td>P02545</td>\n",
       "      <td>physical</td>\n",
       "      <td>RBBP4</td>\n",
       "      <td>Q09028</td>\n",
       "      <td>BIOGRID</td>\n",
       "    </tr>\n",
       "    <tr>\n",
       "      <th>3</th>\n",
       "      <td>ITGAV</td>\n",
       "      <td>P06756</td>\n",
       "      <td>physical</td>\n",
       "      <td>STAT1</td>\n",
       "      <td>P42224</td>\n",
       "      <td>BIOGRID</td>\n",
       "    </tr>\n",
       "    <tr>\n",
       "      <th>4</th>\n",
       "      <td>MAP3K8</td>\n",
       "      <td>P41279</td>\n",
       "      <td>physical</td>\n",
       "      <td>MAP2K4</td>\n",
       "      <td>P45985</td>\n",
       "      <td>BIOGRID</td>\n",
       "    </tr>\n",
       "  </tbody>\n",
       "</table>\n",
       "</div>"
      ],
      "text/plain": [
       "  SYMBOL_A UNIPROT_AC_A INTERACTION_TYPE SYMBOL_B UNIPROT_AC_B   SOURCE\n",
       "0    STAT3       P40763         physical    STAT1       P42224  BIOGRID\n",
       "1  EIF2AK2       P19525         physical    STAT1       P42224  BIOGRID\n",
       "2     LMNA       P02545         physical    RBBP4       Q09028  BIOGRID\n",
       "3    ITGAV       P06756         physical    STAT1       P42224  BIOGRID\n",
       "4   MAP3K8       P41279         physical   MAP2K4       P45985  BIOGRID"
      ]
     },
     "execution_count": 354,
     "metadata": {},
     "output_type": "execute_result"
    }
   ],
   "source": [
    "SGI.head()"
   ]
  },
  {
   "cell_type": "code",
   "execution_count": 355,
   "metadata": {
    "collapsed": false
   },
   "outputs": [
    {
     "data": {
      "text/html": [
       "<div>\n",
       "<table border=\"1\" class=\"dataframe\">\n",
       "  <thead>\n",
       "    <tr style=\"text-align: right;\">\n",
       "      <th></th>\n",
       "      <th>SYMBOL_A</th>\n",
       "      <th>UNIPROT_AC_A</th>\n",
       "      <th>INTERACTION_TYPE</th>\n",
       "      <th>SYMBOL_B</th>\n",
       "      <th>UNIPROT_AC_B</th>\n",
       "      <th>SOURCE</th>\n",
       "    </tr>\n",
       "  </thead>\n",
       "  <tbody>\n",
       "    <tr>\n",
       "      <th>0</th>\n",
       "      <td>ABI1</td>\n",
       "      <td>A0A0A0MRT6</td>\n",
       "      <td>physical</td>\n",
       "      <td>ENAH</td>\n",
       "      <td>Q8N8S7</td>\n",
       "      <td>BIOGRID</td>\n",
       "    </tr>\n",
       "    <tr>\n",
       "      <th>1</th>\n",
       "      <td>CUL7</td>\n",
       "      <td>Q14999</td>\n",
       "      <td>physical</td>\n",
       "      <td>SKP1</td>\n",
       "      <td>P63208</td>\n",
       "      <td>BIOGRID</td>\n",
       "    </tr>\n",
       "    <tr>\n",
       "      <th>2</th>\n",
       "      <td>SUV39H1</td>\n",
       "      <td>O43463</td>\n",
       "      <td>physical</td>\n",
       "      <td>RBBP4</td>\n",
       "      <td>Q09028</td>\n",
       "      <td>BIOGRID</td>\n",
       "    </tr>\n",
       "    <tr>\n",
       "      <th>3</th>\n",
       "      <td>LMNA</td>\n",
       "      <td>P02545</td>\n",
       "      <td>physical</td>\n",
       "      <td>PMS2</td>\n",
       "      <td>B4DGM0</td>\n",
       "      <td>BIOGRID</td>\n",
       "    </tr>\n",
       "    <tr>\n",
       "      <th>4</th>\n",
       "      <td>NASP</td>\n",
       "      <td>P49321</td>\n",
       "      <td>physical</td>\n",
       "      <td>RBBP4</td>\n",
       "      <td>Q09028</td>\n",
       "      <td>BIOGRID</td>\n",
       "    </tr>\n",
       "  </tbody>\n",
       "</table>\n",
       "</div>"
      ],
      "text/plain": [
       "  SYMBOL_A UNIPROT_AC_A INTERACTION_TYPE SYMBOL_B UNIPROT_AC_B   SOURCE\n",
       "0     ABI1   A0A0A0MRT6         physical     ENAH       Q8N8S7  BIOGRID\n",
       "1     CUL7       Q14999         physical     SKP1       P63208  BIOGRID\n",
       "2  SUV39H1       O43463         physical    RBBP4       Q09028  BIOGRID\n",
       "3     LMNA       P02545         physical     PMS2       B4DGM0  BIOGRID\n",
       "4     NASP       P49321         physical    RBBP4       Q09028  BIOGRID"
      ]
     },
     "execution_count": 355,
     "metadata": {},
     "output_type": "execute_result"
    }
   ],
   "source": [
    "U.head()"
   ]
  },
  {
   "cell_type": "code",
   "execution_count": 356,
   "metadata": {
    "collapsed": false,
    "scrolled": true
   },
   "outputs": [
    {
     "data": {
      "text/html": [
       "<div>\n",
       "<table border=\"1\" class=\"dataframe\">\n",
       "  <thead>\n",
       "    <tr style=\"text-align: right;\">\n",
       "      <th></th>\n",
       "      <th>SYMBOL_A</th>\n",
       "      <th>UNIPROT_AC_A</th>\n",
       "      <th>INTERACTION_TYPE</th>\n",
       "      <th>SYMBOL_B</th>\n",
       "      <th>UNIPROT_AC_B</th>\n",
       "      <th>SOURCE</th>\n",
       "    </tr>\n",
       "  </thead>\n",
       "  <tbody>\n",
       "    <tr>\n",
       "      <th>0</th>\n",
       "      <td>CALR</td>\n",
       "      <td>P27797</td>\n",
       "      <td>NaN</td>\n",
       "      <td>K1C17</td>\n",
       "      <td>Q04695</td>\n",
       "      <td>APID</td>\n",
       "    </tr>\n",
       "    <tr>\n",
       "      <th>1</th>\n",
       "      <td>CALR</td>\n",
       "      <td>P27797</td>\n",
       "      <td>NaN</td>\n",
       "      <td>MARE3</td>\n",
       "      <td>Q9UPY8</td>\n",
       "      <td>APID</td>\n",
       "    </tr>\n",
       "    <tr>\n",
       "      <th>2</th>\n",
       "      <td>CALR</td>\n",
       "      <td>P27797</td>\n",
       "      <td>NaN</td>\n",
       "      <td>PERF</td>\n",
       "      <td>P14222</td>\n",
       "      <td>APID</td>\n",
       "    </tr>\n",
       "    <tr>\n",
       "      <th>3</th>\n",
       "      <td>CALR</td>\n",
       "      <td>P27797</td>\n",
       "      <td>NaN</td>\n",
       "      <td>VWF</td>\n",
       "      <td>P04275</td>\n",
       "      <td>APID</td>\n",
       "    </tr>\n",
       "    <tr>\n",
       "      <th>4</th>\n",
       "      <td>CALR</td>\n",
       "      <td>P27797</td>\n",
       "      <td>NaN</td>\n",
       "      <td>CALX</td>\n",
       "      <td>P27824</td>\n",
       "      <td>APID</td>\n",
       "    </tr>\n",
       "  </tbody>\n",
       "</table>\n",
       "</div>"
      ],
      "text/plain": [
       "  SYMBOL_A UNIPROT_AC_A  INTERACTION_TYPE SYMBOL_B UNIPROT_AC_B SOURCE\n",
       "0     CALR       P27797               NaN    K1C17       Q04695   APID\n",
       "1     CALR       P27797               NaN    MARE3       Q9UPY8   APID\n",
       "2     CALR       P27797               NaN     PERF       P14222   APID\n",
       "3     CALR       P27797               NaN      VWF       P04275   APID\n",
       "4     CALR       P27797               NaN     CALX       P27824   APID"
      ]
     },
     "execution_count": 356,
     "metadata": {},
     "output_type": "execute_result"
    }
   ],
   "source": [
    "I.head()"
   ]
  },
  {
   "cell_type": "code",
   "execution_count": 357,
   "metadata": {
    "collapsed": true
   },
   "outputs": [],
   "source": [
    "def generate_graph(seed):\n",
    "    G_seed = nx.from_pandas_dataframe(seed, 'UNIPROT_AC_A', 'UNIPROT_AC_B')\n",
    "    return G_seed"
   ]
  },
  {
   "cell_type": "code",
   "execution_count": 358,
   "metadata": {
    "collapsed": false
   },
   "outputs": [],
   "source": [
    "G_SGI = generate_graph(SGI)\n",
    "G_I = generate_graph(I)\n",
    "G_U = generate_graph(U)"
   ]
  },
  {
   "cell_type": "code",
   "execution_count": 359,
   "metadata": {
    "collapsed": false
   },
   "outputs": [],
   "source": [
    "p_sgi=nx.spring_layout(G_SGI)"
   ]
  },
  {
   "cell_type": "code",
   "execution_count": 360,
   "metadata": {
    "collapsed": false,
    "scrolled": true
   },
   "outputs": [
    {
     "data": {
      "image/png": "[encoded data removed]",
      "text/plain": [
       "<matplotlib.figure.Figure at 0x7f1d457c6ba8>"
      ]
     },
     "metadata": {},
     "output_type": "display_data"
    }
   ],
   "source": [
    "#sns.set()\n",
    "plt.figure(figsize=(16, 6))\n",
    "nx.draw_networkx(G_SGI, pos=p_sgi, edge_color=\"grey\", node_color=\"c\", node_size=1000, linewidths=10)\n",
    "plt.grid()\n",
    "plt.show()"
   ]
  },
  {
   "cell_type": "code",
   "execution_count": 391,
   "metadata": {
    "collapsed": true
   },
   "outputs": [],
   "source": [
    "p_i=nx.spring_layout(G_I)"
   ]
  },
  {
   "cell_type": "code",
   "execution_count": 392,
   "metadata": {
    "collapsed": false,
    "scrolled": false
   },
   "outputs": [
    {
     "data": {
      "image/png": "[encoded data removed]",
      "text/plain": [
       "<matplotlib.figure.Figure at 0x7f1d457967f0>"
      ]
     },
     "metadata": {},
     "output_type": "display_data"
    }
   ],
   "source": [
    "#sns.set()\n",
    "plt.figure(figsize=(16, 6))\n",
    "nx.draw_networkx(G_I, pos=p_i, edge_color=\"grey\", node_color=\"c\", node_size=1000, linewidths=10)\n",
    "plt.grid()\n",
    "plt.show()"
   ]
  },
  {
   "cell_type": "markdown",
   "metadata": {},
   "source": [
    "# 1.1"
   ]
  },
  {
   "cell_type": "code",
   "execution_count": 363,
   "metadata": {
    "collapsed": true
   },
   "outputs": [],
   "source": [
    "properties_I={}"
   ]
  },
  {
   "cell_type": "markdown",
   "metadata": {},
   "source": [
    "# N. of nodes and links"
   ]
  },
  {
   "cell_type": "code",
   "execution_count": 364,
   "metadata": {
    "collapsed": true
   },
   "outputs": [],
   "source": [
    "def n_nodes_edges(graph):\n",
    "    n_nodes=nx.number_of_nodes(graph)\n",
    "    n_edges=nx.number_of_edges(graph)\n",
    "    print(\"n nodes: \", n_nodes)\n",
    "    print(\"n edges: \", n_edges)\n",
    "    return n_nodes, n_edges"
   ]
  },
  {
   "cell_type": "code",
   "execution_count": 365,
   "metadata": {
    "collapsed": false
   },
   "outputs": [
    {
     "name": "stdout",
     "output_type": "stream",
     "text": [
      "n nodes:  45\n",
      "n edges:  80\n"
     ]
    }
   ],
   "source": [
    "n_nodes, n_edges = n_nodes_edges(G_SGI)"
   ]
  },
  {
   "cell_type": "code",
   "execution_count": 366,
   "metadata": {
    "collapsed": false
   },
   "outputs": [
    {
     "name": "stdout",
     "output_type": "stream",
     "text": [
      "n nodes:  114\n",
      "n edges:  105\n"
     ]
    }
   ],
   "source": [
    "n_nodes, n_edges = n_nodes_edges(G_I)"
   ]
  },
  {
   "cell_type": "code",
   "execution_count": 367,
   "metadata": {
    "collapsed": true
   },
   "outputs": [],
   "source": [
    "properties_I[\"n_nodes\"] = n_nodes\n",
    "properties_I[\"n_edges\"] = n_edges"
   ]
  },
  {
   "cell_type": "code",
   "execution_count": 368,
   "metadata": {
    "collapsed": false
   },
   "outputs": [
    {
     "name": "stdout",
     "output_type": "stream",
     "text": [
      "n nodes:  8233\n",
      "n edges:  16603\n"
     ]
    }
   ],
   "source": [
    "n_nodes, n_edges = n_nodes_edges(G_U)"
   ]
  },
  {
   "cell_type": "markdown",
   "metadata": {},
   "source": [
    "# N. of connected components"
   ]
  },
  {
   "cell_type": "code",
   "execution_count": 369,
   "metadata": {
    "collapsed": false
   },
   "outputs": [
    {
     "name": "stdout",
     "output_type": "stream",
     "text": [
      "1\n"
     ]
    }
   ],
   "source": [
    "print(nx.number_connected_components(G_SGI))"
   ]
  },
  {
   "cell_type": "code",
   "execution_count": 370,
   "metadata": {
    "collapsed": false
   },
   "outputs": [
    {
     "name": "stdout",
     "output_type": "stream",
     "text": [
      "10\n"
     ]
    }
   ],
   "source": [
    "print(nx.number_connected_components(G_I))"
   ]
  },
  {
   "cell_type": "code",
   "execution_count": 371,
   "metadata": {
    "collapsed": true
   },
   "outputs": [],
   "source": [
    "properties_I[\"n_connected_components\"] = nx.number_connected_components(G_I)"
   ]
  },
  {
   "cell_type": "code",
   "execution_count": 372,
   "metadata": {
    "collapsed": false
   },
   "outputs": [
    {
     "name": "stdout",
     "output_type": "stream",
     "text": [
      "1\n"
     ]
    }
   ],
   "source": [
    "print(nx.number_connected_components(G_U))"
   ]
  },
  {
   "cell_type": "markdown",
   "metadata": {},
   "source": [
    "# N. of isolated nodes"
   ]
  },
  {
   "cell_type": "code",
   "execution_count": 373,
   "metadata": {
    "collapsed": false
   },
   "outputs": [
    {
     "name": "stdout",
     "output_type": "stream",
     "text": [
      "0\n",
      "0\n",
      "0\n"
     ]
    }
   ],
   "source": [
    "print(len(nx.isolates(G_SGI)))\n",
    "print(len(nx.isolates(G_I)))\n",
    "print(len(nx.isolates(G_U)))"
   ]
  },
  {
   "cell_type": "code",
   "execution_count": 192,
   "metadata": {
    "collapsed": true
   },
   "outputs": [],
   "source": [
    "properties_I[\"n_isolated_nodes\"] = nx.isolates(G_I)"
   ]
  },
  {
   "cell_type": "markdown",
   "metadata": {},
   "source": [
    "# Average path length"
   ]
  },
  {
   "cell_type": "code",
   "execution_count": 100,
   "metadata": {
    "collapsed": false
   },
   "outputs": [],
   "source": [
    "def average_path_length(G):\n",
    "    '''\n",
    "    compute the average path length for every sub-connected component\n",
    "    '''\n",
    "    apl=[]\n",
    "    for g in nx.connected_component_subgraphs(G):\n",
    "        apl.append(nx.average_shortest_path_length(g)) \n",
    "    return apl"
   ]
  },
  {
   "cell_type": "code",
   "execution_count": 377,
   "metadata": {
    "collapsed": false
   },
   "outputs": [],
   "source": [
    "apl_SGI=average_path_length(G_SGI)"
   ]
  },
  {
   "cell_type": "code",
   "execution_count": 378,
   "metadata": {
    "collapsed": false
   },
   "outputs": [
    {
     "data": {
      "text/plain": [
       "[2.9909090909090907]"
      ]
     },
     "execution_count": 378,
     "metadata": {},
     "output_type": "execute_result"
    }
   ],
   "source": [
    "apl_SGI"
   ]
  },
  {
   "cell_type": "code",
   "execution_count": 103,
   "metadata": {
    "collapsed": false
   },
   "outputs": [],
   "source": [
    "apl_I=average_path_length(G_I)"
   ]
  },
  {
   "cell_type": "code",
   "execution_count": 187,
   "metadata": {
    "collapsed": false
   },
   "outputs": [
    {
     "data": {
      "text/plain": [
       "[4.155835080363382,\n",
       " 1.75,\n",
       " 1.875,\n",
       " 1.8333333333333333,\n",
       " 1.3333333333333333,\n",
       " 1.0,\n",
       " 1.6666666666666667,\n",
       " 1.7777777777777777,\n",
       " 1.0,\n",
       " 1.0]"
      ]
     },
     "execution_count": 187,
     "metadata": {},
     "output_type": "execute_result"
    }
   ],
   "source": [
    "apl_I"
   ]
  },
  {
   "cell_type": "code",
   "execution_count": 193,
   "metadata": {
    "collapsed": true
   },
   "outputs": [],
   "source": [
    "properties_I[\"average_path_length\"] = apl_I"
   ]
  },
  {
   "cell_type": "code",
   "execution_count": 105,
   "metadata": {
    "collapsed": false
   },
   "outputs": [],
   "source": [
    "apl_U=average_path_length(G_U)"
   ]
  },
  {
   "cell_type": "code",
   "execution_count": 106,
   "metadata": {
    "collapsed": false
   },
   "outputs": [
    {
     "data": {
      "text/plain": [
       "[3.6565403415596265]"
      ]
     },
     "execution_count": 106,
     "metadata": {},
     "output_type": "execute_result"
    }
   ],
   "source": [
    "apl_U"
   ]
  },
  {
   "cell_type": "markdown",
   "metadata": {},
   "source": [
    "# Average degree"
   ]
  },
  {
   "cell_type": "code",
   "execution_count": 125,
   "metadata": {
    "collapsed": true
   },
   "outputs": [],
   "source": [
    "# def average_degree_connectivity(G):\n",
    "#     '''\n",
    "#     compute the average degree connectivity for every sub-connected component\n",
    "#     '''\n",
    "#     adc=[]\n",
    "#     for g in nx.connected_component_subgraphs(G):\n",
    "#         adc.append(nx.average_degree_connectivity(g)) \n",
    "#     return adc"
   ]
  },
  {
   "cell_type": "code",
   "execution_count": 379,
   "metadata": {
    "collapsed": false
   },
   "outputs": [],
   "source": [
    "adc_SGI=nx.average_degree_connectivity(G_SGI)"
   ]
  },
  {
   "cell_type": "code",
   "execution_count": 380,
   "metadata": {
    "collapsed": false
   },
   "outputs": [
    {
     "data": {
      "text/plain": [
       "{1: 5.75,\n",
       " 2: 6.785714285714286,\n",
       " 3: 5.416666666666667,\n",
       " 4: 6.25,\n",
       " 5: 4.666666666666667,\n",
       " 6: 6.266666666666667,\n",
       " 7: 4.0,\n",
       " 8: 5.5,\n",
       " 9: 5.0,\n",
       " 14: 4.571428571428571}"
      ]
     },
     "execution_count": 380,
     "metadata": {},
     "output_type": "execute_result"
    }
   ],
   "source": [
    "adc_SGI"
   ]
  },
  {
   "cell_type": "code",
   "execution_count": 129,
   "metadata": {
    "collapsed": true
   },
   "outputs": [],
   "source": [
    "adc_I=nx.average_degree_connectivity(G_I)"
   ]
  },
  {
   "cell_type": "code",
   "execution_count": 194,
   "metadata": {
    "collapsed": false
   },
   "outputs": [],
   "source": [
    "properties_I[\"average_degree\"] = adc_I"
   ]
  },
  {
   "cell_type": "code",
   "execution_count": 131,
   "metadata": {
    "collapsed": true
   },
   "outputs": [],
   "source": [
    "adc_U=nx.average_degree_connectivity(G_U)"
   ]
  },
  {
   "cell_type": "code",
   "execution_count": 132,
   "metadata": {
    "collapsed": false,
    "scrolled": true
   },
   "outputs": [
    {
     "data": {
      "text/plain": [
       "{1: 372.67356828193834,\n",
       " 2: 415.6418060200669,\n",
       " 3: 458.11586901763224,\n",
       " 4: 432.1938271604938,\n",
       " 5: 436.1319587628866,\n",
       " 6: 431.1546762589928,\n",
       " 7: 420.96515679442507,\n",
       " 8: 378.8775,\n",
       " 9: 394.11555555555555,\n",
       " 10: 403.6625,\n",
       " 11: 400.8939393939394,\n",
       " 12: 452.43939393939394,\n",
       " 13: 375.75524475524475,\n",
       " 14: 397.6,\n",
       " 15: 373.35555555555555,\n",
       " 16: 289.78125,\n",
       " 17: 325.0686274509804,\n",
       " 18: 362.56481481481484,\n",
       " 19: 326.7894736842105,\n",
       " 20: 330.45,\n",
       " 21: 345.35714285714283,\n",
       " 22: 340.6818181818182,\n",
       " 24: 5.0,\n",
       " 25: 2.2,\n",
       " 26: 15.26923076923077,\n",
       " 27: 3.0,\n",
       " 28: 2.2857142857142856,\n",
       " 29: 12.413793103448276,\n",
       " 30: 3.7,\n",
       " 32: 10.625,\n",
       " 34: 3.4411764705882355,\n",
       " 35: 2.5142857142857142,\n",
       " 39: 3.3076923076923075,\n",
       " 40: 3.75,\n",
       " 48: 2.8958333333333335,\n",
       " 49: 2.4489795918367347,\n",
       " 51: 42.27450980392157,\n",
       " 65: 4.446153846153846,\n",
       " 74: 17.31081081081081,\n",
       " 78: 15.012820512820513,\n",
       " 85: 7.188235294117647,\n",
       " 87: 5.931034482758621,\n",
       " 88: 7.840909090909091,\n",
       " 97: 1.9793814432989691,\n",
       " 104: 14.057692307692308,\n",
       " 115: 12.252173913043478,\n",
       " 118: 17.203389830508474,\n",
       " 120: 3.058333333333333,\n",
       " 124: 16.016129032258064,\n",
       " 132: 3.9015151515151514,\n",
       " 140: 6.442857142857143,\n",
       " 150: 16.35333333333333,\n",
       " 151: 10.847682119205299,\n",
       " 153: 12.751633986928105,\n",
       " 165: 5.606060606060606,\n",
       " 166: 14.698795180722891,\n",
       " 183: 16.57377049180328,\n",
       " 186: 9.876344086021506,\n",
       " 188: 7.425531914893617,\n",
       " 202: 3.618811881188119,\n",
       " 204: 5.754901960784314,\n",
       " 206: 7.160194174757281,\n",
       " 207: 11.497584541062801,\n",
       " 211: 8.189573459715639,\n",
       " 220: 18.513636363636362,\n",
       " 223: 8.071748878923767,\n",
       " 231: 8.121212121212121,\n",
       " 236: 11.961864406779661,\n",
       " 249: 9.301204819277109,\n",
       " 271: 4.243542435424354,\n",
       " 272: 6.178308823529412,\n",
       " 282: 7.315602836879433,\n",
       " 283: 3.374558303886926,\n",
       " 329: 1.6261398176291793,\n",
       " 332: 10.864457831325302,\n",
       " 335: 10.465671641791046,\n",
       " 341: 8.961876832844574,\n",
       " 363: 8.264462809917354,\n",
       " 377: 6.607427055702917,\n",
       " 402: 7.858208955223881,\n",
       " 418: 4.069377990430622,\n",
       " 460: 8.571739130434782,\n",
       " 495: 5.91919191919192,\n",
       " 512: 11.107421875,\n",
       " 630: 9.401587301587302,\n",
       " 692: 6.978323699421965,\n",
       " 739: 6.975642760487145,\n",
       " 952: 7.33718487394958,\n",
       " 995: 10.806030150753768}"
      ]
     },
     "execution_count": 132,
     "metadata": {},
     "output_type": "execute_result"
    }
   ],
   "source": [
    "adc_U"
   ]
  },
  {
   "cell_type": "markdown",
   "metadata": {},
   "source": [
    "# Average clustering coeff"
   ]
  },
  {
   "cell_type": "code",
   "execution_count": 133,
   "metadata": {
    "collapsed": true
   },
   "outputs": [],
   "source": [
    "def average_clustering_coeff(G):\n",
    "    '''\n",
    "    compute the clustering coeff for every sub-connected component\n",
    "    '''\n",
    "    acc=[]\n",
    "    for g in nx.connected_component_subgraphs(G):\n",
    "        acc.append(nx.average_clustering(g)) \n",
    "    return acc"
   ]
  },
  {
   "cell_type": "code",
   "execution_count": 381,
   "metadata": {
    "collapsed": false
   },
   "outputs": [],
   "source": [
    "acc_SGI=average_clustering_coeff(G_SGI)"
   ]
  },
  {
   "cell_type": "code",
   "execution_count": 382,
   "metadata": {
    "collapsed": false
   },
   "outputs": [
    {
     "data": {
      "text/plain": [
       "[0.20220051553384885]"
      ]
     },
     "execution_count": 382,
     "metadata": {},
     "output_type": "execute_result"
    }
   ],
   "source": [
    "acc_SGI"
   ]
  },
  {
   "cell_type": "code",
   "execution_count": 136,
   "metadata": {
    "collapsed": false
   },
   "outputs": [],
   "source": [
    "acc_I=average_clustering_coeff(G_I)"
   ]
  },
  {
   "cell_type": "code",
   "execution_count": 195,
   "metadata": {
    "collapsed": false
   },
   "outputs": [],
   "source": [
    "properties_I[\"average_clustering_coeff\"] = acc_I"
   ]
  },
  {
   "cell_type": "code",
   "execution_count": 138,
   "metadata": {
    "collapsed": false
   },
   "outputs": [],
   "source": [
    "acc_U=average_clustering_coeff(G_U)"
   ]
  },
  {
   "cell_type": "code",
   "execution_count": 139,
   "metadata": {
    "collapsed": false
   },
   "outputs": [
    {
     "data": {
      "text/plain": [
       "[0.13593630274585294]"
      ]
     },
     "execution_count": 139,
     "metadata": {},
     "output_type": "execute_result"
    }
   ],
   "source": [
    "acc_U"
   ]
  },
  {
   "cell_type": "markdown",
   "metadata": {},
   "source": [
    "# Network diameter & radius"
   ]
  },
  {
   "cell_type": "code",
   "execution_count": 196,
   "metadata": {
    "collapsed": false
   },
   "outputs": [],
   "source": [
    "def compute_distance_measures(G):\n",
    "    D=[]\n",
    "    R=[]\n",
    "    '''compute diameter and radius for every sub-connected graph'''\n",
    "    for g in nx.connected_component_subgraphs(G):\n",
    "        d=nx.diameter(g)\n",
    "        r=nx.radius(g)\n",
    "        D.append(d)\n",
    "        R.append(r)\n",
    "        print(\"diameter: \", d)\n",
    "        print(\"radius: \", r)\n",
    "        print()\n",
    "    return D, R"
   ]
  },
  {
   "cell_type": "code",
   "execution_count": 383,
   "metadata": {
    "collapsed": false
   },
   "outputs": [
    {
     "name": "stdout",
     "output_type": "stream",
     "text": [
      "diameter:  6\n",
      "radius:  4\n",
      "\n"
     ]
    },
    {
     "data": {
      "text/plain": [
       "([6], [4])"
      ]
     },
     "execution_count": 383,
     "metadata": {},
     "output_type": "execute_result"
    }
   ],
   "source": [
    "compute_distance_measures(G_SGI)"
   ]
  },
  {
   "cell_type": "code",
   "execution_count": 384,
   "metadata": {
    "collapsed": false,
    "scrolled": true
   },
   "outputs": [
    {
     "name": "stdout",
     "output_type": "stream",
     "text": [
      "diameter:  2\n",
      "radius:  1\n",
      "\n",
      "diameter:  2\n",
      "radius:  1\n",
      "\n",
      "diameter:  9\n",
      "radius:  5\n",
      "\n",
      "diameter:  2\n",
      "radius:  1\n",
      "\n",
      "diameter:  2\n",
      "radius:  1\n",
      "\n",
      "diameter:  2\n",
      "radius:  1\n",
      "\n",
      "diameter:  2\n",
      "radius:  1\n",
      "\n",
      "diameter:  1\n",
      "radius:  1\n",
      "\n",
      "diameter:  1\n",
      "radius:  1\n",
      "\n",
      "diameter:  1\n",
      "radius:  1\n",
      "\n"
     ]
    }
   ],
   "source": [
    "D_I, R_I = compute_distance_measures(G_I)"
   ]
  },
  {
   "cell_type": "code",
   "execution_count": 198,
   "metadata": {
    "collapsed": true
   },
   "outputs": [],
   "source": [
    "properties_I[\"diameter\"] = D_I\n",
    "properties_I[\"radius\"] = R_I"
   ]
  },
  {
   "cell_type": "code",
   "execution_count": 35,
   "metadata": {
    "collapsed": false
   },
   "outputs": [
    {
     "name": "stdout",
     "output_type": "stream",
     "text": [
      "diameter:  9\n",
      "radius:  5\n",
      "\n",
      "diameter:  2\n",
      "radius:  1\n",
      "\n",
      "diameter:  2\n",
      "radius:  1\n",
      "\n",
      "diameter:  2\n",
      "radius:  1\n",
      "\n",
      "diameter:  2\n",
      "radius:  1\n",
      "\n",
      "diameter:  1\n",
      "radius:  1\n",
      "\n",
      "diameter:  1\n",
      "radius:  1\n",
      "\n",
      "diameter:  1\n",
      "radius:  1\n",
      "\n",
      "diameter:  2\n",
      "radius:  1\n",
      "\n",
      "diameter:  2\n",
      "radius:  1\n",
      "\n"
     ]
    }
   ],
   "source": [
    "compute_distance_measures(G_I)"
   ]
  },
  {
   "cell_type": "code",
   "execution_count": 36,
   "metadata": {
    "collapsed": false
   },
   "outputs": [
    {
     "name": "stdout",
     "output_type": "stream",
     "text": [
      "diameter:  7\n",
      "radius:  4\n",
      "\n"
     ]
    }
   ],
   "source": [
    "compute_distance_measures(G_U)"
   ]
  },
  {
   "cell_type": "markdown",
   "metadata": {},
   "source": [
    "# Centralization ([Freeman centralization](https://en.wikipedia.org/wiki/Centrality#Freeman_Centralization))"
   ]
  },
  {
   "cell_type": "code",
   "execution_count": 142,
   "metadata": {
    "collapsed": true
   },
   "outputs": [],
   "source": [
    "def freeman_centralization(G):\n",
    "    n=G.number_of_nodes()\n",
    "    centralities=nx.degree_centrality(G).values()\n",
    "    max_degree=max(centralities)\n",
    "    sum_degree=sum(centralities)\n",
    "    centralization=(n*max_degree - sum_degree)/ (n-1)**2\n",
    "    return centralization"
   ]
  },
  {
   "cell_type": "code",
   "execution_count": 385,
   "metadata": {
    "collapsed": false
   },
   "outputs": [
    {
     "data": {
      "text/plain": [
       "0.005517468069120962"
      ]
     },
     "execution_count": 385,
     "metadata": {},
     "output_type": "execute_result"
    }
   ],
   "source": [
    "freeman_centralization(G_SGI)"
   ]
  },
  {
   "cell_type": "code",
   "execution_count": 386,
   "metadata": {
    "collapsed": false
   },
   "outputs": [],
   "source": [
    "properties_I[\"centralization\"] = freeman_centralization(G_I)"
   ]
  },
  {
   "cell_type": "code",
   "execution_count": 145,
   "metadata": {
    "collapsed": false
   },
   "outputs": [
    {
     "data": {
      "text/plain": [
       "1.5929144813985127e-05"
      ]
     },
     "execution_count": 145,
     "metadata": {},
     "output_type": "execute_result"
    }
   ],
   "source": [
    "freeman_centralization(G_U)"
   ]
  },
  {
   "cell_type": "markdown",
   "metadata": {},
   "source": [
    "# 1.2"
   ]
  },
  {
   "cell_type": "code",
   "execution_count": 387,
   "metadata": {
    "collapsed": true
   },
   "outputs": [],
   "source": [
    "def global_properties(G):\n",
    "    n_nodes=nx.number_of_nodes(G)\n",
    "    n_edges=nx.number_of_edges(G)\n",
    "    apl=nx.average_shortest_path_length(G)\n",
    "    adc=nx.average_degree_connectivity(G)\n",
    "    acc=nx.average_clustering(G)\n",
    "    d=nx.diameter(G)\n",
    "    r=nx.radius(G)\n",
    "    c=freeman_centralization(G)\n",
    "    res = {\"n_nodes\": n_nodes, \"n_edges\": n_edges, \n",
    "           \"average path length\": apl, \"average degree connectivity\": adc, \"average clustering connectivity\": acc, \n",
    "          \"diameter\": d, \"radius\": r, \"centralization\": c}\n",
    "    return res"
   ]
  },
  {
   "cell_type": "code",
   "execution_count": 45,
   "metadata": {
    "collapsed": true
   },
   "outputs": [],
   "source": [
    "def print_global(res):\n",
    "    for k in res:\n",
    "        print(k + \":\", res[k])"
   ]
  },
  {
   "cell_type": "code",
   "execution_count": 147,
   "metadata": {
    "collapsed": false
   },
   "outputs": [],
   "source": [
    "LCC_SGI = max(nx.connected_component_subgraphs(G_SGI), key=len)\n",
    "#print(print_global(global_properties(LCC_SGI)))"
   ]
  },
  {
   "cell_type": "code",
   "execution_count": 148,
   "metadata": {
    "collapsed": true
   },
   "outputs": [],
   "source": [
    "gp_SGI=global_properties(LCC_SGI)"
   ]
  },
  {
   "cell_type": "code",
   "execution_count": 388,
   "metadata": {
    "collapsed": false,
    "scrolled": true
   },
   "outputs": [],
   "source": [
    "LCC_I = max(nx.connected_component_subgraphs(G_I), key=len)\n",
    "#print(print_global(global_properties(LCC_I)))"
   ]
  },
  {
   "cell_type": "code",
   "execution_count": 389,
   "metadata": {
    "collapsed": true
   },
   "outputs": [],
   "source": [
    "gp_I=global_properties(LCC_I)"
   ]
  },
  {
   "cell_type": "code",
   "execution_count": 151,
   "metadata": {
    "collapsed": false
   },
   "outputs": [],
   "source": [
    "LCC_U = max(nx.connected_component_subgraphs(G_U), key=len)"
   ]
  },
  {
   "cell_type": "code",
   "execution_count": null,
   "metadata": {
    "collapsed": false
   },
   "outputs": [],
   "source": [
    "#print(print_global(global_properties(LCC_U)))"
   ]
  },
  {
   "cell_type": "code",
   "execution_count": 152,
   "metadata": {
    "collapsed": false
   },
   "outputs": [],
   "source": [
    "gp_U = global_properties(LCC_U)"
   ]
  },
  {
   "cell_type": "code",
   "execution_count": null,
   "metadata": {
    "collapsed": true
   },
   "outputs": [],
   "source": []
  },
  {
   "cell_type": "code",
   "execution_count": 390,
   "metadata": {
    "collapsed": false
   },
   "outputs": [
    {
     "data": {
      "text/plain": [
       "{'average clustering connectivity': 0.0,\n",
       " 'average degree connectivity': {1: 11.45,\n",
       "  2: 6.142857142857143,\n",
       "  3: 3.5,\n",
       "  4: 6.75,\n",
       "  6: 1.8333333333333333,\n",
       "  9: 1.5555555555555556,\n",
       "  12: 1.1666666666666667,\n",
       "  17: 1.2352941176470589},\n",
       " 'average path length': 4.155835080363382,\n",
       " 'centralization': 0.0054407329540493155,\n",
       " 'diameter': 9,\n",
       " 'n_edges': 54,\n",
       " 'n_nodes': 54,\n",
       " 'radius': 5}"
      ]
     },
     "execution_count": 390,
     "metadata": {},
     "output_type": "execute_result"
    }
   ],
   "source": [
    "gp_I"
   ]
  },
  {
   "cell_type": "code",
   "execution_count": 154,
   "metadata": {
    "collapsed": true
   },
   "outputs": [],
   "source": [
    "def local_properties(G, flag=False):\n",
    "    dc= nx.degree_centrality(G)\n",
    "    bc= nx.betweenness_centrality(G)\n",
    "    cc= nx.closeness_centrality(G)\n",
    "    ec= nx.eigenvector_centrality_numpy(G)\n",
    "    ratio= {k: bc[k]/dc[k] for k in dc}\n",
    "    \n",
    "    res= {\"degree centrality\": dc, \"betweenness centrality\": bc, \"closeness centrality\": cc, \"eigenvalues centrality\": ec, \n",
    "          \"ratio\": ratio}\n",
    "    return res"
   ]
  },
  {
   "cell_type": "code",
   "execution_count": 155,
   "metadata": {
    "collapsed": false
   },
   "outputs": [],
   "source": [
    "lp_SGI=local_properties(LCC_SGI)"
   ]
  },
  {
   "cell_type": "code",
   "execution_count": 156,
   "metadata": {
    "collapsed": false,
    "scrolled": true
   },
   "outputs": [],
   "source": [
    "lp_I=local_properties(LCC_I)"
   ]
  },
  {
   "cell_type": "code",
   "execution_count": 157,
   "metadata": {
    "collapsed": false
   },
   "outputs": [],
   "source": [
    "lp_U=local_properties(LCC_U)"
   ]
  },
  {
   "cell_type": "markdown",
   "metadata": {},
   "source": [
    "## 2"
   ]
  },
  {
   "cell_type": "code",
   "execution_count": 159,
   "metadata": {
    "collapsed": false
   },
   "outputs": [],
   "source": [
    "graph_properties={\"gp_SGI\":gp_SGI, \"gp_I\":gp_I, \"gp_U\":gp_U, \n",
    "                 \"lp_SGI\":lp_SGI, \"lp_I\":lp_I, \"lp_U\":lp_U}"
   ]
  },
  {
   "cell_type": "markdown",
   "metadata": {},
   "source": [
    "### create tables"
   ]
  },
  {
   "cell_type": "code",
   "execution_count": null,
   "metadata": {
    "collapsed": true
   },
   "outputs": [],
   "source": [
    "def f_average_degree(gp_SGI):\n",
    "    average_degree=0\n",
    "    for k in gp_SGI[\"average degree connectivity\"]:\n",
    "        average_degree += k*gp_SGI[\"average degree connectivity\"][k]\n",
    "\n",
    "        average_degree = average_degree / gp_SGI[\"n_nodes\"]\n",
    "    return average_degree"
   ]
  },
  {
   "cell_type": "code",
   "execution_count": 178,
   "metadata": {
    "collapsed": true
   },
   "outputs": [],
   "source": [
    "def print_properties(gp_SGI):\n",
    "    for k in gp_SGI:\n",
    "        print(k)\n",
    "        print(gp_SGI[k])\n",
    "    return None"
   ]
  },
  {
   "cell_type": "code",
   "execution_count": 179,
   "metadata": {
    "collapsed": false
   },
   "outputs": [
    {
     "name": "stdout",
     "output_type": "stream",
     "text": [
      "n_edges\n",
      "54\n",
      "diameter\n",
      "9\n",
      "centralization\n",
      "0.0054407329540493155\n",
      "average degree connectivity\n",
      "{1: 11.45, 2: 6.142857142857143, 3: 3.5, 4: 6.75, 6: 1.8333333333333333, 17: 1.2352941176470589, 9: 1.5555555555555556, 12: 1.1666666666666667}\n",
      "average clustering connectivity\n",
      "0.0\n",
      "radius\n",
      "5\n",
      "average path length\n",
      "4.155835080363382\n",
      "n_nodes\n",
      "54\n"
     ]
    }
   ],
   "source": [
    "print_properties(gp_I)"
   ]
  },
  {
   "cell_type": "code",
   "execution_count": 184,
   "metadata": {
    "collapsed": true
   },
   "outputs": [],
   "source": [
    "columns_global=[\"n_nodes\", \"n_edges\", \"n_connected_components\", \"n_isolated_nodes\", \"average_path_length\", \n",
    "         \"average_degree\", \"average_clustering_coeff\", \"diameter\", \"radius\", \"centralization\"]"
   ]
  },
  {
   "cell_type": "code",
   "execution_count": 200,
   "metadata": {
    "collapsed": true
   },
   "outputs": [],
   "source": [
    "index_global=[ \"LCC-I\", \"SGI\", \"I\", \"U\"]"
   ]
  },
  {
   "cell_type": "code",
   "execution_count": 215,
   "metadata": {
    "collapsed": false
   },
   "outputs": [],
   "source": [
    "properties_I[\"average degree connectivity\"] = properties_I[\"average_degree\"]"
   ]
  },
  {
   "cell_type": "code",
   "execution_count": 222,
   "metadata": {
    "collapsed": false
   },
   "outputs": [
    {
     "data": {
      "text/plain": [
       "0.26419507335717796"
      ]
     },
     "execution_count": 222,
     "metadata": {},
     "output_type": "execute_result"
    }
   ],
   "source": [
    "f_average_degree(gp_I)"
   ]
  },
  {
   "cell_type": "code",
   "execution_count": 339,
   "metadata": {
    "collapsed": false
   },
   "outputs": [
    {
     "data": {
      "text/plain": [
       "{'BCCIP': 0.03773584905660377,\n",
       " 'BRCA2': 0.22641509433962265,\n",
       " 'BRCC3': 0.018867924528301886,\n",
       " 'BUB1B': 0.018867924528301886,\n",
       " 'CBL': 0.018867924528301886,\n",
       " 'DVL2': 0.018867924528301886,\n",
       " 'EP300': 0.05660377358490566,\n",
       " 'ERCC5': 0.018867924528301886,\n",
       " 'FANCE': 0.03773584905660377,\n",
       " 'FANCG': 0.018867924528301886,\n",
       " 'FBX5': 0.018867924528301886,\n",
       " 'FBXL4': 0.018867924528301886,\n",
       " 'FLNA': 0.018867924528301886,\n",
       " 'FOS': 0.018867924528301886,\n",
       " 'FUS': 0.018867924528301886,\n",
       " 'GBRAP': 0.018867924528301886,\n",
       " 'GRIA1': 0.018867924528301886,\n",
       " 'GRP78': 0.018867924528301886,\n",
       " 'GRWD1': 0.018867924528301886,\n",
       " 'HDAC5': 0.018867924528301886,\n",
       " 'HSP74': 0.018867924528301886,\n",
       " 'IKBA': 0.03773584905660377,\n",
       " 'INSR': 0.018867924528301886,\n",
       " 'IRF1': 0.018867924528301886,\n",
       " 'ISG15': 0.018867924528301886,\n",
       " 'ITAV': 0.03773584905660377,\n",
       " 'JAK1': 0.018867924528301886,\n",
       " 'KAT2B': 0.018867924528301886,\n",
       " 'KLHL3': 0.018867924528301886,\n",
       " 'KPCI': 0.018867924528301886,\n",
       " 'KS6B1': 0.03773584905660377,\n",
       " 'M3K8': 0.018867924528301886,\n",
       " 'MCPH1': 0.018867924528301886,\n",
       " 'MEF2D': 0.03773584905660377,\n",
       " 'MK01': 0.07547169811320754,\n",
       " 'MLP3C': 0.018867924528301886,\n",
       " 'MP2K4': 0.03773584905660377,\n",
       " 'MTOR': 0.018867924528301886,\n",
       " 'MYOD1': 0.018867924528301886,\n",
       " 'P85B': 0.018867924528301886,\n",
       " 'PCNA': 0.018867924528301886,\n",
       " 'PGFRA': 0.018867924528301886,\n",
       " 'SKP1': 0.05660377358490566,\n",
       " 'SMC3': 0.018867924528301886,\n",
       " 'SQSTM': 0.32075471698113206,\n",
       " 'STAT1': 0.16981132075471697,\n",
       " 'STAT2': 0.018867924528301886,\n",
       " 'STAT3': 0.11320754716981132,\n",
       " 'TRAF6': 0.018867924528301886,\n",
       " 'TSP1': 0.018867924528301886,\n",
       " 'TWST1': 0.018867924528301886,\n",
       " 'UBC': 0.018867924528301886,\n",
       " 'ULK2': 0.018867924528301886,\n",
       " 'XRCC3': 0.018867924528301886}"
      ]
     },
     "execution_count": 339,
     "metadata": {},
     "output_type": "execute_result"
    }
   ],
   "source": [
    "nx.degree_centrality(LCC_I)"
   ]
  },
  {
   "cell_type": "code",
   "execution_count": 338,
   "metadata": {
    "collapsed": false,
    "scrolled": true
   },
   "outputs": [
    {
     "data": {
      "text/plain": [
       "{'BCCIP': 2,\n",
       " 'BRCA2': 12,\n",
       " 'BRCC3': 1,\n",
       " 'BUB1B': 1,\n",
       " 'CBL': 1,\n",
       " 'DVL2': 1,\n",
       " 'EP300': 3,\n",
       " 'ERCC5': 1,\n",
       " 'FANCE': 2,\n",
       " 'FANCG': 1,\n",
       " 'FBX5': 1,\n",
       " 'FBXL4': 1,\n",
       " 'FLNA': 1,\n",
       " 'FOS': 1,\n",
       " 'FUS': 1,\n",
       " 'GBRAP': 1,\n",
       " 'GRIA1': 1,\n",
       " 'GRP78': 1,\n",
       " 'GRWD1': 1,\n",
       " 'HDAC5': 1,\n",
       " 'HSP74': 1,\n",
       " 'IKBA': 2,\n",
       " 'INSR': 1,\n",
       " 'IRF1': 1,\n",
       " 'ISG15': 1,\n",
       " 'ITAV': 2,\n",
       " 'JAK1': 1,\n",
       " 'KAT2B': 1,\n",
       " 'KLHL3': 1,\n",
       " 'KPCI': 1,\n",
       " 'KS6B1': 2,\n",
       " 'M3K8': 1,\n",
       " 'MCPH1': 1,\n",
       " 'MEF2D': 2,\n",
       " 'MK01': 4,\n",
       " 'MLP3C': 1,\n",
       " 'MP2K4': 2,\n",
       " 'MTOR': 1,\n",
       " 'MYOD1': 1,\n",
       " 'P85B': 1,\n",
       " 'PCNA': 1,\n",
       " 'PGFRA': 1,\n",
       " 'SKP1': 3,\n",
       " 'SMC3': 1,\n",
       " 'SQSTM': 17,\n",
       " 'STAT1': 9,\n",
       " 'STAT2': 1,\n",
       " 'STAT3': 6,\n",
       " 'TRAF6': 1,\n",
       " 'TSP1': 1,\n",
       " 'TWST1': 1,\n",
       " 'UBC': 1,\n",
       " 'ULK2': 1,\n",
       " 'XRCC3': 1}"
      ]
     },
     "execution_count": 338,
     "metadata": {},
     "output_type": "execute_result"
    }
   ],
   "source": [
    "LCC_I.degree()"
   ]
  },
  {
   "cell_type": "markdown",
   "metadata": {},
   "source": [
    "## local tables"
   ]
  },
  {
   "cell_type": "code",
   "execution_count": 325,
   "metadata": {
    "collapsed": false
   },
   "outputs": [],
   "source": [
    "def generate_local_table(lp_SGI):\n",
    "    list_sgi=[(k, lp_SGI[\"betweenness centrality\"][k]) for k in lp_SGI[\"betweenness centrality\"]]\n",
    "    list_sgi = sorted(list_sgi, key=lambda u:u[1], reverse=True)\n",
    "    \n",
    "    list_sgi2=[(k, lp_SGI[\"degree centrality\"][k]) for k in lp_SGI[\"degree centrality\"]]\n",
    "    list_sgi2 = sorted(list_sgi2, key=lambda u:u[1], reverse=True)\n",
    "    \n",
    "    genes_index=[]\n",
    "    for i in range(20):\n",
    "        if list_sgi[i][1] != 0.0: \n",
    "            genes_index.append(list_sgi[i][0])\n",
    "        else:\n",
    "            genes_index.append(list_sgi2[i][0])\n",
    "        \n",
    "    lp = {k:[] for k in lp_SGI.keys()}\n",
    "    \n",
    "    cols=lp_SGI.keys()\n",
    "    for i in genes_index:\n",
    "        for k in cols:\n",
    "            lp[k].append(lp_SGI[k][i])\n",
    "            \n",
    "    lp = pd.DataFrame(lp, index=genes_index, columns=[\"betweenness centrality\", \"degree centrality\", \n",
    "                                                              \"closeness centrality\", \"eigenvalues centrality\", \"ratio\"])\n",
    "    return lp"
   ]
  },
  {
   "cell_type": "code",
   "execution_count": 342,
   "metadata": {
    "collapsed": true
   },
   "outputs": [],
   "source": [
    "def normalization_routine(lp):\n",
    "    for k in lp:\n",
    "        if k not in [\"ratio\"]:\n",
    "            index=[]\n",
    "            values=[]\n",
    "            for i in lp[k]:\n",
    "                index.append(i)\n",
    "                values.append(lp[k][i])\n",
    "            \n",
    "            values=np.array(values)\n",
    "            m = max(values)\n",
    "            values=values / m\n",
    "            d={}\n",
    "            for i in range(len(values)):\n",
    "                d[index[i]] = values[i]\n",
    "\n",
    "            lp[k] = d.copy()\n",
    "    return lp"
   ]
  },
  {
   "cell_type": "code",
   "execution_count": 332,
   "metadata": {
    "collapsed": true
   },
   "outputs": [],
   "source": [
    "graph_properties = load_json(\"./graph_properties/graph_properties.json\")"
   ]
  },
  {
   "cell_type": "code",
   "execution_count": 335,
   "metadata": {
    "collapsed": false
   },
   "outputs": [],
   "source": [
    "lp_I= graph_properties[\"lp_I\"]"
   ]
  },
  {
   "cell_type": "code",
   "execution_count": 336,
   "metadata": {
    "collapsed": true
   },
   "outputs": [],
   "source": [
    "lp_U= graph_properties[\"lp_U\"]"
   ]
  },
  {
   "cell_type": "code",
   "execution_count": 343,
   "metadata": {
    "collapsed": true
   },
   "outputs": [],
   "source": [
    "lp_I=normalization_routine(lp_I)\n",
    "lp_U=normalization_routine(lp_U)"
   ]
  },
  {
   "cell_type": "code",
   "execution_count": 344,
   "metadata": {
    "collapsed": false
   },
   "outputs": [],
   "source": [
    "lp_i = generate_local_table(lp_I)\n",
    "lp_u = generate_local_table(lp_U)"
   ]
  },
  {
   "cell_type": "code",
   "execution_count": null,
   "metadata": {
    "collapsed": true
   },
   "outputs": [],
   "source": []
  },
  {
   "cell_type": "code",
   "execution_count": 348,
   "metadata": {
    "collapsed": false
   },
   "outputs": [
    {
     "data": {
      "text/html": [
       "<div>\n",
       "<table border=\"1\" class=\"dataframe\">\n",
       "  <thead>\n",
       "    <tr style=\"text-align: right;\">\n",
       "      <th></th>\n",
       "      <th>betweenness centrality</th>\n",
       "      <th>degree centrality</th>\n",
       "      <th>closeness centrality</th>\n",
       "      <th>eigenvalues centrality</th>\n",
       "      <th>ratio</th>\n",
       "    </tr>\n",
       "  </thead>\n",
       "  <tbody>\n",
       "    <tr>\n",
       "      <th>STAT1</th>\n",
       "      <td>1.000000</td>\n",
       "      <td>0.529412</td>\n",
       "      <td>1.000000</td>\n",
       "      <td>0.138775</td>\n",
       "      <td>3.741453</td>\n",
       "    </tr>\n",
       "    <tr>\n",
       "      <th>SQSTM</th>\n",
       "      <td>0.848087</td>\n",
       "      <td>1.000000</td>\n",
       "      <td>0.922581</td>\n",
       "      <td>1.000000</td>\n",
       "      <td>1.679864</td>\n",
       "    </tr>\n",
       "    <tr>\n",
       "      <th>BRCA2</th>\n",
       "      <td>0.636208</td>\n",
       "      <td>0.705882</td>\n",
       "      <td>0.725888</td>\n",
       "      <td>0.025952</td>\n",
       "      <td>1.785256</td>\n",
       "    </tr>\n",
       "    <tr>\n",
       "      <th>FANCE</th>\n",
       "      <td>0.593946</td>\n",
       "      <td>0.117647</td>\n",
       "      <td>0.846154</td>\n",
       "      <td>0.039481</td>\n",
       "      <td>10.000000</td>\n",
       "    </tr>\n",
       "    <tr>\n",
       "      <th>KS6B1</th>\n",
       "      <td>0.534552</td>\n",
       "      <td>0.117647</td>\n",
       "      <td>0.934641</td>\n",
       "      <td>0.272935</td>\n",
       "      <td>9.000000</td>\n",
       "    </tr>\n",
       "    <tr>\n",
       "      <th>MK01</th>\n",
       "      <td>0.350086</td>\n",
       "      <td>0.235294</td>\n",
       "      <td>0.781421</td>\n",
       "      <td>0.304284</td>\n",
       "      <td>2.947115</td>\n",
       "    </tr>\n",
       "    <tr>\n",
       "      <th>STAT3</th>\n",
       "      <td>0.343804</td>\n",
       "      <td>0.352941</td>\n",
       "      <td>0.826590</td>\n",
       "      <td>0.114827</td>\n",
       "      <td>1.929487</td>\n",
       "    </tr>\n",
       "    <tr>\n",
       "      <th>EP300</th>\n",
       "      <td>0.324957</td>\n",
       "      <td>0.176471</td>\n",
       "      <td>0.836257</td>\n",
       "      <td>0.064726</td>\n",
       "      <td>3.647436</td>\n",
       "    </tr>\n",
       "    <tr>\n",
       "      <th>IKBA</th>\n",
       "      <td>0.171331</td>\n",
       "      <td>0.117647</td>\n",
       "      <td>0.756614</td>\n",
       "      <td>0.035569</td>\n",
       "      <td>2.884615</td>\n",
       "    </tr>\n",
       "    <tr>\n",
       "      <th>SKP1</th>\n",
       "      <td>0.117647</td>\n",
       "      <td>0.176471</td>\n",
       "      <td>0.603376</td>\n",
       "      <td>0.009632</td>\n",
       "      <td>1.320513</td>\n",
       "    </tr>\n",
       "    <tr>\n",
       "      <th>MEF2D</th>\n",
       "      <td>0.059395</td>\n",
       "      <td>0.117647</td>\n",
       "      <td>0.647059</td>\n",
       "      <td>0.016459</td>\n",
       "      <td>1.000000</td>\n",
       "    </tr>\n",
       "    <tr>\n",
       "      <th>BCCIP</th>\n",
       "      <td>0.059395</td>\n",
       "      <td>0.117647</td>\n",
       "      <td>0.578947</td>\n",
       "      <td>0.006599</td>\n",
       "      <td>1.000000</td>\n",
       "    </tr>\n",
       "    <tr>\n",
       "      <th>MP2K4</th>\n",
       "      <td>0.059395</td>\n",
       "      <td>0.117647</td>\n",
       "      <td>0.613734</td>\n",
       "      <td>0.077374</td>\n",
       "      <td>1.000000</td>\n",
       "    </tr>\n",
       "    <tr>\n",
       "      <th>ITAV</th>\n",
       "      <td>0.059395</td>\n",
       "      <td>0.117647</td>\n",
       "      <td>0.613734</td>\n",
       "      <td>0.077374</td>\n",
       "      <td>1.000000</td>\n",
       "    </tr>\n",
       "    <tr>\n",
       "      <th>PGFRA</th>\n",
       "      <td>0.000000</td>\n",
       "      <td>0.058824</td>\n",
       "      <td>0.733333</td>\n",
       "      <td>0.033261</td>\n",
       "      <td>0.000000</td>\n",
       "    </tr>\n",
       "    <tr>\n",
       "      <th>KAT2B</th>\n",
       "      <td>0.000000</td>\n",
       "      <td>0.058824</td>\n",
       "      <td>0.574297</td>\n",
       "      <td>0.006220</td>\n",
       "      <td>0.000000</td>\n",
       "    </tr>\n",
       "    <tr>\n",
       "      <th>UBC</th>\n",
       "      <td>0.000000</td>\n",
       "      <td>0.058824</td>\n",
       "      <td>0.690821</td>\n",
       "      <td>0.239674</td>\n",
       "      <td>0.000000</td>\n",
       "    </tr>\n",
       "    <tr>\n",
       "      <th>HDAC5</th>\n",
       "      <td>0.000000</td>\n",
       "      <td>0.058824</td>\n",
       "      <td>0.523810</td>\n",
       "      <td>0.003945</td>\n",
       "      <td>0.000000</td>\n",
       "    </tr>\n",
       "    <tr>\n",
       "      <th>FUS</th>\n",
       "      <td>0.000000</td>\n",
       "      <td>0.058824</td>\n",
       "      <td>0.690821</td>\n",
       "      <td>0.239674</td>\n",
       "      <td>0.000000</td>\n",
       "    </tr>\n",
       "    <tr>\n",
       "      <th>CBL</th>\n",
       "      <td>0.000000</td>\n",
       "      <td>0.058824</td>\n",
       "      <td>0.635556</td>\n",
       "      <td>0.027521</td>\n",
       "      <td>0.000000</td>\n",
       "    </tr>\n",
       "  </tbody>\n",
       "</table>\n",
       "</div>"
      ],
      "text/plain": [
       "       betweenness centrality  degree centrality  closeness centrality  \\\n",
       "STAT1                1.000000           0.529412              1.000000   \n",
       "SQSTM                0.848087           1.000000              0.922581   \n",
       "BRCA2                0.636208           0.705882              0.725888   \n",
       "FANCE                0.593946           0.117647              0.846154   \n",
       "KS6B1                0.534552           0.117647              0.934641   \n",
       "MK01                 0.350086           0.235294              0.781421   \n",
       "STAT3                0.343804           0.352941              0.826590   \n",
       "EP300                0.324957           0.176471              0.836257   \n",
       "IKBA                 0.171331           0.117647              0.756614   \n",
       "SKP1                 0.117647           0.176471              0.603376   \n",
       "MEF2D                0.059395           0.117647              0.647059   \n",
       "BCCIP                0.059395           0.117647              0.578947   \n",
       "MP2K4                0.059395           0.117647              0.613734   \n",
       "ITAV                 0.059395           0.117647              0.613734   \n",
       "PGFRA                0.000000           0.058824              0.733333   \n",
       "KAT2B                0.000000           0.058824              0.574297   \n",
       "UBC                  0.000000           0.058824              0.690821   \n",
       "HDAC5                0.000000           0.058824              0.523810   \n",
       "FUS                  0.000000           0.058824              0.690821   \n",
       "CBL                  0.000000           0.058824              0.635556   \n",
       "\n",
       "       eigenvalues centrality      ratio  \n",
       "STAT1                0.138775   3.741453  \n",
       "SQSTM                1.000000   1.679864  \n",
       "BRCA2                0.025952   1.785256  \n",
       "FANCE                0.039481  10.000000  \n",
       "KS6B1                0.272935   9.000000  \n",
       "MK01                 0.304284   2.947115  \n",
       "STAT3                0.114827   1.929487  \n",
       "EP300                0.064726   3.647436  \n",
       "IKBA                 0.035569   2.884615  \n",
       "SKP1                 0.009632   1.320513  \n",
       "MEF2D                0.016459   1.000000  \n",
       "BCCIP                0.006599   1.000000  \n",
       "MP2K4                0.077374   1.000000  \n",
       "ITAV                 0.077374   1.000000  \n",
       "PGFRA                0.033261   0.000000  \n",
       "KAT2B                0.006220   0.000000  \n",
       "UBC                  0.239674   0.000000  \n",
       "HDAC5                0.003945   0.000000  \n",
       "FUS                  0.239674   0.000000  \n",
       "CBL                  0.027521   0.000000  "
      ]
     },
     "execution_count": 348,
     "metadata": {},
     "output_type": "execute_result"
    }
   ],
   "source": [
    "lp_i"
   ]
  }
 ],
 "metadata": {
  "anaconda-cloud": {},
  "kernelspec": {
   "display_name": "Python [conda root]",
   "language": "python",
   "name": "conda-root-py"
  },
  "language_info": {
   "codemirror_mode": {
    "name": "ipython",
    "version": 3
   },
   "file_extension": ".py",
   "mimetype": "text/x-python",
   "name": "python",
   "nbconvert_exporter": "python",
   "pygments_lexer": "ipython3",
   "version": "3.5.4"
  }
 },
 "nbformat": 4,
 "nbformat_minor": 2
}
